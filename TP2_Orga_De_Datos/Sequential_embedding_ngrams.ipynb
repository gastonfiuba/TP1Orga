{
 "cells": [
  {
   "cell_type": "code",
   "execution_count": 1,
   "metadata": {
    "colab": {},
    "colab_type": "code",
    "id": "60io8vROVCAq"
   },
   "outputs": [],
   "source": [
    "import pandas as pd\n",
    "import numpy as np"
   ]
  },
  {
   "cell_type": "code",
   "execution_count": 45,
   "metadata": {
    "colab": {},
    "colab_type": "code",
    "id": "aGgqQGxNdslQ"
   },
   "outputs": [],
   "source": [
    "from sklearn.model_selection import KFold\n",
    "from sklearn.model_selection import train_test_split\n",
    "from sklearn.metrics import accuracy_score\n",
    "from sklearn.feature_extraction.text import CountVectorizer\n",
    "import gensim.downloader as api\n",
    "import string\n",
    "import nltk\n",
    "from nltk import word_tokenize\n",
    "from nltk.util import ngrams\n",
    "from nltk.stem.porter import *\n"
   ]
  },
  {
   "cell_type": "code",
   "execution_count": 3,
   "metadata": {
    "colab": {},
    "colab_type": "code",
    "id": "nxlnNqVdhgEX"
   },
   "outputs": [],
   "source": [
    "import tensorflow as tf\n",
    "from tensorflow import keras\n",
    "from tensorflow.keras import layers\n",
    "from keras import models\n",
    "from keras.models import Sequential, Model\n",
    "from keras.layers import Dense, Dropout, Embedding, Conv1D, MaxPooling1D, Flatten, Input, Bidirectional, Activation\n",
    "from tensorflow.keras.preprocessing import sequence\n",
    "from keras.preprocessing.text import one_hot\n",
    "from keras.preprocessing.sequence import pad_sequences\n",
    "from keras.callbacks import EarlyStopping\n",
    "from keras.layers import LSTM"
   ]
  },
  {
   "cell_type": "code",
   "execution_count": 4,
   "metadata": {
    "colab": {
     "base_uri": "https://localhost:8080/",
     "height": 115,
     "resources": {
      "http://localhost:8080/nbextensions/google.colab/files.js": {
       "data": "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",
       "headers": [
        [
         "content-type",
         "application/javascript"
        ]
       ],
       "ok": true,
       "status": 200,
       "status_text": "OK"
      }
     }
    },
    "colab_type": "code",
    "id": "t8G7z2EPxEo2",
    "outputId": "c7838542-f708-4a0e-db76-8a0f09c138f2"
   },
   "outputs": [
    {
     "data": {
      "text/html": [
       "\n",
       "     <input type=\"file\" id=\"files-12cad50c-297f-472d-9014-04da2a69365c\" name=\"files[]\" multiple disabled\n",
       "        style=\"border:none\" />\n",
       "     <output id=\"result-12cad50c-297f-472d-9014-04da2a69365c\">\n",
       "      Upload widget is only available when the cell has been executed in the\n",
       "      current browser session. Please rerun this cell to enable.\n",
       "      </output>\n",
       "      <script src=\"/nbextensions/google.colab/files.js\"></script> "
      ],
      "text/plain": [
       "<IPython.core.display.HTML object>"
      ]
     },
     "metadata": {
      "tags": []
     },
     "output_type": "display_data"
    },
    {
     "name": "stdout",
     "output_type": "stream",
     "text": [
      "Saving test_df.csv to test_df.csv\n",
      "Saving entrenamiento_df.csv to entrenamiento_df.csv\n"
     ]
    }
   ],
   "source": [
    "from google.colab import files\n",
    "data_to_load = files.upload()"
   ]
  },
  {
   "cell_type": "code",
   "execution_count": 5,
   "metadata": {
    "colab": {},
    "colab_type": "code",
    "id": "GDtwttfbZlUr"
   },
   "outputs": [],
   "source": [
    "entrenamiento_df = pd.read_csv('entrenamiento_df.csv')\n",
    "test_df = pd.read_csv('test_df.csv')"
   ]
  },
  {
   "cell_type": "code",
   "execution_count": 6,
   "metadata": {
    "colab": {
     "base_uri": "https://localhost:8080/",
     "height": 52
    },
    "colab_type": "code",
    "id": "b7qQ9c248mV6",
    "outputId": "d68cb1d7-85d1-4035-c5b8-f0b68136c6b3"
   },
   "outputs": [
    {
     "name": "stdout",
     "output_type": "stream",
     "text": [
      "[nltk_data] Downloading package stopwords to /root/nltk_data...\n",
      "[nltk_data]   Unzipping corpora/stopwords.zip.\n"
     ]
    }
   ],
   "source": [
    "nltk.download('stopwords')\n",
    "stopwords = nltk.corpus.stopwords.words('english')"
   ]
  },
  {
   "cell_type": "code",
   "execution_count": 7,
   "metadata": {
    "colab": {
     "base_uri": "https://localhost:8080/",
     "height": 69
    },
    "colab_type": "code",
    "id": "IVxxxdr0XPQ7",
    "outputId": "75f349a6-33ea-492e-b46e-8e2f92914eb7"
   },
   "outputs": [
    {
     "name": "stdout",
     "output_type": "stream",
     "text": [
      "[nltk_data] Downloading package punkt to /root/nltk_data...\n",
      "[nltk_data]   Unzipping tokenizers/punkt.zip.\n"
     ]
    },
    {
     "data": {
      "text/plain": [
       "True"
      ]
     },
     "execution_count": 7,
     "metadata": {
      "tags": []
     },
     "output_type": "execute_result"
    }
   ],
   "source": [
    "nltk.download('punkt')"
   ]
  },
  {
   "cell_type": "code",
   "execution_count": 8,
   "metadata": {
    "colab": {},
    "colab_type": "code",
    "id": "qBKXV9kp8mji"
   },
   "outputs": [],
   "source": [
    "def remove_url(text):\n",
    "    url = re.compile(r'https?://\\S+|www\\.\\S+')\n",
    "    return url.sub(r'',text)\n",
    "\n",
    "def remove_html(text):\n",
    "    html = re.compile(r'<.*?>')\n",
    "    return html.sub(r'',text)\n",
    "\n",
    "def remove_emoji(text):\n",
    "    emoji_pattern = re.compile(\"[\"\n",
    "                           u\"\\U0001F600-\\U0001F64F\"  # emoticons\n",
    "                           u\"\\U0001F300-\\U0001F5FF\"  # symbols & pictographs\n",
    "                           u\"\\U0001F680-\\U0001F6FF\"  # transport & map symbols\n",
    "                           u\"\\U0001F1E0-\\U0001F1FF\"  # flags (iOS)\n",
    "                           u\"\\U00002702-\\U000027B0\"\n",
    "                           u\"\\U000024C2-\\U0001F251\"\n",
    "                           \"]+\", flags=re.UNICODE)\n",
    "    return emoji_pattern.sub(r'', text)\n",
    "\n",
    "def remove_punc(text):\n",
    "    table = str.maketrans('','',string.punctuation)\n",
    "    return text.translate(table)"
   ]
  },
  {
   "cell_type": "code",
   "execution_count": 9,
   "metadata": {
    "colab": {},
    "colab_type": "code",
    "id": "pKa0t6ga8moU"
   },
   "outputs": [],
   "source": [
    "slang_abbrev_dict = {\n",
    "    'AFAIK': 'As Far As I Know',\n",
    "    'AFK': 'Away From Keyboard',\n",
    "    'ASAP': 'As Soon As Possible',\n",
    "    'ATK': 'At The Keyboard',\n",
    "    'ATM': 'At The Moment',\n",
    "    'A3': 'Anytime, Anywhere, Anyplace',\n",
    "    'BAK': 'Back At Keyboard',\n",
    "    'BBL': 'Be Back Later',\n",
    "    'BBS': 'Be Back Soon',\n",
    "    'BFN': 'Bye For Now',\n",
    "    'B4N': 'Bye For Now',\n",
    "    'BRB': 'Be Right Back',\n",
    "    'BRT': 'Be Right There',\n",
    "    'BTW': 'By The Way',\n",
    "    'B4': 'Before',\n",
    "    'B4N': 'Bye For Now',\n",
    "    'CU': 'See You',\n",
    "    'CUL8R': 'See You Later',\n",
    "    'CYA': 'See You',\n",
    "    'FAQ': 'Frequently Asked Questions',\n",
    "    'FC': 'Fingers Crossed',\n",
    "    'FWIW': 'For What It\\'s Worth',\n",
    "    'FYI': 'For Your Information',\n",
    "    'GAL': 'Get A Life',\n",
    "    'GG': 'Good Game',\n",
    "    'GN': 'Good Night',\n",
    "    'GMTA': 'Great Minds Think Alike',\n",
    "    'GR8': 'Great!',\n",
    "    'G9': 'Genius',\n",
    "    'IC': 'I See',\n",
    "    'ICQ': 'I Seek you',\n",
    "    'ILU': 'I Love You',\n",
    "    'IMHO': 'In My Humble Opinion',\n",
    "    'IMO': 'In My Opinion',\n",
    "    'IOW': 'In Other Words',\n",
    "    'IRL': 'In Real Life',\n",
    "    'KISS': 'Keep It Simple, Stupid',\n",
    "    'LDR': 'Long Distance Relationship',\n",
    "    'LMAO': 'Laugh My Ass Off',\n",
    "    'LOL': 'Laughing Out Loud',\n",
    "    'LTNS': 'Long Time No See',\n",
    "    'L8R': 'Later',\n",
    "    'MTE': 'My Thoughts Exactly',\n",
    "    'M8': 'Mate',\n",
    "    'NRN': 'No Reply Necessary',\n",
    "    'OIC': 'Oh I See',\n",
    "    'OMG': 'Oh My God',\n",
    "    'PITA': 'Pain In The Ass',\n",
    "    'PRT': 'Party',\n",
    "    'PRW': 'Parents Are Watching',\n",
    "    'QPSA?': 'Que Pasa?',\n",
    "    'ROFL': 'Rolling On The Floor Laughing',\n",
    "    'ROFLOL': 'Rolling On The Floor Laughing Out Loud',\n",
    "    'ROTFLMAO': 'Rolling On The Floor Laughing My Ass Off',\n",
    "    'SK8': 'Skate',\n",
    "    'STATS': 'Your sex and age',\n",
    "    'ASL': 'Age, Sex, Location',\n",
    "    'THX': 'Thank You',\n",
    "    'TTFN': 'Ta-Ta For Now!',\n",
    "    'TTYL': 'Talk To You Later',\n",
    "    'U': 'You',\n",
    "    'U2': 'You Too',\n",
    "    'U4E': 'Yours For Ever',\n",
    "    'WB': 'Welcome Back',\n",
    "    'WTF': 'What The Fuck',\n",
    "    'WTG': 'Way To Go!',\n",
    "    'WUF': 'Where Are You From?',\n",
    "    'W8': 'Wait',\n",
    "    '7K': 'Sick:-D Laugher'\n",
    "}\n",
    "\n",
    "def unslang(text):\n",
    "    if text.upper() in slang_abbrev_dict.keys():\n",
    "        return slang_abbrev_dict[text.upper()]\n",
    "    else:\n",
    "        return text"
   ]
  },
  {
   "cell_type": "code",
   "execution_count": 10,
   "metadata": {
    "colab": {},
    "colab_type": "code",
    "id": "TDw6zHKz8mru"
   },
   "outputs": [],
   "source": [
    "def tokenization(text):\n",
    "    text = re.split('\\W+', text)\n",
    "    return text\n",
    "\n",
    "stemmer = PorterStemmer()\n",
    "\n",
    "def remove_stopwords(text):\n",
    "    text = [word for word in text if word not in stopwords]\n",
    "    return text\n",
    "\n",
    "def stemming(text):\n",
    "    text = [stemmer.stem(word) for word in text]\n",
    "    return text"
   ]
  },
  {
   "cell_type": "code",
   "execution_count": 11,
   "metadata": {
    "colab": {
     "base_uri": "https://localhost:8080/",
     "height": 424
    },
    "colab_type": "code",
    "id": "-dz4roZ58mxx",
    "outputId": "6e453a72-105e-4282-843b-0d080378be33"
   },
   "outputs": [
    {
     "data": {
      "text/html": [
       "<div>\n",
       "<style scoped>\n",
       "    .dataframe tbody tr th:only-of-type {\n",
       "        vertical-align: middle;\n",
       "    }\n",
       "\n",
       "    .dataframe tbody tr th {\n",
       "        vertical-align: top;\n",
       "    }\n",
       "\n",
       "    .dataframe thead th {\n",
       "        text-align: right;\n",
       "    }\n",
       "</style>\n",
       "<table border=\"1\" class=\"dataframe\">\n",
       "  <thead>\n",
       "    <tr style=\"text-align: right;\">\n",
       "      <th></th>\n",
       "      <th>id</th>\n",
       "      <th>keyword</th>\n",
       "      <th>location</th>\n",
       "      <th>text</th>\n",
       "      <th>target</th>\n",
       "      <th>cleaned_text</th>\n",
       "    </tr>\n",
       "  </thead>\n",
       "  <tbody>\n",
       "    <tr>\n",
       "      <th>0</th>\n",
       "      <td>1</td>\n",
       "      <td>NaN</td>\n",
       "      <td>NaN</td>\n",
       "      <td>Our Deeds are the Reason of this #earthquake M...</td>\n",
       "      <td>1</td>\n",
       "      <td>deed reason earthquak may allah forgiv us</td>\n",
       "    </tr>\n",
       "    <tr>\n",
       "      <th>1</th>\n",
       "      <td>4</td>\n",
       "      <td>NaN</td>\n",
       "      <td>NaN</td>\n",
       "      <td>Forest fire near La Ronge Sask. Canada</td>\n",
       "      <td>1</td>\n",
       "      <td>forest fire near la rong sask canada</td>\n",
       "    </tr>\n",
       "    <tr>\n",
       "      <th>2</th>\n",
       "      <td>5</td>\n",
       "      <td>NaN</td>\n",
       "      <td>NaN</td>\n",
       "      <td>All residents asked to 'shelter in place' are ...</td>\n",
       "      <td>1</td>\n",
       "      <td>resid ask shelter place notifi offic evacu she...</td>\n",
       "    </tr>\n",
       "    <tr>\n",
       "      <th>3</th>\n",
       "      <td>6</td>\n",
       "      <td>NaN</td>\n",
       "      <td>NaN</td>\n",
       "      <td>13,000 people receive #wildfires evacuation or...</td>\n",
       "      <td>1</td>\n",
       "      <td>13000 peopl receiv wildfir evacu order califor...</td>\n",
       "    </tr>\n",
       "    <tr>\n",
       "      <th>4</th>\n",
       "      <td>7</td>\n",
       "      <td>NaN</td>\n",
       "      <td>NaN</td>\n",
       "      <td>Just got sent this photo from Ruby #Alaska as ...</td>\n",
       "      <td>1</td>\n",
       "      <td>got sent photo rubi alaska smoke wildfir pour ...</td>\n",
       "    </tr>\n",
       "    <tr>\n",
       "      <th>...</th>\n",
       "      <td>...</td>\n",
       "      <td>...</td>\n",
       "      <td>...</td>\n",
       "      <td>...</td>\n",
       "      <td>...</td>\n",
       "      <td>...</td>\n",
       "    </tr>\n",
       "    <tr>\n",
       "      <th>7608</th>\n",
       "      <td>10869</td>\n",
       "      <td>NaN</td>\n",
       "      <td>NaN</td>\n",
       "      <td>Two giant cranes holding a bridge collapse int...</td>\n",
       "      <td>1</td>\n",
       "      <td>two giant crane hold bridg collaps nearbi home</td>\n",
       "    </tr>\n",
       "    <tr>\n",
       "      <th>7609</th>\n",
       "      <td>10870</td>\n",
       "      <td>NaN</td>\n",
       "      <td>NaN</td>\n",
       "      <td>@aria_ahrary @TheTawniest The out of control w...</td>\n",
       "      <td>1</td>\n",
       "      <td>ariaahrari thetawniest control wild fire calif...</td>\n",
       "    </tr>\n",
       "    <tr>\n",
       "      <th>7610</th>\n",
       "      <td>10871</td>\n",
       "      <td>NaN</td>\n",
       "      <td>NaN</td>\n",
       "      <td>M1.94 [01:04 UTC]?5km S of Volcano Hawaii. htt...</td>\n",
       "      <td>1</td>\n",
       "      <td>m194 0104 utc5km volcano hawaii</td>\n",
       "    </tr>\n",
       "    <tr>\n",
       "      <th>7611</th>\n",
       "      <td>10872</td>\n",
       "      <td>NaN</td>\n",
       "      <td>NaN</td>\n",
       "      <td>Police investigating after an e-bike collided ...</td>\n",
       "      <td>1</td>\n",
       "      <td>polic investig ebik collid car littl portug eb...</td>\n",
       "    </tr>\n",
       "    <tr>\n",
       "      <th>7612</th>\n",
       "      <td>10873</td>\n",
       "      <td>NaN</td>\n",
       "      <td>NaN</td>\n",
       "      <td>The Latest: More Homes Razed by Northern Calif...</td>\n",
       "      <td>1</td>\n",
       "      <td>latest home raze northern california wildfir a...</td>\n",
       "    </tr>\n",
       "  </tbody>\n",
       "</table>\n",
       "<p>7613 rows × 6 columns</p>\n",
       "</div>"
      ],
      "text/plain": [
       "         id keyword  ... target                                       cleaned_text\n",
       "0         1     NaN  ...      1          deed reason earthquak may allah forgiv us\n",
       "1         4     NaN  ...      1               forest fire near la rong sask canada\n",
       "2         5     NaN  ...      1  resid ask shelter place notifi offic evacu she...\n",
       "3         6     NaN  ...      1  13000 peopl receiv wildfir evacu order califor...\n",
       "4         7     NaN  ...      1  got sent photo rubi alaska smoke wildfir pour ...\n",
       "...     ...     ...  ...    ...                                                ...\n",
       "7608  10869     NaN  ...      1    two giant crane hold bridg collaps nearbi home \n",
       "7609  10870     NaN  ...      1  ariaahrari thetawniest control wild fire calif...\n",
       "7610  10871     NaN  ...      1                   m194 0104 utc5km volcano hawaii \n",
       "7611  10872     NaN  ...      1  polic investig ebik collid car littl portug eb...\n",
       "7612  10873     NaN  ...      1  latest home raze northern california wildfir a...\n",
       "\n",
       "[7613 rows x 6 columns]"
      ]
     },
     "execution_count": 11,
     "metadata": {
      "tags": []
     },
     "output_type": "execute_result"
    }
   ],
   "source": [
    "for datas in [entrenamiento_df, test_df]:\n",
    "    datas['cleaned_text'] = datas['text'].apply(lambda x : remove_url(x))\n",
    "    datas['cleaned_text'] = datas['cleaned_text'].apply(lambda x : remove_html(x))\n",
    "    datas['cleaned_text'] = datas['cleaned_text'].apply(lambda x : remove_emoji(x))\n",
    "    datas['cleaned_text'] = datas['cleaned_text'].apply(lambda x : unslang(x))\n",
    "    datas['cleaned_text'] = datas['cleaned_text'].apply(lambda x : remove_punc(x))\n",
    "    datas['cleaned_text'] = datas['cleaned_text'].apply(lambda x : tokenization(x.lower()))\n",
    "    datas['cleaned_text'] = datas['cleaned_text'].apply(lambda x : remove_stopwords(x))\n",
    "    datas['cleaned_text'] = datas['cleaned_text'].apply(lambda x : stemming(x))\n",
    "    datas['cleaned_text'] = datas['cleaned_text'].apply(lambda x : ' '.join(x))\n",
    "\n",
    "entrenamiento_df"
   ]
  },
  {
   "cell_type": "code",
   "execution_count": 12,
   "metadata": {
    "colab": {
     "base_uri": "https://localhost:8080/",
     "height": 424
    },
    "colab_type": "code",
    "id": "ZFywu-Bw8mwX",
    "outputId": "6b174242-242a-4601-9663-ade332b00658"
   },
   "outputs": [
    {
     "data": {
      "text/html": [
       "<div>\n",
       "<style scoped>\n",
       "    .dataframe tbody tr th:only-of-type {\n",
       "        vertical-align: middle;\n",
       "    }\n",
       "\n",
       "    .dataframe tbody tr th {\n",
       "        vertical-align: top;\n",
       "    }\n",
       "\n",
       "    .dataframe thead th {\n",
       "        text-align: right;\n",
       "    }\n",
       "</style>\n",
       "<table border=\"1\" class=\"dataframe\">\n",
       "  <thead>\n",
       "    <tr style=\"text-align: right;\">\n",
       "      <th></th>\n",
       "      <th>id</th>\n",
       "      <th>keyword</th>\n",
       "      <th>location</th>\n",
       "      <th>text</th>\n",
       "      <th>cleaned_text</th>\n",
       "    </tr>\n",
       "  </thead>\n",
       "  <tbody>\n",
       "    <tr>\n",
       "      <th>0</th>\n",
       "      <td>0</td>\n",
       "      <td>NaN</td>\n",
       "      <td>NaN</td>\n",
       "      <td>Just happened a terrible car crash</td>\n",
       "      <td>happen terribl car crash</td>\n",
       "    </tr>\n",
       "    <tr>\n",
       "      <th>1</th>\n",
       "      <td>2</td>\n",
       "      <td>NaN</td>\n",
       "      <td>NaN</td>\n",
       "      <td>Heard about #earthquake is different cities, s...</td>\n",
       "      <td>heard earthquak differ citi stay safe everyon</td>\n",
       "    </tr>\n",
       "    <tr>\n",
       "      <th>2</th>\n",
       "      <td>3</td>\n",
       "      <td>NaN</td>\n",
       "      <td>NaN</td>\n",
       "      <td>there is a forest fire at spot pond, geese are...</td>\n",
       "      <td>forest fire spot pond gees flee across street ...</td>\n",
       "    </tr>\n",
       "    <tr>\n",
       "      <th>3</th>\n",
       "      <td>9</td>\n",
       "      <td>NaN</td>\n",
       "      <td>NaN</td>\n",
       "      <td>Apocalypse lighting. #Spokane #wildfires</td>\n",
       "      <td>apocalyps light spokan wildfir</td>\n",
       "    </tr>\n",
       "    <tr>\n",
       "      <th>4</th>\n",
       "      <td>11</td>\n",
       "      <td>NaN</td>\n",
       "      <td>NaN</td>\n",
       "      <td>Typhoon Soudelor kills 28 in China and Taiwan</td>\n",
       "      <td>typhoon soudelor kill 28 china taiwan</td>\n",
       "    </tr>\n",
       "    <tr>\n",
       "      <th>...</th>\n",
       "      <td>...</td>\n",
       "      <td>...</td>\n",
       "      <td>...</td>\n",
       "      <td>...</td>\n",
       "      <td>...</td>\n",
       "    </tr>\n",
       "    <tr>\n",
       "      <th>3258</th>\n",
       "      <td>10861</td>\n",
       "      <td>NaN</td>\n",
       "      <td>NaN</td>\n",
       "      <td>EARTHQUAKE SAFETY LOS ANGELES ÛÒ SAFETY FASTE...</td>\n",
       "      <td>earthquak safeti lo angel ûò safeti fasten xrwn</td>\n",
       "    </tr>\n",
       "    <tr>\n",
       "      <th>3259</th>\n",
       "      <td>10865</td>\n",
       "      <td>NaN</td>\n",
       "      <td>NaN</td>\n",
       "      <td>Storm in RI worse than last hurricane. My city...</td>\n",
       "      <td>storm ri wors last hurrican cityamp3oth hardes...</td>\n",
       "    </tr>\n",
       "    <tr>\n",
       "      <th>3260</th>\n",
       "      <td>10868</td>\n",
       "      <td>NaN</td>\n",
       "      <td>NaN</td>\n",
       "      <td>Green Line derailment in Chicago http://t.co/U...</td>\n",
       "      <td>green line derail chicago</td>\n",
       "    </tr>\n",
       "    <tr>\n",
       "      <th>3261</th>\n",
       "      <td>10874</td>\n",
       "      <td>NaN</td>\n",
       "      <td>NaN</td>\n",
       "      <td>MEG issues Hazardous Weather Outlook (HWO) htt...</td>\n",
       "      <td>meg issu hazard weather outlook hwo</td>\n",
       "    </tr>\n",
       "    <tr>\n",
       "      <th>3262</th>\n",
       "      <td>10875</td>\n",
       "      <td>NaN</td>\n",
       "      <td>NaN</td>\n",
       "      <td>#CityofCalgary has activated its Municipal Eme...</td>\n",
       "      <td>cityofcalgari activ municip emerg plan yycstorm</td>\n",
       "    </tr>\n",
       "  </tbody>\n",
       "</table>\n",
       "<p>3263 rows × 5 columns</p>\n",
       "</div>"
      ],
      "text/plain": [
       "         id  ...                                       cleaned_text\n",
       "0         0  ...                           happen terribl car crash\n",
       "1         2  ...      heard earthquak differ citi stay safe everyon\n",
       "2         3  ...  forest fire spot pond gees flee across street ...\n",
       "3         9  ...                     apocalyps light spokan wildfir\n",
       "4        11  ...              typhoon soudelor kill 28 china taiwan\n",
       "...     ...  ...                                                ...\n",
       "3258  10861  ...    earthquak safeti lo angel ûò safeti fasten xrwn\n",
       "3259  10865  ...  storm ri wors last hurrican cityamp3oth hardes...\n",
       "3260  10868  ...                         green line derail chicago \n",
       "3261  10874  ...               meg issu hazard weather outlook hwo \n",
       "3262  10875  ...    cityofcalgari activ municip emerg plan yycstorm\n",
       "\n",
       "[3263 rows x 5 columns]"
      ]
     },
     "execution_count": 12,
     "metadata": {
      "tags": []
     },
     "output_type": "execute_result"
    }
   ],
   "source": [
    "test_df"
   ]
  },
  {
   "cell_type": "code",
   "execution_count": 13,
   "metadata": {
    "colab": {
     "base_uri": "https://localhost:8080/",
     "height": 34
    },
    "colab_type": "code",
    "id": "hBKOGYVQHBOb",
    "outputId": "4cdd468d-ae6b-42d2-d382-43aba0f58afb"
   },
   "outputs": [
    {
     "data": {
      "text/plain": [
       "18487"
      ]
     },
     "execution_count": 13,
     "metadata": {
      "tags": []
     },
     "output_type": "execute_result"
    }
   ],
   "source": [
    "# Creo un diccionario de palabras para poder contar las palabras\n",
    "dic_palabras = {}\n",
    "for texto in entrenamiento_df['cleaned_text']:\n",
    "  for elem in texto.split():\n",
    "    dic_palabras[elem] = 1\n",
    "for texto in test_df['cleaned_text']:\n",
    "  for elem in texto.split():\n",
    "    dic_palabras[elem] = 1\n",
    "vocab_size = len(dic_palabras) + 1\n",
    "vocab_size"
   ]
  },
  {
   "cell_type": "code",
   "execution_count": 14,
   "metadata": {
    "colab": {},
    "colab_type": "code",
    "id": "Q-toIUfHJ7s9"
   },
   "outputs": [],
   "source": [
    "# A cada palabra del texto le asigno un número fijo\n",
    "train_encoded = [one_hot(texto, vocab_size) for texto in entrenamiento_df['cleaned_text']]\n",
    "test_encoded = [one_hot(texto, vocab_size) for texto in test_df['cleaned_text']]"
   ]
  },
  {
   "cell_type": "code",
   "execution_count": 15,
   "metadata": {
    "colab": {
     "base_uri": "https://localhost:8080/",
     "height": 34
    },
    "colab_type": "code",
    "id": "qCOpPpIIL2Nj",
    "outputId": "df8cf928-1416-4ce9-f86d-3da28abcbe49"
   },
   "outputs": [
    {
     "data": {
      "text/plain": [
       "25"
      ]
     },
     "execution_count": 15,
     "metadata": {
      "tags": []
     },
     "output_type": "execute_result"
    }
   ],
   "source": [
    "max_len = 1\n",
    "for texto in entrenamiento_df['cleaned_text']:\n",
    "  if (max_len < len(texto.split())):\n",
    "    max_len = len(texto.split())\n",
    "max_len"
   ]
  },
  {
   "cell_type": "code",
   "execution_count": 16,
   "metadata": {
    "colab": {},
    "colab_type": "code",
    "id": "3pK6d3J8LDF9"
   },
   "outputs": [],
   "source": [
    "train_padded = pad_sequences(train_encoded, maxlen=max_len, padding='post')\n",
    "test_padded = pad_sequences(test_encoded, maxlen=max_len, padding='post')"
   ]
  },
  {
   "cell_type": "code",
   "execution_count": 17,
   "metadata": {
    "colab": {},
    "colab_type": "code",
    "id": "-A5Yjr8hOBYl"
   },
   "outputs": [],
   "source": [
    "y = entrenamiento_df['target']"
   ]
  },
  {
   "cell_type": "code",
   "execution_count": 18,
   "metadata": {
    "colab": {},
    "colab_type": "code",
    "id": "W70kZ9rtI_DA"
   },
   "outputs": [],
   "source": [
    "batch_size = 100\n",
    "embedding_dims = 10\n",
    "filters = 16\n",
    "kernel_size = 3\n",
    "hidden_dims = 250\n",
    "epochs = 10"
   ]
  },
  {
   "cell_type": "code",
   "execution_count": 19,
   "metadata": {
    "colab": {},
    "colab_type": "code",
    "id": "Dp3ED1FjIPez"
   },
   "outputs": [],
   "source": [
    "model = Sequential()\n",
    "model.add(Embedding(vocab_size, embedding_dims, input_length=max_len))\n",
    "model.add(Dropout(0.5))\n",
    "model.add(Conv1D(filters, kernel_size, padding='valid', activation='relu'))\n",
    "model.add(MaxPooling1D())\n",
    "model.add(Conv1D(filters, kernel_size, padding='valid', activation='relu'))\n",
    "model.add(MaxPooling1D())\n",
    "model.add(Flatten())\n",
    "model.add(Dense(hidden_dims, activation='relu'))\n",
    "model.add(Dropout(0.5))\n",
    "model.add(Dense(1, activation='sigmoid'))"
   ]
  },
  {
   "cell_type": "code",
   "execution_count": 20,
   "metadata": {
    "colab": {},
    "colab_type": "code",
    "id": "APjtZtKg5ZhJ"
   },
   "outputs": [],
   "source": [
    "model.compile(loss='binary_crossentropy', optimizer='adam', metrics=['accuracy'])"
   ]
  },
  {
   "cell_type": "code",
   "execution_count": 21,
   "metadata": {
    "colab": {
     "base_uri": "https://localhost:8080/",
     "height": 382
    },
    "colab_type": "code",
    "id": "pcSfxErVJWwq",
    "outputId": "ecd34c15-beb8-4026-f1c1-646c3b8ca15a"
   },
   "outputs": [
    {
     "name": "stdout",
     "output_type": "stream",
     "text": [
      "Epoch 1/10\n",
      "77/77 [==============================] - 1s 8ms/step - loss: 0.6787 - accuracy: 0.5703\n",
      "Epoch 2/10\n",
      "77/77 [==============================] - 1s 8ms/step - loss: 0.5613 - accuracy: 0.7164\n",
      "Epoch 3/10\n",
      "77/77 [==============================] - 1s 8ms/step - loss: 0.4139 - accuracy: 0.8231\n",
      "Epoch 4/10\n",
      "77/77 [==============================] - 1s 8ms/step - loss: 0.3445 - accuracy: 0.8595\n",
      "Epoch 5/10\n",
      "77/77 [==============================] - 1s 8ms/step - loss: 0.2862 - accuracy: 0.8862\n",
      "Epoch 6/10\n",
      "77/77 [==============================] - 1s 9ms/step - loss: 0.2618 - accuracy: 0.8937\n",
      "Epoch 7/10\n",
      "77/77 [==============================] - 1s 8ms/step - loss: 0.2318 - accuracy: 0.9091\n",
      "Epoch 8/10\n",
      "77/77 [==============================] - 1s 8ms/step - loss: 0.1971 - accuracy: 0.9222\n",
      "Epoch 9/10\n",
      "77/77 [==============================] - 1s 8ms/step - loss: 0.1835 - accuracy: 0.9306\n",
      "Epoch 10/10\n",
      "77/77 [==============================] - 1s 8ms/step - loss: 0.1628 - accuracy: 0.9389\n"
     ]
    },
    {
     "data": {
      "text/plain": [
       "<tensorflow.python.keras.callbacks.History at 0x7f88c9765f60>"
      ]
     },
     "execution_count": 21,
     "metadata": {
      "tags": []
     },
     "output_type": "execute_result"
    }
   ],
   "source": [
    "model.fit(train_padded, y, batch_size=batch_size, epochs=epochs)"
   ]
  },
  {
   "cell_type": "code",
   "execution_count": 22,
   "metadata": {
    "colab": {
     "base_uri": "https://localhost:8080/",
     "height": 521
    },
    "colab_type": "code",
    "id": "t7hwEs9iSSUd",
    "outputId": "4c5d6392-66a1-41db-c7ad-e650ab39cd3b"
   },
   "outputs": [
    {
     "name": "stdout",
     "output_type": "stream",
     "text": [
      "Model: \"sequential\"\n",
      "_________________________________________________________________\n",
      "Layer (type)                 Output Shape              Param #   \n",
      "=================================================================\n",
      "embedding (Embedding)        (None, 25, 10)            184870    \n",
      "_________________________________________________________________\n",
      "dropout (Dropout)            (None, 25, 10)            0         \n",
      "_________________________________________________________________\n",
      "conv1d (Conv1D)              (None, 23, 16)            496       \n",
      "_________________________________________________________________\n",
      "max_pooling1d (MaxPooling1D) (None, 11, 16)            0         \n",
      "_________________________________________________________________\n",
      "conv1d_1 (Conv1D)            (None, 9, 16)             784       \n",
      "_________________________________________________________________\n",
      "max_pooling1d_1 (MaxPooling1 (None, 4, 16)             0         \n",
      "_________________________________________________________________\n",
      "flatten (Flatten)            (None, 64)                0         \n",
      "_________________________________________________________________\n",
      "dense (Dense)                (None, 250)               16250     \n",
      "_________________________________________________________________\n",
      "dropout_1 (Dropout)          (None, 250)               0         \n",
      "_________________________________________________________________\n",
      "dense_1 (Dense)              (None, 1)                 251       \n",
      "=================================================================\n",
      "Total params: 202,651\n",
      "Trainable params: 202,651\n",
      "Non-trainable params: 0\n",
      "_________________________________________________________________\n",
      "None\n"
     ]
    }
   ],
   "source": [
    "print(model.summary())"
   ]
  },
  {
   "cell_type": "code",
   "execution_count": 23,
   "metadata": {
    "colab": {
     "base_uri": "https://localhost:8080/",
     "height": 1000
    },
    "colab_type": "code",
    "id": "ywZbt-vgmBIn",
    "outputId": "db1f9e5f-2a39-4b08-ba8a-4733f2b48a38"
   },
   "outputs": [
    {
     "data": {
      "image/png": "[encoded data removed]",
      "text/plain": [
       "<IPython.core.display.Image object>"
      ]
     },
     "execution_count": 23,
     "metadata": {
      "tags": []
     },
     "output_type": "execute_result"
    }
   ],
   "source": [
    "from keras.utils.vis_utils import plot_model\n",
    "plot_model(model, show_shapes=True, show_layer_names=True)"
   ]
  },
  {
   "cell_type": "code",
   "execution_count": 24,
   "metadata": {
    "colab": {},
    "colab_type": "code",
    "id": "i6M8d2EaQ3np"
   },
   "outputs": [],
   "source": [
    "kf = KFold(n_splits=3, random_state=123, shuffle=True)"
   ]
  },
  {
   "cell_type": "markdown",
   "metadata": {
    "colab_type": "text",
    "id": "_55flhUuQdxw"
   },
   "source": [
    "Pruebo valores diferentes para los parámetros"
   ]
  },
  {
   "cell_type": "code",
   "execution_count": 25,
   "metadata": {
    "colab": {
     "base_uri": "https://localhost:8080/",
     "height": 69
    },
    "colab_type": "code",
    "id": "c01VX-UZG4RN",
    "outputId": "64abdde0-94b0-4988-e6cf-30c37a292612"
   },
   "outputs": [
    {
     "name": "stdout",
     "output_type": "stream",
     "text": [
      "Accuracy: 0.760047\n",
      "Accuracy: 0.734831\n",
      "Accuracy: 0.762318\n"
     ]
    }
   ],
   "source": [
    "for train_index, test_index in kf.split(train_padded):\n",
    "  X_train, X_test = train_padded[train_index], train_padded[test_index]\n",
    "  y_train, y_test = y.iloc[train_index], y.iloc[test_index]\n",
    "\n",
    "  model = Sequential()\n",
    "  model.add(Embedding(vocab_size, embedding_dims, input_length=max_len))\n",
    "  model.add(Dropout(0.5))\n",
    "  model.add(Conv1D(filters, kernel_size, padding='valid', activation='relu'))\n",
    "  model.add(MaxPooling1D())\n",
    "  model.add(Conv1D(filters, kernel_size, padding='valid', activation='relu'))\n",
    "  model.add(MaxPooling1D())\n",
    "  model.add(Flatten())\n",
    "  model.add(Dense(hidden_dims, activation='relu'))\n",
    "  model.add(Dropout(0.5))\n",
    "  model.add(Dense(1, activation='sigmoid'))\n",
    "\n",
    "  model.compile(loss='binary_crossentropy', optimizer='adam', metrics=['accuracy'])\n",
    "  model.fit(X_train, y_train, batch_size=batch_size, epochs=epochs, verbose=0)\n",
    "  loss, accuracy = model.evaluate(X_test, y_test, verbose=0)\n",
    "  print('Accuracy: %f' % (accuracy))"
   ]
  },
  {
   "cell_type": "code",
   "execution_count": 26,
   "metadata": {
    "colab": {
     "base_uri": "https://localhost:8080/",
     "height": 69
    },
    "colab_type": "code",
    "id": "pWmAMAD8UtNW",
    "outputId": "78ed6fa4-639d-421a-9e63-312f8204f578"
   },
   "outputs": [
    {
     "name": "stdout",
     "output_type": "stream",
     "text": [
      "Accuracy: 0.784476\n",
      "Accuracy: 0.759653\n",
      "Accuracy: 0.804099\n"
     ]
    }
   ],
   "source": [
    "for train_index, test_index in kf.split(train_padded):\n",
    "  X_train, X_test = train_padded[train_index], train_padded[test_index]\n",
    "  y_train, y_test = y.iloc[train_index], y.iloc[test_index]\n",
    "\n",
    "  model = Sequential()\n",
    "  model.add(Embedding(vocab_size, embedding_dims, input_length=max_len))\n",
    "  model.add(Dropout(0.3))\n",
    "  model.add(Conv1D(filters, kernel_size, padding='valid', activation='relu'))\n",
    "  model.add(MaxPooling1D())\n",
    "  model.add(Conv1D(filters, kernel_size, padding='valid', activation='sigmoid'))\n",
    "  model.add(MaxPooling1D())\n",
    "  model.add(Flatten())\n",
    "  model.add(Dense(hidden_dims, activation='relu'))\n",
    "  model.add(Dropout(0.5))\n",
    "  model.add(Dense(1, activation='sigmoid'))\n",
    "\n",
    "  model.compile(loss='binary_crossentropy', optimizer='adam', metrics=['accuracy'])\n",
    "  model.fit(X_train, y_train, batch_size=batch_size, epochs=5, verbose=0)\n",
    "  loss, accuracy = model.evaluate(X_test, y_test, verbose=0)\n",
    "  print('Accuracy: %f' % (accuracy))"
   ]
  },
  {
   "cell_type": "code",
   "execution_count": 27,
   "metadata": {
    "colab": {},
    "colab_type": "code",
    "id": "IKTeqUEVVijZ"
   },
   "outputs": [],
   "source": [
    "# Cambio el largo de los vectores para reducir overfitting\n",
    "max_len = 15\n",
    "train_padded = pad_sequences(train_encoded, maxlen=max_len, padding='post')\n",
    "test_padded = pad_sequences(test_encoded, maxlen=max_len, padding='post')"
   ]
  },
  {
   "cell_type": "code",
   "execution_count": 28,
   "metadata": {
    "colab": {
     "base_uri": "https://localhost:8080/",
     "height": 69
    },
    "colab_type": "code",
    "id": "VI1YrjOfVxyG",
    "outputId": "e7ee2cf7-407c-4f04-aa53-c1c41e18dd1e"
   },
   "outputs": [
    {
     "name": "stdout",
     "output_type": "stream",
     "text": [
      "Accuracy: 0.786052\n",
      "Accuracy: 0.771474\n",
      "Accuracy: 0.788727\n"
     ]
    }
   ],
   "source": [
    "for train_index, test_index in kf.split(train_padded):\n",
    "  X_train, X_test = train_padded[train_index], train_padded[test_index]\n",
    "  y_train, y_test = y.iloc[train_index], y.iloc[test_index]\n",
    "\n",
    "  model = Sequential()\n",
    "  model.add(Embedding(vocab_size, 10, input_length=max_len))\n",
    "  model.add(Dropout(0.5))\n",
    "  model.add(Conv1D(filters, kernel_size, padding='valid', activation='relu'))\n",
    "  model.add(MaxPooling1D())\n",
    "  model.add(Conv1D(filters, kernel_size, padding='valid', activation='sigmoid'))\n",
    "  model.add(MaxPooling1D())\n",
    "  model.add(Flatten())\n",
    "  model.add(Dense(hidden_dims, activation='relu'))\n",
    "  model.add(Dropout(0.5))\n",
    "  model.add(Dense(1, activation='sigmoid'))\n",
    "\n",
    "  model.compile(loss='binary_crossentropy', optimizer='adam', metrics=['accuracy'])\n",
    "  model.fit(X_train, y_train, batch_size=100, epochs=5, verbose=0)\n",
    "  loss, accuracy = model.evaluate(X_test, y_test, verbose=0)\n",
    "  print('Accuracy: %f' % (accuracy))"
   ]
  },
  {
   "cell_type": "code",
   "execution_count": 29,
   "metadata": {
    "colab": {
     "base_uri": "https://localhost:8080/",
     "height": 69
    },
    "colab_type": "code",
    "id": "tqRrqc4yXNHJ",
    "outputId": "3cddfc6a-cdce-42d3-95ad-e0274f75e88a"
   },
   "outputs": [
    {
     "name": "stdout",
     "output_type": "stream",
     "text": [
      "Accuracy: 0.741135\n",
      "Accuracy: 0.726162\n",
      "Accuracy: 0.757982\n"
     ]
    }
   ],
   "source": [
    "for train_index, test_index in kf.split(train_padded):\n",
    "  X_train, X_test = train_padded[train_index], train_padded[test_index]\n",
    "  y_train, y_test = y.iloc[train_index], y.iloc[test_index]\n",
    "\n",
    "  inputs = Input(name='inputs',shape=[max_len])\n",
    "  layer = Embedding(vocab_size,100,input_length=max_len)(inputs)\n",
    "  layer = LSTM(64)(layer)\n",
    "  layer = Dropout(0.5)(layer)\n",
    "  layer = Dense(128)(layer)\n",
    "  layer = Activation('relu')(layer)\n",
    "  layer = Dropout(0.5)(layer)\n",
    "  layer = Dense(1)(layer)\n",
    "  layer = Activation('sigmoid')(layer)\n",
    "  model = Model(inputs=inputs,outputs=layer)\n",
    "\n",
    "  model.compile(loss='binary_crossentropy', optimizer='adam', metrics=['accuracy'])\n",
    "  model.fit(X_train, y_train, batch_size=100, epochs=5, verbose=0)\n",
    "  loss, accuracy = model.evaluate(X_test, y_test, verbose=0)\n",
    "  print('Accuracy: %f' % (accuracy))"
   ]
  },
  {
   "cell_type": "code",
   "execution_count": 30,
   "metadata": {
    "colab": {
     "base_uri": "https://localhost:8080/",
     "height": 69
    },
    "colab_type": "code",
    "id": "8_h2ErBRV9zc",
    "outputId": "d34ff446-706e-4a45-8f1e-ab55a262b55e"
   },
   "outputs": [
    {
     "name": "stdout",
     "output_type": "stream",
     "text": [
      "Accuracy: 0.785264\n",
      "Accuracy: 0.762805\n",
      "Accuracy: 0.794639\n"
     ]
    }
   ],
   "source": [
    "for train_index, test_index in kf.split(train_padded):\n",
    "  X_train, X_test = train_padded[train_index], train_padded[test_index]\n",
    "  y_train, y_test = y.iloc[train_index], y.iloc[test_index]\n",
    "\n",
    "  model = Sequential()\n",
    "  model.add(Embedding(vocab_size, embedding_dims, input_length=max_len))\n",
    "  model.add(Dropout(0.5))\n",
    "  model.add(Conv1D(filters, kernel_size, padding='valid', activation='relu'))\n",
    "  model.add(MaxPooling1D())\n",
    "  model.add(Conv1D(filters, kernel_size, padding='valid', activation='sigmoid'))\n",
    "  model.add(MaxPooling1D())\n",
    "  model.add(LSTM(64))\n",
    "  model.add(Flatten())\n",
    "  model.add(Dense(hidden_dims, activation='relu'))\n",
    "  model.add(Dropout(0.5))\n",
    "  model.add(Dense(1, activation='sigmoid'))\n",
    "\n",
    "  model.compile(loss='binary_crossentropy', optimizer='adam', metrics=['accuracy'])\n",
    "  model.fit(X_train, y_train, batch_size=batch_size, epochs=5, verbose=0)\n",
    "  loss, accuracy = model.evaluate(X_test, y_test, verbose=0)\n",
    "  print('Accuracy: %f' % (accuracy))"
   ]
  },
  {
   "cell_type": "code",
   "execution_count": 31,
   "metadata": {
    "colab": {},
    "colab_type": "code",
    "id": "bvo_krOxBZJQ"
   },
   "outputs": [],
   "source": [
    "callback = EarlyStopping(monitor = 'val_loss', patience = 4)"
   ]
  },
  {
   "cell_type": "code",
   "execution_count": 32,
   "metadata": {
    "colab": {
     "base_uri": "https://localhost:8080/",
     "height": 330
    },
    "colab_type": "code",
    "id": "lTVCg9hRfHX4",
    "outputId": "66a84d84-6b6c-4fbf-e484-a65fd4b5135e"
   },
   "outputs": [
    {
     "name": "stdout",
     "output_type": "stream",
     "text": [
      "WARNING:tensorflow:Early stopping conditioned on metric `val_loss` which is not available. Available metrics are: loss,accuracy\n",
      "WARNING:tensorflow:Early stopping conditioned on metric `val_loss` which is not available. Available metrics are: loss,accuracy\n",
      "WARNING:tensorflow:Early stopping conditioned on metric `val_loss` which is not available. Available metrics are: loss,accuracy\n",
      "WARNING:tensorflow:Early stopping conditioned on metric `val_loss` which is not available. Available metrics are: loss,accuracy\n",
      "WARNING:tensorflow:Early stopping conditioned on metric `val_loss` which is not available. Available metrics are: loss,accuracy\n",
      "Accuracy: 0.738771\n",
      "WARNING:tensorflow:Early stopping conditioned on metric `val_loss` which is not available. Available metrics are: loss,accuracy\n",
      "WARNING:tensorflow:Early stopping conditioned on metric `val_loss` which is not available. Available metrics are: loss,accuracy\n",
      "WARNING:tensorflow:Early stopping conditioned on metric `val_loss` which is not available. Available metrics are: loss,accuracy\n",
      "WARNING:tensorflow:Early stopping conditioned on metric `val_loss` which is not available. Available metrics are: loss,accuracy\n",
      "WARNING:tensorflow:Early stopping conditioned on metric `val_loss` which is not available. Available metrics are: loss,accuracy\n",
      "Accuracy: 0.758471\n",
      "WARNING:tensorflow:Early stopping conditioned on metric `val_loss` which is not available. Available metrics are: loss,accuracy\n",
      "WARNING:tensorflow:Early stopping conditioned on metric `val_loss` which is not available. Available metrics are: loss,accuracy\n",
      "WARNING:tensorflow:Early stopping conditioned on metric `val_loss` which is not available. Available metrics are: loss,accuracy\n",
      "WARNING:tensorflow:Early stopping conditioned on metric `val_loss` which is not available. Available metrics are: loss,accuracy\n",
      "WARNING:tensorflow:Early stopping conditioned on metric `val_loss` which is not available. Available metrics are: loss,accuracy\n",
      "Accuracy: 0.778479\n"
     ]
    }
   ],
   "source": [
    "for train_index, test_index in kf.split(train_padded):\n",
    "  X_train, X_test = train_padded[train_index], train_padded[test_index]\n",
    "  y_train, y_test = y.iloc[train_index], y.iloc[test_index]\n",
    "\n",
    "  model = Sequential()\n",
    "  model.add(Embedding(vocab_size, embedding_dims, input_length=max_len))\n",
    "  model.add(Bidirectional(LSTM(max_len, return_sequences = True, recurrent_dropout=0.2)))\n",
    "  model.add(Conv1D(filters, kernel_size, padding='valid', activation='relu'))\n",
    "  model.add(MaxPooling1D())\n",
    "  model.add(Conv1D(filters, kernel_size, padding='valid', activation='sigmoid'))\n",
    "  model.add(MaxPooling1D())\n",
    "  model.add(LSTM(64))\n",
    "  model.add(Flatten())\n",
    "  model.add(Dense(hidden_dims, activation='relu'))\n",
    "  model.add(Dropout(0.5))\n",
    "  model.add(Dense(1, activation='sigmoid'))\n",
    "\n",
    "  model.compile(loss='binary_crossentropy', optimizer='adam', metrics=['accuracy'])\n",
    "  model.fit(X_train, y_train, batch_size=batch_size, epochs=5, callbacks = [callback], verbose=0)\n",
    "  loss, accuracy = model.evaluate(X_test, y_test, verbose=0)\n",
    "  print('Accuracy: %f' % (accuracy))"
   ]
  },
  {
   "cell_type": "code",
   "execution_count": 33,
   "metadata": {
    "colab": {
     "base_uri": "https://localhost:8080/",
     "height": 208
    },
    "colab_type": "code",
    "id": "1Fqy4uDWaYpi",
    "outputId": "59cad550-c4c7-4849-cdf6-c6d24c3321d3"
   },
   "outputs": [
    {
     "name": "stdout",
     "output_type": "stream",
     "text": [
      "Epoch 1/5\n",
      "77/77 [==============================] - 1s 7ms/step - loss: 0.6954 - accuracy: 0.5467\n",
      "Epoch 2/5\n",
      "77/77 [==============================] - 1s 7ms/step - loss: 0.6675 - accuracy: 0.5936\n",
      "Epoch 3/5\n",
      "77/77 [==============================] - 1s 7ms/step - loss: 0.4952 - accuracy: 0.7839\n",
      "Epoch 4/5\n",
      "77/77 [==============================] - 1s 7ms/step - loss: 0.3845 - accuracy: 0.8400\n",
      "Epoch 5/5\n",
      "77/77 [==============================] - 1s 7ms/step - loss: 0.3305 - accuracy: 0.8652\n"
     ]
    },
    {
     "data": {
      "text/plain": [
       "<tensorflow.python.keras.callbacks.History at 0x7f88ba693240>"
      ]
     },
     "execution_count": 33,
     "metadata": {
      "tags": []
     },
     "output_type": "execute_result"
    }
   ],
   "source": [
    "  model = Sequential()\n",
    "  model.add(Embedding(vocab_size, 10, input_length=max_len))\n",
    "  model.add(Dropout(0.5))\n",
    "  model.add(Conv1D(25, kernel_size, padding='valid', activation='relu'))\n",
    "  model.add(MaxPooling1D())\n",
    "  model.add(Conv1D(25, kernel_size, padding='valid', activation='sigmoid'))\n",
    "  model.add(MaxPooling1D())\n",
    "  model.add(Flatten())\n",
    "  model.add(Dense(150, activation='relu'))\n",
    "  model.add(Dropout(0.5))\n",
    "  model.add(Dense(1, activation='sigmoid'))\n",
    "\n",
    "  model.compile(loss='binary_crossentropy', optimizer='adam', metrics=['accuracy'])\n",
    "  model.fit(train_padded, y, batch_size=100, epochs=5)"
   ]
  },
  {
   "cell_type": "markdown",
   "metadata": {
    "colab_type": "text",
    "id": "bNymvfRMQyS0"
   },
   "source": [
    "Agrego al texto las keywords y los bigramas (si están en por lo menos dos textos)"
   ]
  },
  {
   "cell_type": "code",
   "execution_count": 40,
   "metadata": {
    "colab": {},
    "colab_type": "code",
    "id": "cBVoBnRKBsyi"
   },
   "outputs": [],
   "source": [
    "def bigramas(texto):\n",
    "  token = nltk.word_tokenize(texto)\n",
    "  bigrams = ngrams(token,2)\n",
    "  return list(bigrams)"
   ]
  },
  {
   "cell_type": "code",
   "execution_count": 41,
   "metadata": {
    "colab": {
     "base_uri": "https://localhost:8080/",
     "height": 225
    },
    "colab_type": "code",
    "id": "R5UP6N2hWxno",
    "outputId": "238591d0-67fd-4bea-f9a1-1a3c9e6b8ef1"
   },
   "outputs": [
    {
     "data": {
      "text/plain": [
       "0       [(deed, reason), (reason, earthquak), (earthqu...\n",
       "1       [(forest, fire), (fire, near), (near, la), (la...\n",
       "2       [(resid, ask), (ask, shelter), (shelter, place...\n",
       "3       [(13000, peopl), (peopl, receiv), (receiv, wil...\n",
       "4       [(got, sent), (sent, photo), (photo, rubi), (r...\n",
       "                              ...                        \n",
       "7608    [(two, giant), (giant, crane), (crane, hold), ...\n",
       "7609    [(ariaahrari, thetawniest), (thetawniest, cont...\n",
       "7610    [(m194, 0104), (0104, utc5km), (utc5km, volcan...\n",
       "7611    [(polic, investig), (investig, ebik), (ebik, c...\n",
       "7612    [(latest, home), (home, raze), (raze, northern...\n",
       "Name: cleaned_text, Length: 7613, dtype: object"
      ]
     },
     "execution_count": 41,
     "metadata": {
      "tags": []
     },
     "output_type": "execute_result"
    }
   ],
   "source": [
    "bigramas_train = entrenamiento_df['cleaned_text'].agg(lambda x: bigramas(x))\n",
    "bigramas_train"
   ]
  },
  {
   "cell_type": "code",
   "execution_count": 42,
   "metadata": {
    "colab": {
     "base_uri": "https://localhost:8080/",
     "height": 260
    },
    "colab_type": "code",
    "id": "sMZ-9njphOog",
    "outputId": "81e5e1b9-a673-4717-92f1-521e5a1c6f84"
   },
   "outputs": [
    {
     "name": "stderr",
     "output_type": "stream",
     "text": [
      "/usr/local/lib/python3.6/dist-packages/ipykernel_launcher.py:4: DeprecationWarning: generator 'ngrams' raised StopIteration\n",
      "  after removing the cwd from sys.path.\n"
     ]
    },
    {
     "data": {
      "text/plain": [
       "0       [(happen, terribl), (terribl, car), (car, crash)]\n",
       "1       [(heard, earthquak), (earthquak, differ), (dif...\n",
       "2       [(forest, fire), (fire, spot), (spot, pond), (...\n",
       "3       [(apocalyps, light), (light, spokan), (spokan,...\n",
       "4       [(typhoon, soudelor), (soudelor, kill), (kill,...\n",
       "                              ...                        \n",
       "3258    [(earthquak, safeti), (safeti, lo), (lo, angel...\n",
       "3259    [(storm, ri), (ri, wors), (wors, last), (last,...\n",
       "3260    [(green, line), (line, derail), (derail, chica...\n",
       "3261    [(meg, issu), (issu, hazard), (hazard, weather...\n",
       "3262    [(cityofcalgari, activ), (activ, municip), (mu...\n",
       "Name: cleaned_text, Length: 3263, dtype: object"
      ]
     },
     "execution_count": 42,
     "metadata": {
      "tags": []
     },
     "output_type": "execute_result"
    }
   ],
   "source": [
    "bigramas_test = test_df['cleaned_text'].agg(lambda x: bigramas(x))\n",
    "bigramas_test"
   ]
  },
  {
   "cell_type": "code",
   "execution_count": 43,
   "metadata": {
    "colab": {},
    "colab_type": "code",
    "id": "eN_lsTwHBs6i"
   },
   "outputs": [],
   "source": [
    "dic_bigramas = {}\n"
   ]
  },
  {
   "cell_type": "code",
   "execution_count": 47,
   "metadata": {
    "colab": {
     "base_uri": "https://localhost:8080/",
     "height": 34
    },
    "colab_type": "code",
    "id": "GQx_7MGJBtAw",
    "outputId": "01c07b32-a89c-44d3-b1ec-9e3f5aa8fa54"
   },
   "outputs": [
    {
     "data": {
      "text/plain": [
       "8337"
      ]
     },
     "execution_count": 47,
     "metadata": {
      "tags": []
     },
     "output_type": "execute_result"
    }
   ],
   "source": [
    "vectorizer2 = CountVectorizer(ngram_range=(2, 2), min_df=2)\n",
    "vectorizer2.fit_transform(entrenamiento_df['cleaned_text'].append(test_df['cleaned_text']))\n",
    "len(vectorizer2.get_feature_names())"
   ]
  },
  {
   "cell_type": "code",
   "execution_count": 48,
   "metadata": {
    "colab": {
     "base_uri": "https://localhost:8080/",
     "height": 191
    },
    "colab_type": "code",
    "id": "B4dMwlrgqMbV",
    "outputId": "c5e0dc36-4007-47e5-8aa3-17811643b463"
   },
   "outputs": [
    {
     "data": {
      "text/plain": [
       "['001116 utc20150805',\n",
       " '005225 utc20150805',\n",
       " '0104 utc5km',\n",
       " '010401 utc20150805',\n",
       " '02 03',\n",
       " '02 scene',\n",
       " '05 1038pm',\n",
       " '05 1040pm',\n",
       " '05 915pm',\n",
       " '05 curfew']"
      ]
     },
     "execution_count": 48,
     "metadata": {
      "tags": []
     },
     "output_type": "execute_result"
    }
   ],
   "source": [
    "vectorizer2.get_feature_names()[:10]"
   ]
  },
  {
   "cell_type": "code",
   "execution_count": 49,
   "metadata": {
    "colab": {},
    "colab_type": "code",
    "id": "jLgXXbVwrO6f"
   },
   "outputs": [],
   "source": [
    "ngrams2 = vectorizer2.get_feature_names()"
   ]
  },
  {
   "cell_type": "code",
   "execution_count": 50,
   "metadata": {
    "colab": {},
    "colab_type": "code",
    "id": "jT5AL_7DtF6w"
   },
   "outputs": [],
   "source": [
    "keywords_train = entrenamiento_df['keyword'].fillna('None')\n",
    "keywords_test = test_df['keyword'].fillna('None')"
   ]
  },
  {
   "cell_type": "code",
   "execution_count": 51,
   "metadata": {
    "colab": {
     "base_uri": "https://localhost:8080/",
     "height": 106
    },
    "colab_type": "code",
    "id": "XCVhnibitjPj",
    "outputId": "e753b548-f5a9-4b7e-a324-57be8a66ba83"
   },
   "outputs": [
    {
     "name": "stderr",
     "output_type": "stream",
     "text": [
      "/usr/local/lib/python3.6/dist-packages/ipykernel_launcher.py:1: DeprecationWarning: The default dtype for empty Series will be 'object' instead of 'float64' in a future version. Specify a dtype explicitly to silence this warning.\n",
      "  \"\"\"Entry point for launching an IPython kernel.\n",
      "/usr/local/lib/python3.6/dist-packages/ipykernel_launcher.py:2: DeprecationWarning: The default dtype for empty Series will be 'object' instead of 'float64' in a future version. Specify a dtype explicitly to silence this warning.\n",
      "  \n"
     ]
    }
   ],
   "source": [
    "textos_train = pd.Series()\n",
    "textos_test = pd.Series()"
   ]
  },
  {
   "cell_type": "code",
   "execution_count": 52,
   "metadata": {
    "colab": {},
    "colab_type": "code",
    "id": "sSs_V0ymtzy2"
   },
   "outputs": [],
   "source": [
    "for i in range(0, len(entrenamiento_df)):\n",
    "  texto = entrenamiento_df['cleaned_text'][i]\n",
    "  for b in bigramas_train[i]:\n",
    "    bgrm = b[0]+' '+b[1]\n",
    "    if bgrm in ngrams2:\n",
    "      texto += ' ' + b[0] + b[1]\n",
    "  texto += ' ' + keywords_train[i]\n",
    "  textos_train[str(i)] = texto"
   ]
  },
  {
   "cell_type": "code",
   "execution_count": 53,
   "metadata": {
    "colab": {
     "base_uri": "https://localhost:8080/",
     "height": 225
    },
    "colab_type": "code",
    "id": "9QBrcrh1vfAP",
    "outputId": "85722110-0cfa-43ee-8d1a-be41f61faf9e"
   },
   "outputs": [
    {
     "data": {
      "text/plain": [
       "0       deed reason earthquak may allah forgiv us maya...\n",
       "1       forest fire near la rong sask canada forestfir...\n",
       "2       resid ask shelter place notifi offic evacu she...\n",
       "3       13000 peopl receiv wildfir evacu order califor...\n",
       "4       got sent photo rubi alaska smoke wildfir pour ...\n",
       "                              ...                        \n",
       "7608    two giant crane hold bridg collaps nearbi home...\n",
       "7609    ariaahrari thetawniest control wild fire calif...\n",
       "7610    m194 0104 utc5km volcano hawaii  m1940104 0104...\n",
       "7611    polic investig ebik collid car littl portug eb...\n",
       "7612    latest home raze northern california wildfir a...\n",
       "Length: 7613, dtype: object"
      ]
     },
     "execution_count": 53,
     "metadata": {
      "tags": []
     },
     "output_type": "execute_result"
    }
   ],
   "source": [
    "textos_train"
   ]
  },
  {
   "cell_type": "code",
   "execution_count": 54,
   "metadata": {
    "colab": {},
    "colab_type": "code",
    "id": "_q4w5Gigvpjw"
   },
   "outputs": [],
   "source": [
    "for i in range(0, len(test_df)):\n",
    "  texto = test_df['cleaned_text'][i]\n",
    "  for b in bigramas_test[i]:\n",
    "    bgrm = b[0]+' '+b[1]\n",
    "    if bgrm in ngrams2:\n",
    "      texto += ' ' + b[0] + b[1]\n",
    "  texto += ' ' + keywords_test[i]\n",
    "  textos_test[str(i)] = texto"
   ]
  },
  {
   "cell_type": "code",
   "execution_count": 55,
   "metadata": {
    "colab": {
     "base_uri": "https://localhost:8080/",
     "height": 225
    },
    "colab_type": "code",
    "id": "F-WginHrvzjX",
    "outputId": "5bf10cf0-606a-446c-fc42-1cd36f71dfdb"
   },
   "outputs": [
    {
     "data": {
      "text/plain": [
       "0                  happen terribl car crash carcrash None\n",
       "1       heard earthquak differ citi stay safe everyon ...\n",
       "2       forest fire spot pond gees flee across street ...\n",
       "3                     apocalyps light spokan wildfir None\n",
       "4       typhoon soudelor kill 28 china taiwan typhoons...\n",
       "                              ...                        \n",
       "3258    earthquak safeti lo angel ûò safeti fasten xrw...\n",
       "3259    storm ri wors last hurrican cityamp3oth hardes...\n",
       "3260    green line derail chicago  greenline linederai...\n",
       "3261    meg issu hazard weather outlook hwo  megissu i...\n",
       "3262    cityofcalgari activ municip emerg plan yycstor...\n",
       "Length: 3263, dtype: object"
      ]
     },
     "execution_count": 55,
     "metadata": {
      "tags": []
     },
     "output_type": "execute_result"
    }
   ],
   "source": [
    "textos_test"
   ]
  },
  {
   "cell_type": "code",
   "execution_count": 56,
   "metadata": {
    "colab": {
     "base_uri": "https://localhost:8080/",
     "height": 34
    },
    "colab_type": "code",
    "id": "0Q69Mxljv3rn",
    "outputId": "6fc0a61f-49d7-4af2-8761-4ec407ca7b20"
   },
   "outputs": [
    {
     "data": {
      "text/plain": [
       "27268"
      ]
     },
     "execution_count": 56,
     "metadata": {
      "tags": []
     },
     "output_type": "execute_result"
    }
   ],
   "source": [
    "vocab_size = len(dic_palabras) + len(ngrams2) + len(keywords_train.value_counts()) + len(keywords_test.value_counts()) + 1\n",
    "vocab_size"
   ]
  },
  {
   "cell_type": "code",
   "execution_count": 57,
   "metadata": {
    "colab": {},
    "colab_type": "code",
    "id": "HMb58zTxv300"
   },
   "outputs": [],
   "source": [
    "train_encoded = [one_hot(texto, vocab_size) for texto in textos_train]\n",
    "test_encoded = [one_hot(texto, vocab_size) for texto in textos_test]"
   ]
  },
  {
   "cell_type": "code",
   "execution_count": 59,
   "metadata": {
    "colab": {
     "base_uri": "https://localhost:8080/",
     "height": 34
    },
    "colab_type": "code",
    "id": "gpo_JS8Lw9VG",
    "outputId": "e60edb78-12fa-4e7f-e969-bdf76b079840"
   },
   "outputs": [
    {
     "data": {
      "text/plain": [
       "38"
      ]
     },
     "execution_count": 59,
     "metadata": {
      "tags": []
     },
     "output_type": "execute_result"
    }
   ],
   "source": [
    "max_len = 1\n",
    "for texto in textos_train:\n",
    "  if (max_len < len(texto.split())):\n",
    "    max_len = len(texto.split())\n",
    "max_len"
   ]
  },
  {
   "cell_type": "code",
   "execution_count": 60,
   "metadata": {
    "colab": {},
    "colab_type": "code",
    "id": "KvTW__4aw9Vj"
   },
   "outputs": [],
   "source": [
    "train_padded = pad_sequences(train_encoded, maxlen=max_len, padding='post')\n",
    "test_padded = pad_sequences(test_encoded, maxlen=max_len, padding='post')"
   ]
  },
  {
   "cell_type": "code",
   "execution_count": 61,
   "metadata": {
    "colab": {},
    "colab_type": "code",
    "id": "XC60akocw9WA"
   },
   "outputs": [],
   "source": [
    "batch_size = 100\n",
    "embedding_dims = 10\n",
    "filters = 16\n",
    "kernel_size = 3\n",
    "hidden_dims = 250\n",
    "epochs = 10"
   ]
  },
  {
   "cell_type": "code",
   "execution_count": 62,
   "metadata": {
    "colab": {},
    "colab_type": "code",
    "id": "5Zx_WXOWw9WL"
   },
   "outputs": [],
   "source": [
    "model = Sequential()\n",
    "model.add(Embedding(vocab_size, embedding_dims, input_length=max_len))\n",
    "model.add(Dropout(0.5))\n",
    "model.add(Conv1D(filters, kernel_size, padding='valid', activation='relu'))\n",
    "model.add(MaxPooling1D())\n",
    "model.add(Conv1D(filters, kernel_size, padding='valid', activation='relu'))\n",
    "model.add(MaxPooling1D())\n",
    "model.add(Flatten())\n",
    "model.add(Dense(hidden_dims, activation='relu'))\n",
    "model.add(Dropout(0.5))\n",
    "model.add(Dense(1, activation='sigmoid'))"
   ]
  },
  {
   "cell_type": "code",
   "execution_count": 63,
   "metadata": {
    "colab": {},
    "colab_type": "code",
    "id": "3FwLipm3w9WU"
   },
   "outputs": [],
   "source": [
    "model.compile(loss='binary_crossentropy', optimizer='adam', metrics=['accuracy'])"
   ]
  },
  {
   "cell_type": "code",
   "execution_count": 64,
   "metadata": {
    "colab": {
     "base_uri": "https://localhost:8080/",
     "height": 382
    },
    "colab_type": "code",
    "id": "HCzJBXSkw9Wg",
    "outputId": "fe7ecc8c-422c-46fe-847f-ce309fe0d3b8"
   },
   "outputs": [
    {
     "name": "stdout",
     "output_type": "stream",
     "text": [
      "Epoch 1/10\n",
      "77/77 [==============================] - 1s 13ms/step - loss: 0.6644 - accuracy: 0.5929\n",
      "Epoch 2/10\n",
      "77/77 [==============================] - 1s 13ms/step - loss: 0.5097 - accuracy: 0.7651\n",
      "Epoch 3/10\n",
      "77/77 [==============================] - 1s 13ms/step - loss: 0.3702 - accuracy: 0.8440\n",
      "Epoch 4/10\n",
      "77/77 [==============================] - 1s 15ms/step - loss: 0.3013 - accuracy: 0.8811\n",
      "Epoch 5/10\n",
      "77/77 [==============================] - 1s 14ms/step - loss: 0.2523 - accuracy: 0.9048\n",
      "Epoch 6/10\n",
      "77/77 [==============================] - 1s 13ms/step - loss: 0.2154 - accuracy: 0.9192\n",
      "Epoch 7/10\n",
      "77/77 [==============================] - 1s 12ms/step - loss: 0.1876 - accuracy: 0.9300\n",
      "Epoch 8/10\n",
      "77/77 [==============================] - 1s 12ms/step - loss: 0.1645 - accuracy: 0.9389\n",
      "Epoch 9/10\n",
      "77/77 [==============================] - 1s 12ms/step - loss: 0.1507 - accuracy: 0.9476\n",
      "Epoch 10/10\n",
      "77/77 [==============================] - 1s 12ms/step - loss: 0.1310 - accuracy: 0.9531\n"
     ]
    },
    {
     "data": {
      "text/plain": [
       "<tensorflow.python.keras.callbacks.History at 0x7f88c9aed550>"
      ]
     },
     "execution_count": 64,
     "metadata": {
      "tags": []
     },
     "output_type": "execute_result"
    }
   ],
   "source": [
    "model.fit(train_padded, y, batch_size=batch_size, epochs=epochs)"
   ]
  },
  {
   "cell_type": "code",
   "execution_count": 66,
   "metadata": {
    "colab": {},
    "colab_type": "code",
    "id": "j3UcXUEaxawa"
   },
   "outputs": [],
   "source": [
    "kf = KFold(n_splits=3, random_state=123, shuffle=True)"
   ]
  },
  {
   "cell_type": "markdown",
   "metadata": {
    "colab_type": "text",
    "id": "SdJjOf8TRoau"
   },
   "source": [
    "Pruebo diferentes parámetros"
   ]
  },
  {
   "cell_type": "code",
   "execution_count": 67,
   "metadata": {
    "colab": {
     "base_uri": "https://localhost:8080/",
     "height": 69
    },
    "colab_type": "code",
    "id": "iS2jikDsv39F",
    "outputId": "53c301b4-1322-4012-e2a3-f350523fdc26"
   },
   "outputs": [
    {
     "name": "stdout",
     "output_type": "stream",
     "text": [
      "Accuracy: 0.792356\n",
      "Accuracy: 0.777384\n",
      "Accuracy: 0.799764\n"
     ]
    }
   ],
   "source": [
    "for train_index, test_index in kf.split(train_padded):\n",
    "  X_train, X_test = train_padded[train_index], train_padded[test_index]\n",
    "  y_train, y_test = y.iloc[train_index], y.iloc[test_index]\n",
    "\n",
    "  model = Sequential()\n",
    "  model.add(Embedding(vocab_size, embedding_dims, input_length=max_len))\n",
    "  model.add(Dropout(0.5))\n",
    "  model.add(Conv1D(filters, kernel_size, padding='valid', activation='relu'))\n",
    "  model.add(MaxPooling1D())\n",
    "  model.add(Conv1D(filters, kernel_size, padding='valid', activation='sigmoid'))\n",
    "  model.add(MaxPooling1D())\n",
    "  model.add(LSTM(64))\n",
    "  model.add(Flatten())\n",
    "  model.add(Dense(hidden_dims, activation='relu'))\n",
    "  model.add(Dropout(0.5))\n",
    "  model.add(Dense(1, activation='sigmoid'))\n",
    "\n",
    "  model.compile(loss='binary_crossentropy', optimizer='adam', metrics=['accuracy'])\n",
    "  model.fit(X_train, y_train, batch_size=batch_size, epochs=5, verbose=0)\n",
    "  loss, accuracy = model.evaluate(X_test, y_test, verbose=0)\n",
    "  print('Accuracy: %f' % (accuracy))"
   ]
  },
  {
   "cell_type": "code",
   "execution_count": 68,
   "metadata": {
    "colab": {},
    "colab_type": "code",
    "id": "Pma6JeA3xu4k"
   },
   "outputs": [],
   "source": [
    "model = Sequential()\n",
    "model.add(Embedding(vocab_size, embedding_dims, input_length=max_len))\n",
    "model.add(Dropout(0.5))\n",
    "model.add(Conv1D(filters, kernel_size, padding='valid', activation='relu'))\n",
    "model.add(MaxPooling1D())\n",
    "model.add(Conv1D(filters, kernel_size, padding='valid', activation='sigmoid'))\n",
    "model.add(MaxPooling1D())\n",
    "model.add(LSTM(64))\n",
    "model.add(Flatten())\n",
    "model.add(Dense(hidden_dims, activation='relu'))\n",
    "model.add(Dropout(0.5))\n",
    "model.add(Dense(1, activation='sigmoid'))\n",
    "\n",
    "model.compile(loss='binary_crossentropy', optimizer='adam', metrics=['accuracy'])"
   ]
  },
  {
   "cell_type": "code",
   "execution_count": 69,
   "metadata": {
    "colab": {
     "base_uri": "https://localhost:8080/",
     "height": 208
    },
    "colab_type": "code",
    "id": "DElreaiuxvBe",
    "outputId": "ac23e0ba-001f-4c4e-e91b-6eee015f1b06"
   },
   "outputs": [
    {
     "name": "stdout",
     "output_type": "stream",
     "text": [
      "Epoch 1/5\n",
      "77/77 [==============================] - 1s 19ms/step - loss: 0.6850 - accuracy: 0.5684\n",
      "Epoch 2/5\n",
      "77/77 [==============================] - 1s 19ms/step - loss: 0.6847 - accuracy: 0.5688\n",
      "Epoch 3/5\n",
      "77/77 [==============================] - 1s 19ms/step - loss: 0.6579 - accuracy: 0.6099\n",
      "Epoch 4/5\n",
      "77/77 [==============================] - 1s 18ms/step - loss: 0.4338 - accuracy: 0.8130\n",
      "Epoch 5/5\n",
      "77/77 [==============================] - 1s 19ms/step - loss: 0.3512 - accuracy: 0.8554\n"
     ]
    },
    {
     "data": {
      "text/plain": [
       "<tensorflow.python.keras.callbacks.History at 0x7f88afcadda0>"
      ]
     },
     "execution_count": 69,
     "metadata": {
      "tags": []
     },
     "output_type": "execute_result"
    }
   ],
   "source": [
    "model.fit(train_padded, y, batch_size=100, epochs=5)"
   ]
  },
  {
   "cell_type": "markdown",
   "metadata": {
    "colab_type": "text",
    "id": "4UixwLysR2Aa"
   },
   "source": [
    "Agrego al texto las locations y los trigramas que están en dos textos por lo menos"
   ]
  },
  {
   "cell_type": "code",
   "execution_count": 71,
   "metadata": {
    "colab": {},
    "colab_type": "code",
    "id": "J0hBTuxbhM4P"
   },
   "outputs": [],
   "source": [
    "def trigramas(texto):\n",
    "  token = nltk.word_tokenize(texto)\n",
    "  trigrams = ngrams(token,3)\n",
    "  return list(trigrams)"
   ]
  },
  {
   "cell_type": "code",
   "execution_count": 72,
   "metadata": {
    "colab": {
     "base_uri": "https://localhost:8080/",
     "height": 260
    },
    "colab_type": "code",
    "id": "a3o_ziD5hM4r",
    "outputId": "728ca16d-f16c-4d4e-c8e8-48af2baf7b23"
   },
   "outputs": [
    {
     "name": "stderr",
     "output_type": "stream",
     "text": [
      "/usr/local/lib/python3.6/dist-packages/ipykernel_launcher.py:4: DeprecationWarning: generator 'ngrams' raised StopIteration\n",
      "  after removing the cwd from sys.path.\n"
     ]
    },
    {
     "data": {
      "text/plain": [
       "0       [(deed, reason, earthquak), (reason, earthquak...\n",
       "1       [(forest, fire, near), (fire, near, la), (near...\n",
       "2       [(resid, ask, shelter), (ask, shelter, place),...\n",
       "3       [(13000, peopl, receiv), (peopl, receiv, wildf...\n",
       "4       [(got, sent, photo), (sent, photo, rubi), (pho...\n",
       "                              ...                        \n",
       "7608    [(two, giant, crane), (giant, crane, hold), (c...\n",
       "7609    [(ariaahrari, thetawniest, control), (thetawni...\n",
       "7610    [(m194, 0104, utc5km), (0104, utc5km, volcano)...\n",
       "7611    [(polic, investig, ebik), (investig, ebik, col...\n",
       "7612    [(latest, home, raze), (home, raze, northern),...\n",
       "Name: cleaned_text, Length: 7613, dtype: object"
      ]
     },
     "execution_count": 72,
     "metadata": {
      "tags": []
     },
     "output_type": "execute_result"
    }
   ],
   "source": [
    "trigramas_train = entrenamiento_df['cleaned_text'].agg(lambda x: trigramas(x))\n",
    "trigramas_train"
   ]
  },
  {
   "cell_type": "code",
   "execution_count": 73,
   "metadata": {
    "colab": {
     "base_uri": "https://localhost:8080/",
     "height": 260
    },
    "colab_type": "code",
    "id": "B621YM7fhM45",
    "outputId": "ed3683c4-5c18-4e85-8bd7-fa55c2424f44"
   },
   "outputs": [
    {
     "name": "stderr",
     "output_type": "stream",
     "text": [
      "/usr/local/lib/python3.6/dist-packages/ipykernel_launcher.py:4: DeprecationWarning: generator 'ngrams' raised StopIteration\n",
      "  after removing the cwd from sys.path.\n"
     ]
    },
    {
     "data": {
      "text/plain": [
       "0         [(happen, terribl, car), (terribl, car, crash)]\n",
       "1       [(heard, earthquak, differ), (earthquak, diffe...\n",
       "2       [(forest, fire, spot), (fire, spot, pond), (sp...\n",
       "3       [(apocalyps, light, spokan), (light, spokan, w...\n",
       "4       [(typhoon, soudelor, kill), (soudelor, kill, 2...\n",
       "                              ...                        \n",
       "3258    [(earthquak, safeti, lo), (safeti, lo, angel),...\n",
       "3259    [(storm, ri, wors), (ri, wors, last), (wors, l...\n",
       "3260     [(green, line, derail), (line, derail, chicago)]\n",
       "3261    [(meg, issu, hazard), (issu, hazard, weather),...\n",
       "3262    [(cityofcalgari, activ, municip), (activ, muni...\n",
       "Name: cleaned_text, Length: 3263, dtype: object"
      ]
     },
     "execution_count": 73,
     "metadata": {
      "tags": []
     },
     "output_type": "execute_result"
    }
   ],
   "source": [
    "trigramas_test = test_df['cleaned_text'].agg(lambda x: trigramas(x))\n",
    "trigramas_test"
   ]
  },
  {
   "cell_type": "code",
   "execution_count": 74,
   "metadata": {
    "colab": {},
    "colab_type": "code",
    "id": "9RxdaTo4hM5F"
   },
   "outputs": [],
   "source": [
    "dic_trigramas = {}\n"
   ]
  },
  {
   "cell_type": "code",
   "execution_count": 75,
   "metadata": {
    "colab": {
     "base_uri": "https://localhost:8080/",
     "height": 34
    },
    "colab_type": "code",
    "id": "VVnwKxoHhM5R",
    "outputId": "e3e40d93-6f80-458d-afb4-857b50bcbcec"
   },
   "outputs": [
    {
     "data": {
      "text/plain": [
       "5374"
      ]
     },
     "execution_count": 75,
     "metadata": {
      "tags": []
     },
     "output_type": "execute_result"
    }
   ],
   "source": [
    "vectorizer3 = CountVectorizer(ngram_range=(3, 3), min_df=2)\n",
    "vectorizer3.fit_transform(entrenamiento_df['cleaned_text'].append(test_df['cleaned_text']))\n",
    "len(vectorizer3.get_feature_names())"
   ]
  },
  {
   "cell_type": "code",
   "execution_count": 76,
   "metadata": {
    "colab": {
     "base_uri": "https://localhost:8080/",
     "height": 191
    },
    "colab_type": "code",
    "id": "YaUbCZEvhM5b",
    "outputId": "7555151f-5efb-44f0-9f5f-0231a4ce229a"
   },
   "outputs": [
    {
     "data": {
      "text/plain": [
       "['001116 utc20150805 161116',\n",
       " '005225 utc20150805 175225',\n",
       " '0104 utc5km volcano',\n",
       " '010401 utc20150805 150401',\n",
       " '02 scene pandemonium',\n",
       " '05 1038pm edt',\n",
       " '05 1040pm edt',\n",
       " '05 915pm cdt',\n",
       " '05 curfew oper',\n",
       " '05th 2029 mdt']"
      ]
     },
     "execution_count": 76,
     "metadata": {
      "tags": []
     },
     "output_type": "execute_result"
    }
   ],
   "source": [
    "vectorizer3.get_feature_names()[:10]"
   ]
  },
  {
   "cell_type": "code",
   "execution_count": 77,
   "metadata": {
    "colab": {},
    "colab_type": "code",
    "id": "RBJb38s1hM5k"
   },
   "outputs": [],
   "source": [
    "ngrams3 = vectorizer3.get_feature_names()"
   ]
  },
  {
   "cell_type": "code",
   "execution_count": 100,
   "metadata": {
    "colab": {},
    "colab_type": "code",
    "id": "cW_HA16ehM6E"
   },
   "outputs": [],
   "source": [
    "for i in range(0, len(textos_train)):\n",
    "  texto = textos_train[i]\n",
    "  for t in trigramas_train[i]:\n",
    "    tgrm = t[0]+' '+t[1]+' '+t[2]\n",
    "    if tgrm in ngrams3:\n",
    "      texto += ' ' + t[0] + t[1] + t[2]\n",
    "  textos_train[i] = texto"
   ]
  },
  {
   "cell_type": "code",
   "execution_count": 101,
   "metadata": {
    "colab": {
     "base_uri": "https://localhost:8080/",
     "height": 225
    },
    "colab_type": "code",
    "id": "fO3lgO4HhM6T",
    "outputId": "6d452b8d-b996-4843-85f8-81d4e49c96d0"
   },
   "outputs": [
    {
     "data": {
      "text/plain": [
       "0       deed reason earthquak may allah forgiv us maya...\n",
       "1       forest fire near la rong sask canada forestfir...\n",
       "2       resid ask shelter place notifi offic evacu she...\n",
       "3       13000 peopl receiv wildfir evacu order califor...\n",
       "4       got sent photo rubi alaska smoke wildfir pour ...\n",
       "                              ...                        \n",
       "7608    two giant crane hold bridg collaps nearbi home...\n",
       "7609    ariaahrari thetawniest control wild fire calif...\n",
       "7610    m194 0104 utc5km volcano hawaii  m1940104 0104...\n",
       "7611    polic investig ebik collid car littl portug eb...\n",
       "7612    latest home raze northern california wildfir a...\n",
       "Length: 7613, dtype: object"
      ]
     },
     "execution_count": 101,
     "metadata": {
      "tags": []
     },
     "output_type": "execute_result"
    }
   ],
   "source": [
    "textos_train"
   ]
  },
  {
   "cell_type": "code",
   "execution_count": 103,
   "metadata": {
    "colab": {},
    "colab_type": "code",
    "id": "Yjyp25achM6f"
   },
   "outputs": [],
   "source": [
    "for i in range(0, len(test_df)):\n",
    "  texto = textos_test[i]\n",
    "  for t in trigramas_test[i]:\n",
    "    tgrm = t[0]+' '+t[1]+' '+t[2]\n",
    "    if tgrm in ngrams3:\n",
    "      texto += ' ' + t[0] + t[1] + t[2]\n",
    "  textos_test[i] = texto"
   ]
  },
  {
   "cell_type": "code",
   "execution_count": 104,
   "metadata": {
    "colab": {
     "base_uri": "https://localhost:8080/",
     "height": 225
    },
    "colab_type": "code",
    "id": "E6R2DAuShM6r",
    "outputId": "2cd06cb4-f808-4952-b7a2-7b96c3b37f8a"
   },
   "outputs": [
    {
     "data": {
      "text/plain": [
       "0                  happen terribl car crash carcrash None\n",
       "1       heard earthquak differ citi stay safe everyon ...\n",
       "2       forest fire spot pond gees flee across street ...\n",
       "3                     apocalyps light spokan wildfir None\n",
       "4       typhoon soudelor kill 28 china taiwan typhoons...\n",
       "                              ...                        \n",
       "3258    earthquak safeti lo angel ûò safeti fasten xrw...\n",
       "3259    storm ri wors last hurrican cityamp3oth hardes...\n",
       "3260    green line derail chicago  greenline linederai...\n",
       "3261    meg issu hazard weather outlook hwo  megissu i...\n",
       "3262    cityofcalgari activ municip emerg plan yycstor...\n",
       "Length: 3263, dtype: object"
      ]
     },
     "execution_count": 104,
     "metadata": {
      "tags": []
     },
     "output_type": "execute_result"
    }
   ],
   "source": [
    "textos_test"
   ]
  },
  {
   "cell_type": "code",
   "execution_count": 105,
   "metadata": {
    "colab": {
     "base_uri": "https://localhost:8080/",
     "height": 34
    },
    "colab_type": "code",
    "id": "8dwEKEU7hM67",
    "outputId": "730f9404-692b-4c22-fcfa-e2743f01cd80"
   },
   "outputs": [
    {
     "data": {
      "text/plain": [
       "32642"
      ]
     },
     "execution_count": 105,
     "metadata": {
      "tags": []
     },
     "output_type": "execute_result"
    }
   ],
   "source": [
    "vocab_size += len(ngrams3)\n",
    "vocab_size"
   ]
  },
  {
   "cell_type": "code",
   "execution_count": 160,
   "metadata": {
    "colab": {
     "base_uri": "https://localhost:8080/",
     "height": 885
    },
    "colab_type": "code",
    "id": "7-JWntt-k6ps",
    "outputId": "2c6ac7a6-6fcd-4c2c-825c-fe4d0f924d3c"
   },
   "outputs": [
    {
     "data": {
      "text/plain": [
       "13    477\n",
       "12    465\n",
       "14    454\n",
       "11    447\n",
       "15    444\n",
       "10    431\n",
       "16    389\n",
       "17    385\n",
       "9     354\n",
       "8     319\n",
       "7     286\n",
       "18    268\n",
       "6     257\n",
       "20    235\n",
       "5     213\n",
       "19    205\n",
       "23    167\n",
       "21    156\n",
       "4     145\n",
       "26    119\n",
       "32    109\n",
       "29    108\n",
       "24    108\n",
       "22     95\n",
       "27     90\n",
       "3      85\n",
       "28     78\n",
       "31     73\n",
       "36     68\n",
       "33     67\n",
       "25     67\n",
       "34     63\n",
       "37     55\n",
       "30     50\n",
       "38     48\n",
       "35     45\n",
       "40     31\n",
       "39     28\n",
       "42     26\n",
       "43     16\n",
       "41     16\n",
       "2      15\n",
       "44     14\n",
       "48     11\n",
       "45      9\n",
       "47      7\n",
       "51      6\n",
       "46      5\n",
       "49      4\n",
       "dtype: int64"
      ]
     },
     "execution_count": 160,
     "metadata": {
      "tags": []
     },
     "output_type": "execute_result"
    }
   ],
   "source": [
    "textos_train.agg(lambda x: len(x.split(' '))).value_counts()"
   ]
  },
  {
   "cell_type": "code",
   "execution_count": 121,
   "metadata": {
    "colab": {
     "base_uri": "https://localhost:8080/",
     "height": 885
    },
    "colab_type": "code",
    "id": "jLOiAHLDllrB",
    "outputId": "9094dfaa-334e-4efb-a3bc-89fc534c3080"
   },
   "outputs": [
    {
     "data": {
      "text/plain": [
       "14    213\n",
       "13    201\n",
       "11    200\n",
       "15    199\n",
       "12    190\n",
       "17    176\n",
       "10    170\n",
       "9     154\n",
       "16    151\n",
       "8     128\n",
       "7     120\n",
       "18    114\n",
       "6     104\n",
       "19     97\n",
       "20     96\n",
       "5      78\n",
       "21     70\n",
       "4      65\n",
       "23     62\n",
       "26     52\n",
       "32     47\n",
       "22     46\n",
       "3      42\n",
       "27     42\n",
       "29     40\n",
       "24     33\n",
       "37     31\n",
       "33     30\n",
       "35     30\n",
       "28     29\n",
       "38     28\n",
       "36     27\n",
       "25     26\n",
       "30     24\n",
       "31     24\n",
       "34     20\n",
       "43     20\n",
       "39     16\n",
       "42     15\n",
       "2      12\n",
       "40     10\n",
       "41      7\n",
       "44      6\n",
       "51      6\n",
       "49      3\n",
       "47      3\n",
       "46      2\n",
       "48      2\n",
       "45      2\n",
       "dtype: int64"
      ]
     },
     "execution_count": 121,
     "metadata": {
      "tags": []
     },
     "output_type": "execute_result"
    }
   ],
   "source": [
    "textos_test.agg(lambda x: len(x.split(' '))).value_counts()"
   ]
  },
  {
   "cell_type": "code",
   "execution_count": 161,
   "metadata": {
    "colab": {},
    "colab_type": "code",
    "id": "bJ2rVc38hM7F"
   },
   "outputs": [],
   "source": [
    "train_encoded = [one_hot(texto, vocab_size) for texto in textos_train]\n",
    "test_encoded = [one_hot(texto, vocab_size) for texto in textos_test]"
   ]
  },
  {
   "cell_type": "code",
   "execution_count": 151,
   "metadata": {
    "colab": {},
    "colab_type": "code",
    "id": "eWGtkx5Ll4uK"
   },
   "outputs": [],
   "source": [
    "max_len = 40"
   ]
  },
  {
   "cell_type": "code",
   "execution_count": 162,
   "metadata": {
    "colab": {},
    "colab_type": "code",
    "id": "JRDBh5PNhM7Y"
   },
   "outputs": [],
   "source": [
    "train_padded = pad_sequences(train_encoded, maxlen=max_len, padding='post')\n",
    "test_padded = pad_sequences(test_encoded, maxlen=max_len, padding='post')"
   ]
  },
  {
   "cell_type": "code",
   "execution_count": 110,
   "metadata": {
    "colab": {},
    "colab_type": "code",
    "id": "AVOpxpIOhM7r"
   },
   "outputs": [],
   "source": [
    "model = Sequential()\n",
    "model.add(Embedding(vocab_size, embedding_dims, input_length=max_len))\n",
    "model.add(Dropout(0.5))\n",
    "model.add(Conv1D(filters, kernel_size, padding='valid', activation='relu'))\n",
    "model.add(MaxPooling1D())\n",
    "model.add(Conv1D(filters, kernel_size, padding='valid', activation='relu'))\n",
    "model.add(MaxPooling1D())\n",
    "model.add(Flatten())\n",
    "model.add(Dense(hidden_dims, activation='relu'))\n",
    "model.add(Dropout(0.5))\n",
    "model.add(Dense(1, activation='sigmoid'))"
   ]
  },
  {
   "cell_type": "code",
   "execution_count": 111,
   "metadata": {
    "colab": {},
    "colab_type": "code",
    "id": "f8S5mPwOhM7z"
   },
   "outputs": [],
   "source": [
    "model.compile(loss='binary_crossentropy', optimizer='adam', metrics=['accuracy'])"
   ]
  },
  {
   "cell_type": "code",
   "execution_count": 112,
   "metadata": {
    "colab": {
     "base_uri": "https://localhost:8080/",
     "height": 382
    },
    "colab_type": "code",
    "id": "vB_ZlkruhM75",
    "outputId": "f2f11639-ae1a-4ebe-99a3-6d5998cc3617"
   },
   "outputs": [
    {
     "name": "stdout",
     "output_type": "stream",
     "text": [
      "Epoch 1/10\n",
      "77/77 [==============================] - 1s 13ms/step - loss: 0.6613 - accuracy: 0.6044\n",
      "Epoch 2/10\n",
      "77/77 [==============================] - 1s 14ms/step - loss: 0.5116 - accuracy: 0.7542\n",
      "Epoch 3/10\n",
      "77/77 [==============================] - 1s 14ms/step - loss: 0.3782 - accuracy: 0.8397\n",
      "Epoch 4/10\n",
      "77/77 [==============================] - 1s 14ms/step - loss: 0.3102 - accuracy: 0.8744\n",
      "Epoch 5/10\n",
      "77/77 [==============================] - 1s 14ms/step - loss: 0.2596 - accuracy: 0.8979\n",
      "Epoch 6/10\n",
      "77/77 [==============================] - 1s 14ms/step - loss: 0.2203 - accuracy: 0.9145\n",
      "Epoch 7/10\n",
      "77/77 [==============================] - 1s 14ms/step - loss: 0.1891 - accuracy: 0.9289\n",
      "Epoch 8/10\n",
      "77/77 [==============================] - 1s 14ms/step - loss: 0.1655 - accuracy: 0.9367\n",
      "Epoch 9/10\n",
      "77/77 [==============================] - 1s 14ms/step - loss: 0.1472 - accuracy: 0.9455\n",
      "Epoch 10/10\n",
      "77/77 [==============================] - 1s 14ms/step - loss: 0.1332 - accuracy: 0.9496\n"
     ]
    },
    {
     "data": {
      "text/plain": [
       "<tensorflow.python.keras.callbacks.History at 0x7f88c9c3e780>"
      ]
     },
     "execution_count": 112,
     "metadata": {
      "tags": []
     },
     "output_type": "execute_result"
    }
   ],
   "source": [
    "model.fit(train_padded, y, batch_size=batch_size, epochs=epochs)"
   ]
  },
  {
   "cell_type": "code",
   "execution_count": 163,
   "metadata": {
    "colab": {
     "base_uri": "https://localhost:8080/",
     "height": 69
    },
    "colab_type": "code",
    "id": "n50cCIdnhM8S",
    "outputId": "0516353f-2023-44f5-924d-a0f6a2d7c833"
   },
   "outputs": [
    {
     "name": "stdout",
     "output_type": "stream",
     "text": [
      "Accuracy: 0.795902\n",
      "Accuracy: 0.775808\n",
      "Accuracy: 0.775325\n"
     ]
    }
   ],
   "source": [
    "for train_index, test_index in kf.split(train_padded):\n",
    "  X_train, X_test = train_padded[train_index], train_padded[test_index]\n",
    "  y_train, y_test = y.iloc[train_index], y.iloc[test_index]\n",
    "\n",
    "  model = Sequential()\n",
    "  model.add(Embedding(vocab_size, embedding_dims, input_length=max_len))\n",
    "  model.add(Dropout(0.5))\n",
    "  model.add(Conv1D(filters, kernel_size, padding='valid', activation='relu'))\n",
    "  model.add(MaxPooling1D())\n",
    "  model.add(Conv1D(filters, kernel_size, padding='valid', activation='sigmoid'))\n",
    "  model.add(MaxPooling1D())\n",
    "  model.add(LSTM(64))\n",
    "  model.add(Flatten())\n",
    "  model.add(Dense(hidden_dims, activation='relu'))\n",
    "  model.add(Dropout(0.5))\n",
    "  model.add(Dense(1, activation='sigmoid'))\n",
    "\n",
    "  model.compile(loss='binary_crossentropy', optimizer='adam', metrics=['accuracy'])\n",
    "  model.fit(X_train, y_train, batch_size=batch_size, epochs=5, verbose=0)\n",
    "  loss, accuracy = model.evaluate(X_test, y_test, verbose=0)\n",
    "  print('Accuracy: %f' % (accuracy))"
   ]
  },
  {
   "cell_type": "code",
   "execution_count": null,
   "metadata": {
    "colab": {},
    "colab_type": "code",
    "id": "2lX8Qat5hM8a"
   },
   "outputs": [],
   "source": [
    "model = Sequential()\n",
    "model.add(Embedding(vocab_size, embedding_dims, input_length=max_len))\n",
    "model.add(Dropout(0.5))\n",
    "model.add(Conv1D(filters, kernel_size, padding='valid', activation='relu'))\n",
    "model.add(MaxPooling1D())\n",
    "model.add(Conv1D(filters, kernel_size, padding='valid', activation='sigmoid'))\n",
    "model.add(MaxPooling1D())\n",
    "model.add(LSTM(64))\n",
    "model.add(Flatten())\n",
    "model.add(Dense(hidden_dims, activation='relu'))\n",
    "model.add(Dropout(0.5))\n",
    "model.add(Dense(1, activation='sigmoid'))\n",
    "\n",
    "model.compile(loss='binary_crossentropy', optimizer='adam', metrics=['accuracy'])"
   ]
  },
  {
   "cell_type": "code",
   "execution_count": null,
   "metadata": {
    "colab": {
     "base_uri": "https://localhost:8080/",
     "height": 208
    },
    "colab_type": "code",
    "id": "UWNzleCLhM8h",
    "outputId": "ac23e0ba-001f-4c4e-e91b-6eee015f1b06"
   },
   "outputs": [
    {
     "name": "stdout",
     "output_type": "stream",
     "text": [
      "Epoch 1/5\n",
      "77/77 [==============================] - 1s 19ms/step - loss: 0.6850 - accuracy: 0.5684\n",
      "Epoch 2/5\n",
      "77/77 [==============================] - 1s 19ms/step - loss: 0.6847 - accuracy: 0.5688\n",
      "Epoch 3/5\n",
      "77/77 [==============================] - 1s 19ms/step - loss: 0.6579 - accuracy: 0.6099\n",
      "Epoch 4/5\n",
      "77/77 [==============================] - 1s 18ms/step - loss: 0.4338 - accuracy: 0.8130\n",
      "Epoch 5/5\n",
      "77/77 [==============================] - 1s 19ms/step - loss: 0.3512 - accuracy: 0.8554\n"
     ]
    },
    {
     "data": {
      "text/plain": [
       "<tensorflow.python.keras.callbacks.History at 0x7f88afcadda0>"
      ]
     },
     "execution_count": 69,
     "metadata": {
      "tags": []
     },
     "output_type": "execute_result"
    }
   ],
   "source": [
    "model.fit(train_padded, y, batch_size=100, epochs=5)"
   ]
  },
  {
   "cell_type": "code",
   "execution_count": 164,
   "metadata": {
    "colab": {},
    "colab_type": "code",
    "id": "YYUPYOUOhFVc"
   },
   "outputs": [],
   "source": [
    "location_train = entrenamiento_df['location'].fillna('None')\n",
    "location_test = test_df['location'].fillna('None')"
   ]
  },
  {
   "cell_type": "code",
   "execution_count": 167,
   "metadata": {
    "colab": {
     "base_uri": "https://localhost:8080/",
     "height": 72
    },
    "colab_type": "code",
    "id": "y_SsuCjarLSD",
    "outputId": "660281aa-974a-4282-e1c1-386f6bad7e0d"
   },
   "outputs": [
    {
     "name": "stderr",
     "output_type": "stream",
     "text": [
      "/usr/local/lib/python3.6/dist-packages/ipykernel_launcher.py:1: DeprecationWarning: The default dtype for empty Series will be 'object' instead of 'float64' in a future version. Specify a dtype explicitly to silence this warning.\n",
      "  \"\"\"Entry point for launching an IPython kernel.\n"
     ]
    }
   ],
   "source": [
    "train2 = pd.Series()\n",
    "for i in range(0, len(entrenamiento_df)):\n",
    "  texto = location_train[i]\n",
    "  texto += ' ' + textos_train[i]\n",
    "  train2[str(i)] = texto"
   ]
  },
  {
   "cell_type": "code",
   "execution_count": 168,
   "metadata": {
    "colab": {
     "base_uri": "https://localhost:8080/",
     "height": 72
    },
    "colab_type": "code",
    "id": "pTTGVb2qhF4G",
    "outputId": "f815f465-4bc0-4d8f-f6d1-b1a5fbd9d3f5"
   },
   "outputs": [
    {
     "name": "stderr",
     "output_type": "stream",
     "text": [
      "/usr/local/lib/python3.6/dist-packages/ipykernel_launcher.py:1: DeprecationWarning: The default dtype for empty Series will be 'object' instead of 'float64' in a future version. Specify a dtype explicitly to silence this warning.\n",
      "  \"\"\"Entry point for launching an IPython kernel.\n"
     ]
    }
   ],
   "source": [
    "test2 = pd.Series()\n",
    "for i in range(0, len(test_df)):\n",
    "  texto = location_test[i]\n",
    "  texto += ' ' + textos_test[i]\n",
    "  test2[str(i)] = texto"
   ]
  },
  {
   "cell_type": "code",
   "execution_count": 170,
   "metadata": {
    "colab": {
     "base_uri": "https://localhost:8080/",
     "height": 34
    },
    "colab_type": "code",
    "id": "LXD03H-3s5w2",
    "outputId": "3e2db1dc-46ae-4a58-e59a-a285e8fdb07c"
   },
   "outputs": [
    {
     "data": {
      "text/plain": [
       "37162"
      ]
     },
     "execution_count": 170,
     "metadata": {
      "tags": []
     },
     "output_type": "execute_result"
    }
   ],
   "source": [
    "vocab_size += len(entrenamiento_df['location'].append(test_df['location']).value_counts())\n",
    "vocab_size"
   ]
  },
  {
   "cell_type": "code",
   "execution_count": 171,
   "metadata": {
    "colab": {},
    "colab_type": "code",
    "id": "iTMr3frFsnfY"
   },
   "outputs": [],
   "source": [
    "train_encoded = [one_hot(texto, vocab_size) for texto in train2]\n",
    "test_encoded = [one_hot(texto, vocab_size) for texto in test2]"
   ]
  },
  {
   "cell_type": "code",
   "execution_count": 172,
   "metadata": {
    "colab": {},
    "colab_type": "code",
    "id": "FF8a5G0usnfv"
   },
   "outputs": [],
   "source": [
    "max_len = 40"
   ]
  },
  {
   "cell_type": "code",
   "execution_count": 173,
   "metadata": {
    "colab": {},
    "colab_type": "code",
    "id": "lR94x2xosngC"
   },
   "outputs": [],
   "source": [
    "train_padded = pad_sequences(train_encoded, maxlen=max_len, padding='post')\n",
    "test_padded = pad_sequences(test_encoded, maxlen=max_len, padding='post')"
   ]
  },
  {
   "cell_type": "markdown",
   "metadata": {
    "colab_type": "text",
    "id": "QnHtHXKqSLE5"
   },
   "source": [
    "Pruebo con distintos parámetros"
   ]
  },
  {
   "cell_type": "code",
   "execution_count": null,
   "metadata": {
    "colab": {},
    "colab_type": "code",
    "id": "FOVtHNEZsnhP"
   },
   "outputs": [],
   "source": [
    "kf = KFold(n_splits=3, random_state=123, shuffle=True)"
   ]
  },
  {
   "cell_type": "code",
   "execution_count": 174,
   "metadata": {
    "colab": {
     "base_uri": "https://localhost:8080/",
     "height": 69
    },
    "colab_type": "code",
    "id": "Dg_iW-AAsnha",
    "outputId": "19f0a852-d95e-4f02-c67b-041e4b5e11ae"
   },
   "outputs": [
    {
     "name": "stdout",
     "output_type": "stream",
     "text": [
      "Accuracy: 0.798266\n",
      "Accuracy: 0.776202\n",
      "Accuracy: 0.804493\n"
     ]
    }
   ],
   "source": [
    "for train_index, test_index in kf.split(train_padded):\n",
    "  X_train, X_test = train_padded[train_index], train_padded[test_index]\n",
    "  y_train, y_test = y.iloc[train_index], y.iloc[test_index]\n",
    "\n",
    "  model = Sequential()\n",
    "  model.add(Embedding(vocab_size, embedding_dims, input_length=max_len))\n",
    "  model.add(Dropout(0.5))\n",
    "  model.add(Conv1D(filters, kernel_size, padding='valid', activation='relu'))\n",
    "  model.add(MaxPooling1D())\n",
    "  model.add(Conv1D(filters, kernel_size, padding='valid', activation='sigmoid'))\n",
    "  model.add(MaxPooling1D())\n",
    "  model.add(LSTM(64))\n",
    "  model.add(Flatten())\n",
    "  model.add(Dense(hidden_dims, activation='relu'))\n",
    "  model.add(Dropout(0.5))\n",
    "  model.add(Dense(1, activation='sigmoid'))\n",
    "\n",
    "  model.compile(loss='binary_crossentropy', optimizer='adam', metrics=['accuracy'])\n",
    "  model.fit(X_train, y_train, batch_size=batch_size, epochs=5, verbose=0)\n",
    "  loss, accuracy = model.evaluate(X_test, y_test, verbose=0)\n",
    "  print('Accuracy: %f' % (accuracy))"
   ]
  },
  {
   "cell_type": "code",
   "execution_count": 215,
   "metadata": {
    "colab": {
     "base_uri": "https://localhost:8080/",
     "height": 434
    },
    "colab_type": "code",
    "id": "MU0WYGb0x4wc",
    "outputId": "5f9e595e-ee83-4bcc-edb0-e5e8b26e3748"
   },
   "outputs": [
    {
     "name": "stdout",
     "output_type": "stream",
     "text": [
      "Batch size: 60\n",
      "Accuracy: 0.806541\n",
      "Accuracy: 0.767533\n",
      "Accuracy: 0.791880\n",
      "Batch size: 70\n",
      "Accuracy: 0.799054\n",
      "Accuracy: 0.770292\n",
      "Accuracy: 0.791092\n",
      "Batch size: 80\n",
      "Accuracy: 0.793144\n",
      "Accuracy: 0.758865\n",
      "Accuracy: 0.800552\n",
      "Batch size: 90\n",
      "Accuracy: 0.802206\n",
      "Accuracy: 0.784870\n",
      "Accuracy: 0.800946\n",
      "Batch size: 100\n",
      "Accuracy: 0.800630\n",
      "Accuracy: 0.778960\n",
      "Accuracy: 0.802523\n",
      "Batch size: 110\n",
      "Accuracy: 0.797872\n",
      "Accuracy: 0.785658\n",
      "Accuracy: 0.804493\n"
     ]
    }
   ],
   "source": [
    "for batch_size in [60, 70, 80, 90, 100, 110]:\n",
    "  print('Batch size: %i' %(batch_size))\n",
    "  for train_index, test_index in kf.split(train_padded):\n",
    "    X_train, X_test = train_padded[train_index], train_padded[test_index]\n",
    "    y_train, y_test = y.iloc[train_index], y.iloc[test_index]\n",
    "\n",
    "    model = Sequential()\n",
    "    model.add(Embedding(vocab_size, embedding_dims, input_length=max_len))\n",
    "    model.add(Dropout(0.5))\n",
    "    model.add(Conv1D(filters, kernel_size, padding='valid', activation='relu'))\n",
    "    model.add(MaxPooling1D())\n",
    "    model.add(Conv1D(filters, kernel_size, padding='valid', activation='sigmoid'))\n",
    "    model.add(MaxPooling1D())\n",
    "    model.add(LSTM(64))\n",
    "    model.add(Flatten())\n",
    "    model.add(Dense(hidden_dims, activation='relu'))\n",
    "    model.add(Dropout(0.5))\n",
    "    model.add(Dense(1, activation='sigmoid'))\n",
    "\n",
    "    model.compile(loss='binary_crossentropy', optimizer='adam', metrics=['accuracy'])\n",
    "    model.fit(X_train, y_train, batch_size=batch_size, epochs=5, verbose=0)\n",
    "    loss, accuracy = model.evaluate(X_test, y_test, verbose=0)\n",
    "    print('Accuracy: %f' % (accuracy))"
   ]
  },
  {
   "cell_type": "code",
   "execution_count": 224,
   "metadata": {
    "colab": {},
    "colab_type": "code",
    "id": "uIZiNw8WvYnQ"
   },
   "outputs": [],
   "source": [
    "batch_size = 90"
   ]
  },
  {
   "cell_type": "code",
   "execution_count": 181,
   "metadata": {
    "colab": {
     "base_uri": "https://localhost:8080/",
     "height": 295
    },
    "colab_type": "code",
    "id": "_wGd1H3FvUz8",
    "outputId": "67b472a1-ab5a-4dac-c81e-bdbd0d764e40"
   },
   "outputs": [
    {
     "name": "stdout",
     "output_type": "stream",
     "text": [
      "Hidden dims: 150\n",
      "Accuracy: 0.789204\n",
      "Accuracy: 0.777778\n",
      "Accuracy: 0.790304\n",
      "Hidden dims: 200\n",
      "Accuracy: 0.768716\n",
      "Accuracy: 0.778172\n",
      "Accuracy: 0.777690\n",
      "Hidden dims: 250\n",
      "Accuracy: 0.800630\n",
      "Accuracy: 0.773444\n",
      "Accuracy: 0.800158\n",
      "Hidden dims: 300\n",
      "Accuracy: 0.786446\n",
      "Accuracy: 0.770686\n",
      "Accuracy: 0.797399\n"
     ]
    }
   ],
   "source": [
    "for hidden_dims in [150, 200, 250, 300]:\n",
    "  print('Hidden dims: %i' % (hidden_dims))\n",
    "  for train_index, test_index in kf.split(train_padded):\n",
    "    X_train, X_test = train_padded[train_index], train_padded[test_index]\n",
    "    y_train, y_test = y.iloc[train_index], y.iloc[test_index]\n",
    "\n",
    "    model = Sequential()\n",
    "    model.add(Embedding(vocab_size, embedding_dims, input_length=max_len))\n",
    "    model.add(Dropout(0.5))\n",
    "    model.add(Conv1D(filters, kernel_size, padding='valid', activation='relu'))\n",
    "    model.add(MaxPooling1D())\n",
    "    model.add(Conv1D(filters, kernel_size, padding='valid', activation='sigmoid'))\n",
    "    model.add(MaxPooling1D())\n",
    "    model.add(LSTM(64))\n",
    "    model.add(Flatten())\n",
    "    model.add(Dense(hidden_dims, activation='relu'))\n",
    "    model.add(Dropout(0.5))\n",
    "    model.add(Dense(1, activation='sigmoid'))\n",
    "\n",
    "    model.compile(loss='binary_crossentropy', optimizer='adam', metrics=['accuracy'])\n",
    "    model.fit(X_train, y_train, batch_size=batch_size, epochs=5, verbose=0)\n",
    "    loss, accuracy = model.evaluate(X_test, y_test, verbose=0)\n",
    "    print('Accuracy: %f' % (accuracy))"
   ]
  },
  {
   "cell_type": "code",
   "execution_count": 183,
   "metadata": {
    "colab": {},
    "colab_type": "code",
    "id": "PJn4LwrywTj3"
   },
   "outputs": [],
   "source": [
    "hidden_dims = 250"
   ]
  },
  {
   "cell_type": "code",
   "execution_count": 204,
   "metadata": {
    "colab": {
     "base_uri": "https://localhost:8080/",
     "height": 364
    },
    "colab_type": "code",
    "id": "-Qrg9QP11Q1s",
    "outputId": "b482a9bd-5f0b-4b3c-a66c-43e5801b0e37"
   },
   "outputs": [
    {
     "name": "stdout",
     "output_type": "stream",
     "text": [
      "Epochs: 3\n",
      "Accuracy: 0.770686\n",
      "Accuracy: 0.705280\n",
      "Accuracy: 0.756799\n",
      "Epochs: 4\n",
      "Accuracy: 0.790780\n",
      "Accuracy: 0.780536\n",
      "Accuracy: 0.795822\n",
      "Epochs: 5\n",
      "Accuracy: 0.784476\n",
      "Accuracy: 0.780536\n",
      "Accuracy: 0.797004\n",
      "Epochs: 6\n",
      "Accuracy: 0.790780\n",
      "Accuracy: 0.775020\n",
      "Accuracy: 0.789121\n",
      "Epochs: 7\n",
      "Accuracy: 0.782900\n",
      "Accuracy: 0.773050\n",
      "Accuracy: 0.783997\n"
     ]
    }
   ],
   "source": [
    "for epochs in [3, 4, 5, 6, 7]:\n",
    "  print('Epochs: %i' % (epochs))\n",
    "  for train_index, test_index in kf.split(train_padded):\n",
    "    X_train, X_test = train_padded[train_index], train_padded[test_index]\n",
    "    y_train, y_test = y.iloc[train_index], y.iloc[test_index]\n",
    "\n",
    "    model = Sequential()\n",
    "    model.add(Embedding(vocab_size, embedding_dims, input_length=max_len))\n",
    "    model.add(Dropout(0.5))\n",
    "    model.add(Conv1D(filters, kernel_size, padding='valid', activation='relu'))\n",
    "    model.add(MaxPooling1D())\n",
    "    model.add(Conv1D(filters, kernel_size, padding='valid', activation='sigmoid'))\n",
    "    model.add(MaxPooling1D())\n",
    "    model.add(Conv1D(filters, 2, padding='valid', activation='softmax'))\n",
    "    model.add(Bidirectional(LSTM(64)))\n",
    "    model.add(Flatten())\n",
    "    model.add(Dense(hidden_dims, activation='relu'))\n",
    "    model.add(Dropout(0.5))\n",
    "    model.add(Dense(1, activation='sigmoid'))\n",
    "\n",
    "    model.compile(loss='binary_crossentropy', optimizer='adam', metrics=['accuracy'])\n",
    "    model.fit(X_train, y_train, batch_size=batch_size, epochs=epochs, verbose=0)\n",
    "    loss, accuracy = model.evaluate(X_test, y_test, verbose=0)\n",
    "    print('Accuracy: %f' % (accuracy))"
   ]
  },
  {
   "cell_type": "code",
   "execution_count": 206,
   "metadata": {
    "colab": {
     "base_uri": "https://localhost:8080/",
     "height": 364
    },
    "colab_type": "code",
    "id": "LbLzh8k42tg0",
    "outputId": "80b8f3a9-2804-438c-da80-4c127de0b5a0"
   },
   "outputs": [
    {
     "name": "stdout",
     "output_type": "stream",
     "text": [
      "Patience: 2\n",
      "Accuracy: 0.761623\n",
      "Accuracy: 0.765169\n",
      "Accuracy: 0.769807\n",
      "Patience: 3\n",
      "Accuracy: 0.778960\n",
      "Accuracy: 0.760835\n",
      "Accuracy: 0.768230\n",
      "Patience: 4\n",
      "Accuracy: 0.758077\n",
      "Accuracy: 0.766745\n",
      "Accuracy: 0.757588\n",
      "Patience: 5\n",
      "Accuracy: 0.774232\n",
      "Accuracy: 0.754531\n",
      "Accuracy: 0.763500\n",
      "Patience: 6\n",
      "Accuracy: 0.769898\n",
      "Accuracy: 0.752561\n",
      "Accuracy: 0.767048\n"
     ]
    }
   ],
   "source": [
    "for p in [2,3,4,5,6]:\n",
    "  print('Patience: %i' % (p))\n",
    "  for train_index, test_index in kf.split(train_padded):\n",
    "    X_train, X_test = train_padded[train_index], train_padded[test_index]\n",
    "    y_train, y_test = y.iloc[train_index], y.iloc[test_index]\n",
    "\n",
    "    model = Sequential()\n",
    "    model.add(Embedding(vocab_size, embedding_dims, input_length=max_len))\n",
    "    model.add(Dropout(0.5))\n",
    "    model.add(Conv1D(filters, kernel_size, padding='valid', activation='relu'))\n",
    "    model.add(MaxPooling1D())\n",
    "    model.add(Conv1D(filters, kernel_size, padding='valid', activation='sigmoid'))\n",
    "    model.add(MaxPooling1D())\n",
    "    model.add(Conv1D(filters, 2, padding='valid', activation='softmax'))\n",
    "    model.add(Bidirectional(LSTM(64)))\n",
    "    model.add(Flatten())\n",
    "    model.add(Dense(hidden_dims, activation='relu'))\n",
    "    model.add(Dropout(0.5))\n",
    "    model.add(Dense(1, activation='sigmoid'))\n",
    "\n",
    "    callback = EarlyStopping(monitor = 'loss', patience = 3)\n",
    "\n",
    "    model.compile(loss='binary_crossentropy', optimizer='adam', metrics=['accuracy'])\n",
    "    model.fit(X_train, y_train, batch_size=batch_size, epochs=epochs, callbacks = [callback], verbose=0)\n",
    "    loss, accuracy = model.evaluate(X_test, y_test, verbose=0)\n",
    "    print('Accuracy: %f' % (accuracy))"
   ]
  },
  {
   "cell_type": "code",
   "execution_count": 246,
   "metadata": {
    "colab": {
     "base_uri": "https://localhost:8080/",
     "height": 1000
    },
    "colab_type": "code",
    "id": "5vjDzmpQ9KNe",
    "outputId": "baa84112-03b5-4d89-e21a-1464fea3ab30"
   },
   "outputs": [
    {
     "name": "stdout",
     "output_type": "stream",
     "text": [
      "Max_len: 15\n",
      "WARNING:tensorflow:Model was constructed with shape (None, 15) for input Tensor(\"embedding_389_input:0\", shape=(None, 15), dtype=float32), but it was called on an input with incompatible shape (None, 40).\n",
      "WARNING:tensorflow:Model was constructed with shape (None, 15) for input Tensor(\"embedding_389_input:0\", shape=(None, 15), dtype=float32), but it was called on an input with incompatible shape (None, 40).\n",
      "WARNING:tensorflow:Model was constructed with shape (None, 15) for input Tensor(\"embedding_389_input:0\", shape=(None, 15), dtype=float32), but it was called on an input with incompatible shape (None, 40).\n",
      "Accuracy: 0.802600\n",
      "WARNING:tensorflow:Model was constructed with shape (None, 15) for input Tensor(\"embedding_390_input:0\", shape=(None, 15), dtype=float32), but it was called on an input with incompatible shape (None, 40).\n",
      "WARNING:tensorflow:Model was constructed with shape (None, 15) for input Tensor(\"embedding_390_input:0\", shape=(None, 15), dtype=float32), but it was called on an input with incompatible shape (None, 40).\n",
      "WARNING:tensorflow:Model was constructed with shape (None, 15) for input Tensor(\"embedding_390_input:0\", shape=(None, 15), dtype=float32), but it was called on an input with incompatible shape (None, 40).\n",
      "Accuracy: 0.784082\n",
      "WARNING:tensorflow:Model was constructed with shape (None, 15) for input Tensor(\"embedding_391_input:0\", shape=(None, 15), dtype=float32), but it was called on an input with incompatible shape (None, 40).\n",
      "WARNING:tensorflow:Model was constructed with shape (None, 15) for input Tensor(\"embedding_391_input:0\", shape=(None, 15), dtype=float32), but it was called on an input with incompatible shape (None, 40).\n",
      "WARNING:tensorflow:Model was constructed with shape (None, 15) for input Tensor(\"embedding_391_input:0\", shape=(None, 15), dtype=float32), but it was called on an input with incompatible shape (None, 40).\n",
      "Accuracy: 0.802523\n",
      "Max_len: 20\n",
      "WARNING:tensorflow:Model was constructed with shape (None, 20) for input Tensor(\"embedding_392_input:0\", shape=(None, 20), dtype=float32), but it was called on an input with incompatible shape (None, 40).\n",
      "WARNING:tensorflow:Model was constructed with shape (None, 20) for input Tensor(\"embedding_392_input:0\", shape=(None, 20), dtype=float32), but it was called on an input with incompatible shape (None, 40).\n",
      "WARNING:tensorflow:Model was constructed with shape (None, 20) for input Tensor(\"embedding_392_input:0\", shape=(None, 20), dtype=float32), but it was called on an input with incompatible shape (None, 40).\n",
      "Accuracy: 0.780536\n",
      "WARNING:tensorflow:Model was constructed with shape (None, 20) for input Tensor(\"embedding_393_input:0\", shape=(None, 20), dtype=float32), but it was called on an input with incompatible shape (None, 40).\n",
      "WARNING:tensorflow:Model was constructed with shape (None, 20) for input Tensor(\"embedding_393_input:0\", shape=(None, 20), dtype=float32), but it was called on an input with incompatible shape (None, 40).\n",
      "WARNING:tensorflow:Model was constructed with shape (None, 20) for input Tensor(\"embedding_393_input:0\", shape=(None, 20), dtype=float32), but it was called on an input with incompatible shape (None, 40).\n",
      "Accuracy: 0.764775\n",
      "WARNING:tensorflow:Model was constructed with shape (None, 20) for input Tensor(\"embedding_394_input:0\", shape=(None, 20), dtype=float32), but it was called on an input with incompatible shape (None, 40).\n",
      "WARNING:tensorflow:Model was constructed with shape (None, 20) for input Tensor(\"embedding_394_input:0\", shape=(None, 20), dtype=float32), but it was called on an input with incompatible shape (None, 40).\n",
      "WARNING:tensorflow:Model was constructed with shape (None, 20) for input Tensor(\"embedding_394_input:0\", shape=(None, 20), dtype=float32), but it was called on an input with incompatible shape (None, 40).\n",
      "Accuracy: 0.795034\n",
      "Max_len: 25\n",
      "WARNING:tensorflow:Model was constructed with shape (None, 25) for input Tensor(\"embedding_395_input:0\", shape=(None, 25), dtype=float32), but it was called on an input with incompatible shape (None, 40).\n",
      "WARNING:tensorflow:Model was constructed with shape (None, 25) for input Tensor(\"embedding_395_input:0\", shape=(None, 25), dtype=float32), but it was called on an input with incompatible shape (None, 40).\n",
      "WARNING:tensorflow:Model was constructed with shape (None, 25) for input Tensor(\"embedding_395_input:0\", shape=(None, 25), dtype=float32), but it was called on an input with incompatible shape (None, 40).\n",
      "Accuracy: 0.800236\n",
      "WARNING:tensorflow:Model was constructed with shape (None, 25) for input Tensor(\"embedding_396_input:0\", shape=(None, 25), dtype=float32), but it was called on an input with incompatible shape (None, 40).\n",
      "WARNING:tensorflow:Model was constructed with shape (None, 25) for input Tensor(\"embedding_396_input:0\", shape=(None, 25), dtype=float32), but it was called on an input with incompatible shape (None, 40).\n",
      "WARNING:tensorflow:Model was constructed with shape (None, 25) for input Tensor(\"embedding_396_input:0\", shape=(None, 25), dtype=float32), but it was called on an input with incompatible shape (None, 40).\n",
      "Accuracy: 0.786052\n",
      "WARNING:tensorflow:Model was constructed with shape (None, 25) for input Tensor(\"embedding_397_input:0\", shape=(None, 25), dtype=float32), but it was called on an input with incompatible shape (None, 40).\n",
      "WARNING:tensorflow:Model was constructed with shape (None, 25) for input Tensor(\"embedding_397_input:0\", shape=(None, 25), dtype=float32), but it was called on an input with incompatible shape (None, 40).\n",
      "WARNING:tensorflow:Model was constructed with shape (None, 25) for input Tensor(\"embedding_397_input:0\", shape=(None, 25), dtype=float32), but it was called on an input with incompatible shape (None, 40).\n",
      "Accuracy: 0.805282\n",
      "Max_len: 30\n",
      "WARNING:tensorflow:Model was constructed with shape (None, 30) for input Tensor(\"embedding_398_input:0\", shape=(None, 30), dtype=float32), but it was called on an input with incompatible shape (None, 40).\n",
      "WARNING:tensorflow:Model was constructed with shape (None, 30) for input Tensor(\"embedding_398_input:0\", shape=(None, 30), dtype=float32), but it was called on an input with incompatible shape (None, 40).\n",
      "WARNING:tensorflow:Model was constructed with shape (None, 30) for input Tensor(\"embedding_398_input:0\", shape=(None, 30), dtype=float32), but it was called on an input with incompatible shape (None, 40).\n",
      "Accuracy: 0.805359\n",
      "WARNING:tensorflow:Model was constructed with shape (None, 30) for input Tensor(\"embedding_399_input:0\", shape=(None, 30), dtype=float32), but it was called on an input with incompatible shape (None, 40).\n",
      "WARNING:tensorflow:Model was constructed with shape (None, 30) for input Tensor(\"embedding_399_input:0\", shape=(None, 30), dtype=float32), but it was called on an input with incompatible shape (None, 40).\n",
      "WARNING:tensorflow:Model was constructed with shape (None, 30) for input Tensor(\"embedding_399_input:0\", shape=(None, 30), dtype=float32), but it was called on an input with incompatible shape (None, 40).\n",
      "Accuracy: 0.755319\n",
      "WARNING:tensorflow:Model was constructed with shape (None, 30) for input Tensor(\"embedding_400_input:0\", shape=(None, 30), dtype=float32), but it was called on an input with incompatible shape (None, 40).\n",
      "WARNING:tensorflow:Model was constructed with shape (None, 30) for input Tensor(\"embedding_400_input:0\", shape=(None, 30), dtype=float32), but it was called on an input with incompatible shape (None, 40).\n",
      "WARNING:tensorflow:Model was constructed with shape (None, 30) for input Tensor(\"embedding_400_input:0\", shape=(None, 30), dtype=float32), but it was called on an input with incompatible shape (None, 40).\n",
      "Accuracy: 0.808041\n",
      "Max_len: 40\n",
      "Accuracy: 0.793144\n",
      "Accuracy: 0.784870\n",
      "Accuracy: 0.800946\n"
     ]
    }
   ],
   "source": [
    "for m in [15,20,25,30,40]:\n",
    "  print('Max_len: %i' % (m))\n",
    "  for train_index, test_index in kf.split(train_padded):\n",
    "    X_train, X_test = train_padded[train_index], train_padded[test_index]\n",
    "    y_train, y_test = y.iloc[train_index], y.iloc[test_index]\n",
    "\n",
    "    model = Sequential()\n",
    "    model.add(Embedding(vocab_size, 10, input_length=m))\n",
    "    model.add(Dropout(0.5))\n",
    "    model.add(Conv1D(filters, kernel_size, padding='valid', activation='relu'))\n",
    "    model.add(MaxPooling1D())\n",
    "    model.add(Conv1D(filters, kernel_size, padding='valid', activation='sigmoid'))\n",
    "    model.add(MaxPooling1D())\n",
    "    model.add(Conv1D(filters, 2, padding='valid', activation='softmax'))\n",
    "    model.add(Bidirectional(LSTM(64)))\n",
    "    model.add(Flatten())\n",
    "    model.add(Dense(hidden_dims, activation='relu'))\n",
    "    model.add(Dropout(0.5))\n",
    "    model.add(Dense(1, activation='sigmoid'))\n",
    "\n",
    "    model.compile(loss='binary_crossentropy', optimizer='adam', metrics=['accuracy'])\n",
    "    model.fit(X_train, y_train, batch_size=batch_size, epochs=5, verbose=0)\n",
    "    loss, accuracy = model.evaluate(X_test, y_test, verbose=0)\n",
    "    print('Accuracy: %f' % (accuracy))"
   ]
  },
  {
   "cell_type": "code",
   "execution_count": 256,
   "metadata": {
    "colab": {},
    "colab_type": "code",
    "id": "ogJlCAGWGjd5"
   },
   "outputs": [],
   "source": [
    "model = Sequential()\n",
    "model.add(Embedding(vocab_size, 10, input_length=30))\n",
    "model.add(Dropout(0.5))\n",
    "model.add(Conv1D(filters, kernel_size, padding='valid', activation='relu'))\n",
    "model.add(MaxPooling1D())\n",
    "model.add(Conv1D(filters, kernel_size, padding='valid', activation='sigmoid'))\n",
    "model.add(MaxPooling1D())\n",
    "model.add(Conv1D(filters, 2, padding='valid', activation='softmax'))\n",
    "model.add(Bidirectional(LSTM(64)))\n",
    "model.add(Flatten())\n",
    "model.add(Dense(hidden_dims, activation='relu'))\n",
    "model.add(Dropout(0.5))\n",
    "model.add(Dense(1, activation='sigmoid'))"
   ]
  },
  {
   "cell_type": "code",
   "execution_count": 257,
   "metadata": {
    "colab": {
     "base_uri": "https://localhost:8080/",
     "height": 263
    },
    "colab_type": "code",
    "id": "MVTDDKJGKjk8",
    "outputId": "d35dbc2f-44b2-4bad-8475-78d21b83d358"
   },
   "outputs": [
    {
     "name": "stdout",
     "output_type": "stream",
     "text": [
      "Epoch 1/5\n",
      "WARNING:tensorflow:Model was constructed with shape (None, 30) for input Tensor(\"embedding_412_input:0\", shape=(None, 30), dtype=float32), but it was called on an input with incompatible shape (None, 40).\n",
      "WARNING:tensorflow:Model was constructed with shape (None, 30) for input Tensor(\"embedding_412_input:0\", shape=(None, 30), dtype=float32), but it was called on an input with incompatible shape (None, 40).\n",
      "85/85 [==============================] - 2s 23ms/step - loss: 0.6849 - accuracy: 0.5689\n",
      "Epoch 2/5\n",
      "85/85 [==============================] - 2s 23ms/step - loss: 0.6590 - accuracy: 0.5950\n",
      "Epoch 3/5\n",
      "85/85 [==============================] - 2s 22ms/step - loss: 0.4422 - accuracy: 0.8055\n",
      "Epoch 4/5\n",
      "85/85 [==============================] - 2s 23ms/step - loss: 0.3431 - accuracy: 0.8591\n",
      "Epoch 5/5\n",
      "85/85 [==============================] - 2s 23ms/step - loss: 0.2751 - accuracy: 0.8975\n"
     ]
    },
    {
     "data": {
      "text/plain": [
       "<tensorflow.python.keras.callbacks.History at 0x7f88782bf748>"
      ]
     },
     "execution_count": 257,
     "metadata": {
      "tags": []
     },
     "output_type": "execute_result"
    }
   ],
   "source": [
    "model.compile(loss='binary_crossentropy', optimizer='adam', metrics=['accuracy'])\n",
    "model.fit(train_padded, y, batch_size=90, epochs=5, verbose=1)"
   ]
  },
  {
   "cell_type": "code",
   "execution_count": 250,
   "metadata": {
    "colab": {
     "base_uri": "https://localhost:8080/",
     "height": 54
    },
    "colab_type": "code",
    "id": "a89iqnNmKuGq",
    "outputId": "d8d3a067-6f8e-4c9d-8e1e-4d9b80af793e"
   },
   "outputs": [
    {
     "name": "stdout",
     "output_type": "stream",
     "text": [
      "WARNING:tensorflow:Model was constructed with shape (None, 30) for input Tensor(\"embedding_411_input:0\", shape=(None, 30), dtype=float32), but it was called on an input with incompatible shape (None, 40).\n"
     ]
    }
   ],
   "source": [
    "preds = model.predict_classes(test_padded)"
   ]
  },
  {
   "cell_type": "code",
   "execution_count": 251,
   "metadata": {
    "colab": {
     "base_uri": "https://localhost:8080/",
     "height": 139
    },
    "colab_type": "code",
    "id": "3RER6XM8KuHB",
    "outputId": "864df564-c0f2-49f7-e333-e1483dff6e19"
   },
   "outputs": [
    {
     "data": {
      "text/plain": [
       "array([[0],\n",
       "       [1],\n",
       "       [1],\n",
       "       ...,\n",
       "       [1],\n",
       "       [1],\n",
       "       [1]], dtype=int32)"
      ]
     },
     "execution_count": 251,
     "metadata": {
      "tags": []
     },
     "output_type": "execute_result"
    }
   ],
   "source": [
    "preds"
   ]
  },
  {
   "cell_type": "code",
   "execution_count": 252,
   "metadata": {
    "colab": {},
    "colab_type": "code",
    "id": "JekcFYCsKuHQ"
   },
   "outputs": [],
   "source": [
    "predictions = preds.reshape(3263)"
   ]
  },
  {
   "cell_type": "code",
   "execution_count": 253,
   "metadata": {
    "colab": {
     "base_uri": "https://localhost:8080/",
     "height": 34
    },
    "colab_type": "code",
    "id": "SbvP0KnjKuHc",
    "outputId": "d5ab16e9-2862-4284-a187-dcc6ae5e262e"
   },
   "outputs": [
    {
     "data": {
      "text/plain": [
       "array([0, 1, 1, ..., 1, 1, 1], dtype=int32)"
      ]
     },
     "execution_count": 253,
     "metadata": {
      "tags": []
     },
     "output_type": "execute_result"
    }
   ],
   "source": [
    "predictions"
   ]
  },
  {
   "cell_type": "code",
   "execution_count": 254,
   "metadata": {
    "colab": {},
    "colab_type": "code",
    "id": "uAWMbT2LKuHn"
   },
   "outputs": [],
   "source": [
    "target = pd.DataFrame({'id':test_df['id'], 'target':predictions})\n",
    "target.to_csv('submit_sequential_embedding.csv', index=False)"
   ]
  },
  {
   "cell_type": "code",
   "execution_count": 255,
   "metadata": {
    "colab": {
     "base_uri": "https://localhost:8080/",
     "height": 424
    },
    "colab_type": "code",
    "id": "6hKkdNVaKuHy",
    "outputId": "31943423-b06c-44b4-9358-71b11a0c9a1b"
   },
   "outputs": [
    {
     "data": {
      "text/html": [
       "<div>\n",
       "<style scoped>\n",
       "    .dataframe tbody tr th:only-of-type {\n",
       "        vertical-align: middle;\n",
       "    }\n",
       "\n",
       "    .dataframe tbody tr th {\n",
       "        vertical-align: top;\n",
       "    }\n",
       "\n",
       "    .dataframe thead th {\n",
       "        text-align: right;\n",
       "    }\n",
       "</style>\n",
       "<table border=\"1\" class=\"dataframe\">\n",
       "  <thead>\n",
       "    <tr style=\"text-align: right;\">\n",
       "      <th></th>\n",
       "      <th>id</th>\n",
       "      <th>target</th>\n",
       "    </tr>\n",
       "  </thead>\n",
       "  <tbody>\n",
       "    <tr>\n",
       "      <th>0</th>\n",
       "      <td>0</td>\n",
       "      <td>0</td>\n",
       "    </tr>\n",
       "    <tr>\n",
       "      <th>1</th>\n",
       "      <td>2</td>\n",
       "      <td>1</td>\n",
       "    </tr>\n",
       "    <tr>\n",
       "      <th>2</th>\n",
       "      <td>3</td>\n",
       "      <td>1</td>\n",
       "    </tr>\n",
       "    <tr>\n",
       "      <th>3</th>\n",
       "      <td>9</td>\n",
       "      <td>1</td>\n",
       "    </tr>\n",
       "    <tr>\n",
       "      <th>4</th>\n",
       "      <td>11</td>\n",
       "      <td>1</td>\n",
       "    </tr>\n",
       "    <tr>\n",
       "      <th>...</th>\n",
       "      <td>...</td>\n",
       "      <td>...</td>\n",
       "    </tr>\n",
       "    <tr>\n",
       "      <th>3258</th>\n",
       "      <td>10861</td>\n",
       "      <td>0</td>\n",
       "    </tr>\n",
       "    <tr>\n",
       "      <th>3259</th>\n",
       "      <td>10865</td>\n",
       "      <td>1</td>\n",
       "    </tr>\n",
       "    <tr>\n",
       "      <th>3260</th>\n",
       "      <td>10868</td>\n",
       "      <td>1</td>\n",
       "    </tr>\n",
       "    <tr>\n",
       "      <th>3261</th>\n",
       "      <td>10874</td>\n",
       "      <td>1</td>\n",
       "    </tr>\n",
       "    <tr>\n",
       "      <th>3262</th>\n",
       "      <td>10875</td>\n",
       "      <td>1</td>\n",
       "    </tr>\n",
       "  </tbody>\n",
       "</table>\n",
       "<p>3263 rows × 2 columns</p>\n",
       "</div>"
      ],
      "text/plain": [
       "         id  target\n",
       "0         0       0\n",
       "1         2       1\n",
       "2         3       1\n",
       "3         9       1\n",
       "4        11       1\n",
       "...     ...     ...\n",
       "3258  10861       0\n",
       "3259  10865       1\n",
       "3260  10868       1\n",
       "3261  10874       1\n",
       "3262  10875       1\n",
       "\n",
       "[3263 rows x 2 columns]"
      ]
     },
     "execution_count": 255,
     "metadata": {
      "tags": []
     },
     "output_type": "execute_result"
    }
   ],
   "source": [
    "target"
   ]
  },
  {
   "cell_type": "code",
   "execution_count": null,
   "metadata": {
    "colab": {},
    "colab_type": "code",
    "id": "FKcnHrQlKoJj"
   },
   "outputs": [],
   "source": []
  }
 ],
 "metadata": {
  "colab": {
   "name": "Copia de Sequential_embedding.ipynb",
   "provenance": []
  },
  "kernelspec": {
   "display_name": "Python 3",
   "language": "python",
   "name": "python3"
  },
  "language_info": {
   "codemirror_mode": {
    "name": "ipython",
    "version": 3
   },
   "file_extension": ".py",
   "mimetype": "text/x-python",
   "name": "python",
   "nbconvert_exporter": "python",
   "pygments_lexer": "ipython3",
   "version": "3.6.9"
  }
 },
 "nbformat": 4,
 "nbformat_minor": 4
}

{
 "cells": [
  {
   "cell_type": "code",
   "execution_count": 3,
   "metadata": {},
   "outputs": [],
   "source": [
    "import pandas as pd\n",
    "import numpy as np"
   ]
  },
  {
   "cell_type": "code",
   "execution_count": 13,
   "metadata": {},
   "outputs": [],
   "source": [
    "import nltk"
   ]
  },
  {
   "cell_type": "code",
   "execution_count": 14,
   "metadata": {},
   "outputs": [],
   "source": [
    "from nltk.corpus import stopwords\n",
    "from nltk.tokenize import RegexpTokenizer \n",
    "from nltk.stem import PorterStemmer"
   ]
  },
  {
   "cell_type": "code",
   "execution_count": 15,
   "metadata": {},
   "outputs": [],
   "source": [
    "import matplotlib.pyplot as plt"
   ]
  },
  {
   "cell_type": "markdown",
   "metadata": {},
   "source": [
    "Separo el texto en palabras y elimino las stop words. \n",
    "No aplico streamming para quedarme con las palabras completas."
   ]
  },
  {
   "cell_type": "code",
   "execution_count": 16,
   "metadata": {},
   "outputs": [
    {
     "name": "stderr",
     "output_type": "stream",
     "text": [
      "[nltk_data] Downloading package punkt to /home/cecilia/nltk_data...\n",
      "[nltk_data]   Package punkt is already up-to-date!\n"
     ]
    },
    {
     "data": {
      "text/plain": [
       "True"
      ]
     },
     "execution_count": 16,
     "metadata": {},
     "output_type": "execute_result"
    }
   ],
   "source": [
    "nltk.download('punkt')"
   ]
  },
  {
   "cell_type": "code",
   "execution_count": 17,
   "metadata": {},
   "outputs": [
    {
     "name": "stderr",
     "output_type": "stream",
     "text": [
      "[nltk_data] Downloading package stopwords to\n",
      "[nltk_data]     /home/cecilia/nltk_data...\n",
      "[nltk_data]   Package stopwords is already up-to-date!\n"
     ]
    },
    {
     "data": {
      "text/plain": [
       "True"
      ]
     },
     "execution_count": 17,
     "metadata": {},
     "output_type": "execute_result"
    }
   ],
   "source": [
    "nltk.download('stopwords')"
   ]
  },
  {
   "cell_type": "code",
   "execution_count": 18,
   "metadata": {},
   "outputs": [],
   "source": [
    "train = pd.read_csv('Archivos/entrenamiento_df.csv')\n",
    "test = pd.read_csv('Archivos/test_df.csv')"
   ]
  },
  {
   "cell_type": "code",
   "execution_count": 19,
   "metadata": {},
   "outputs": [],
   "source": [
    "# Separo el texto en palabras\n",
    "# Elimino las stop words y paso las palabras a minusculas\n",
    "train['text'] = train['text'].apply(lambda x: RegexpTokenizer(r'\\w+').tokenize(x))\n",
    "train['text'] = train['text'].apply(lambda x: [w.lower() for w in x if w not in stopwords.words('english')])"
   ]
  },
  {
   "cell_type": "code",
   "execution_count": 20,
   "metadata": {},
   "outputs": [],
   "source": [
    "# Hago lo mismo con el archivo test\n",
    "test['text'] = test['text'].apply(lambda x: RegexpTokenizer(r'\\w+').tokenize(x))\n",
    "test['text'] = test['text'].apply(lambda x: [w.lower() for w in x if w not in stopwords.words('english')])"
   ]
  },
  {
   "cell_type": "markdown",
   "metadata": {},
   "source": [
    "### Creo nuevos features mediante vectores de texto ya entrenados"
   ]
  },
  {
   "cell_type": "code",
   "execution_count": 11,
   "metadata": {},
   "outputs": [],
   "source": [
    "import gensim.downloader as api"
   ]
  },
  {
   "cell_type": "code",
   "execution_count": 12,
   "metadata": {},
   "outputs": [],
   "source": [
    "# load pre-trained word-vectors from gensim-data\n",
    "word_vectors = api.load(\"glove-wiki-gigaword-100\") "
   ]
  },
  {
   "cell_type": "code",
   "execution_count": 11,
   "metadata": {},
   "outputs": [
    {
     "data": {
      "text/plain": [
       "['our', 'deeds', 'reason', 'earthquake', 'may', 'allah', 'forgive', 'us']"
      ]
     },
     "execution_count": 11,
     "metadata": {},
     "output_type": "execute_result"
    }
   ],
   "source": [
    "train['text'][0]"
   ]
  },
  {
   "cell_type": "code",
   "execution_count": 271,
   "metadata": {},
   "outputs": [
    {
     "data": {
      "text/plain": [
       "[('we', 0.8172246217727661),\n",
       " ('not', 0.8154860734939575),\n",
       " ('what', 0.8063154816627502),\n",
       " ('do', 0.8049666285514832),\n",
       " ('...', 0.8043433427810669),\n",
       " ('know', 0.8036221861839294),\n",
       " ('come', 0.7973394989967346),\n",
       " ('if', 0.7953765988349915),\n",
       " ('why', 0.7918872237205505),\n",
       " ('believe', 0.7906121015548706)]"
      ]
     },
     "execution_count": 271,
     "metadata": {},
     "output_type": "execute_result"
    }
   ],
   "source": [
    "word_vectors.most_similar(positive=train['text'][0])"
   ]
  },
  {
   "cell_type": "code",
   "execution_count": 272,
   "metadata": {},
   "outputs": [
    {
     "data": {
      "text/plain": [
       "[('purva.patel@chron.com', 0.698187530040741),\n",
       " ('tom.fowler@chron.com', 0.6924424767494202),\n",
       " ('brett.clanton@chron.com', 0.6868560910224915),\n",
       " ('spodumene', 0.6839196085929871),\n",
       " ('atentamente', 0.6803922653198242),\n",
       " ('___________________________________________________________',\n",
       "  0.6781449317932129),\n",
       " ('rungfapaisarn', 0.6756051778793335),\n",
       " ('ryryryryryry', 0.675279438495636),\n",
       " ('jenalia.moreno@chron.com', 0.6748037934303284),\n",
       " ('kraz', 0.6747796535491943)]"
      ]
     },
     "execution_count": 272,
     "metadata": {},
     "output_type": "execute_result"
    }
   ],
   "source": [
    "word_vectors.most_similar(negative=train['text'][0])"
   ]
  },
  {
   "cell_type": "code",
   "execution_count": 274,
   "metadata": {},
   "outputs": [
    {
     "data": {
      "text/plain": [
       "'earthquake'"
      ]
     },
     "execution_count": 274,
     "metadata": {},
     "output_type": "execute_result"
    }
   ],
   "source": [
    "word_vectors.doesnt_match(train['text'][0])"
   ]
  },
  {
   "cell_type": "code",
   "execution_count": 269,
   "metadata": {},
   "outputs": [
    {
     "data": {
      "text/plain": [
       "['forest', 'fire', 'near', 'la', 'ronge', 'sask', 'canada']"
      ]
     },
     "execution_count": 269,
     "metadata": {},
     "output_type": "execute_result"
    }
   ],
   "source": [
    "train['text'][1]"
   ]
  },
  {
   "cell_type": "code",
   "execution_count": 268,
   "metadata": {},
   "outputs": [
    {
     "data": {
      "text/plain": [
       "[('northern', 0.6509563326835632),\n",
       " ('southern', 0.6403713226318359),\n",
       " ('northeast', 0.6403039693832397),\n",
       " ('park', 0.6400458812713623),\n",
       " ('mountain', 0.6395445466041565),\n",
       " ('southwest', 0.6368558406829834),\n",
       " ('river', 0.6357375383377075),\n",
       " ('located', 0.6302077174186707),\n",
       " ('northwest', 0.6292986273765564),\n",
       " ('area', 0.6256020069122314)]"
      ]
     },
     "execution_count": 268,
     "metadata": {},
     "output_type": "execute_result"
    }
   ],
   "source": [
    "word_vectors.most_similar(positive=train['text'][1])"
   ]
  },
  {
   "cell_type": "code",
   "execution_count": 23,
   "metadata": {},
   "outputs": [],
   "source": [
    "# Elimino las palabras del texto que no estan en el vocabulario\n",
    "def vocabulario(palabras):\n",
    "    lista = []\n",
    "    for w in palabras:\n",
    "        if w in word_vectors.vocab:\n",
    "            lista.append(w) \n",
    "    if (len(lista) == 0):\n",
    "        return ['nothing']\n",
    "    return lista"
   ]
  },
  {
   "cell_type": "code",
   "execution_count": 13,
   "metadata": {},
   "outputs": [],
   "source": [
    "similares = train['text'].agg(lambda x: word_vectors.most_similar(positive=vocabulario(x), topn=1))"
   ]
  },
  {
   "cell_type": "code",
   "execution_count": 14,
   "metadata": {},
   "outputs": [
    {
     "data": {
      "text/plain": [
       "0             [(we, 0.8172246217727661)]\n",
       "1       [(northern, 0.6509563326835632)]\n",
       "2           [(they, 0.8379936218261719)]\n",
       "3             [(10, 0.7982413172721863)]\n",
       "4            [(out, 0.7865819334983826)]\n",
       "                      ...               \n",
       "7608     [(building, 0.754969596862793)]\n",
       "7609        [(this, 0.8649874329566956)]\n",
       "7610          [(03, 0.6322605013847351)]\n",
       "7611      [(another, 0.787148118019104)]\n",
       "7612        [(last, 0.7914666533470154)]\n",
       "Name: text, Length: 7613, dtype: object"
      ]
     },
     "execution_count": 14,
     "metadata": {},
     "output_type": "execute_result"
    }
   ],
   "source": [
    "similares"
   ]
  },
  {
   "cell_type": "code",
   "execution_count": 15,
   "metadata": {},
   "outputs": [],
   "source": [
    "palabras_similares = [x[0][0] for x in similares]\n",
    "semejanzas = [x[0][1] for x in similares]"
   ]
  },
  {
   "cell_type": "code",
   "execution_count": 16,
   "metadata": {},
   "outputs": [
    {
     "data": {
      "text/plain": [
       "['we', 'northern', 'they', '10', 'out']"
      ]
     },
     "execution_count": 16,
     "metadata": {},
     "output_type": "execute_result"
    }
   ],
   "source": [
    "palabras_similares[:5]"
   ]
  },
  {
   "cell_type": "code",
   "execution_count": 17,
   "metadata": {},
   "outputs": [
    {
     "data": {
      "text/plain": [
       "[0.8172246217727661,\n",
       " 0.6509563326835632,\n",
       " 0.8379936218261719,\n",
       " 0.7982413172721863,\n",
       " 0.7865819334983826]"
      ]
     },
     "execution_count": 17,
     "metadata": {},
     "output_type": "execute_result"
    }
   ],
   "source": [
    "semejanzas[0:5]"
   ]
  },
  {
   "cell_type": "code",
   "execution_count": 136,
   "metadata": {},
   "outputs": [],
   "source": [
    "sim_train = pd.DataFrame({'target':train['target'], 'semejanza':semejanzas})\n",
    "sim_train.to_csv('Archivos/train_semejanzas.csv', index=False)"
   ]
  },
  {
   "cell_type": "code",
   "execution_count": 137,
   "metadata": {},
   "outputs": [
    {
     "data": {
      "text/html": [
       "<div>\n",
       "<style scoped>\n",
       "    .dataframe tbody tr th:only-of-type {\n",
       "        vertical-align: middle;\n",
       "    }\n",
       "\n",
       "    .dataframe tbody tr th {\n",
       "        vertical-align: top;\n",
       "    }\n",
       "\n",
       "    .dataframe thead th {\n",
       "        text-align: right;\n",
       "    }\n",
       "</style>\n",
       "<table border=\"1\" class=\"dataframe\">\n",
       "  <thead>\n",
       "    <tr style=\"text-align: right;\">\n",
       "      <th></th>\n",
       "      <th>target</th>\n",
       "      <th>semejanza</th>\n",
       "    </tr>\n",
       "  </thead>\n",
       "  <tbody>\n",
       "    <tr>\n",
       "      <th>0</th>\n",
       "      <td>1</td>\n",
       "      <td>0.817225</td>\n",
       "    </tr>\n",
       "    <tr>\n",
       "      <th>1</th>\n",
       "      <td>1</td>\n",
       "      <td>0.650956</td>\n",
       "    </tr>\n",
       "    <tr>\n",
       "      <th>2</th>\n",
       "      <td>1</td>\n",
       "      <td>0.837994</td>\n",
       "    </tr>\n",
       "    <tr>\n",
       "      <th>3</th>\n",
       "      <td>1</td>\n",
       "      <td>0.798241</td>\n",
       "    </tr>\n",
       "    <tr>\n",
       "      <th>4</th>\n",
       "      <td>1</td>\n",
       "      <td>0.786582</td>\n",
       "    </tr>\n",
       "  </tbody>\n",
       "</table>\n",
       "</div>"
      ],
      "text/plain": [
       "   target  semejanza\n",
       "0       1   0.817225\n",
       "1       1   0.650956\n",
       "2       1   0.837994\n",
       "3       1   0.798241\n",
       "4       1   0.786582"
      ]
     },
     "execution_count": 137,
     "metadata": {},
     "output_type": "execute_result"
    }
   ],
   "source": [
    "sim_train.head()"
   ]
  },
  {
   "cell_type": "code",
   "execution_count": 138,
   "metadata": {},
   "outputs": [
    {
     "data": {
      "text/plain": [
       "so           414\n",
       "one          405\n",
       "you          378\n",
       "just         363\n",
       "this         295\n",
       "            ... \n",
       "landfall       1\n",
       "fabric         1\n",
       "group          1\n",
       "lane           1\n",
       "agreement      1\n",
       "Name: palabra_similar, Length: 937, dtype: int64"
      ]
     },
     "execution_count": 138,
     "metadata": {},
     "output_type": "execute_result"
    }
   ],
   "source": [
    "train_palabras = pd.DataFrame({'target':train['target'], 'palabra_similar':palabras_similares})\n",
    "train_palabras['palabra_similar'].value_counts()"
   ]
  },
  {
   "cell_type": "code",
   "execution_count": 139,
   "metadata": {},
   "outputs": [
    {
     "data": {
      "text/plain": [
       "mean     937\n",
       "count    937\n",
       "dtype: int64"
      ]
     },
     "execution_count": 139,
     "metadata": {},
     "output_type": "execute_result"
    }
   ],
   "source": [
    "# Agrego feature con el mean encoding de las palabras similares\n",
    "mean_palabra_similar = train_palabras.groupby('palabra_similar')['target'].agg(['mean','count'])\n",
    "mean_palabra_similar.count()"
   ]
  },
  {
   "cell_type": "code",
   "execution_count": 140,
   "metadata": {},
   "outputs": [
    {
     "data": {
      "text/plain": [
       "mean    173\n",
       "dtype: int64"
      ]
     },
     "execution_count": 140,
     "metadata": {},
     "output_type": "execute_result"
    }
   ],
   "source": [
    "# Dejo solo los promedios de las palabras con mas de 5 ocurrencias\n",
    "mean_palabra_similar = mean_palabra_similar[mean_palabra_similar['count'] > 5].drop(['count'],axis=1)\n",
    "mean_palabra_similar.count()"
   ]
  },
  {
   "cell_type": "markdown",
   "metadata": {},
   "source": [
    "Son pocos registros como para crear otro feature"
   ]
  },
  {
   "cell_type": "code",
   "execution_count": 102,
   "metadata": {},
   "outputs": [],
   "source": [
    "# Encuentro las palabras que menos se acercan a los textos\n",
    "diferentes = train['text'].agg(lambda x: word_vectors.most_similar(negative=vocabulario(x), topn=1))"
   ]
  },
  {
   "cell_type": "code",
   "execution_count": 105,
   "metadata": {},
   "outputs": [
    {
     "data": {
      "text/plain": [
       "0            [(purva.patel@chron.com, 0.698187530040741)]\n",
       "1                          [(yassen, 0.5855438113212585)]\n",
       "2                            [(zety, 0.7851395606994629)]\n",
       "3                   [(rungfapaisarn, 0.7050082087516785)]\n",
       "4       [(____________________________________________...\n",
       "                              ...                        \n",
       "7608                          [(zety, 0.750871479511261)]\n",
       "7609                         [(zety, 0.8317862749099731)]\n",
       "7610                         [(rw95, 0.6121312379837036)]\n",
       "7611    [(____________________________________________...\n",
       "7612                         [(zety, 0.8025525212287903)]\n",
       "Name: text, Length: 7613, dtype: object"
      ]
     },
     "execution_count": 105,
     "metadata": {},
     "output_type": "execute_result"
    }
   ],
   "source": [
    "diferentes"
   ]
  },
  {
   "cell_type": "code",
   "execution_count": 141,
   "metadata": {},
   "outputs": [],
   "source": [
    "palabras_diferentes = [x[0][0] for x in diferentes]\n",
    "diferencias = [x[0][1] for x in diferentes]"
   ]
  },
  {
   "cell_type": "code",
   "execution_count": 142,
   "metadata": {},
   "outputs": [
    {
     "data": {
      "text/plain": [
       "['purva.patel@chron.com',\n",
       " 'yassen',\n",
       " 'zety',\n",
       " 'rungfapaisarn',\n",
       " '___________________________________________________________']"
      ]
     },
     "execution_count": 142,
     "metadata": {},
     "output_type": "execute_result"
    }
   ],
   "source": [
    "palabras_diferentes[:5]"
   ]
  },
  {
   "cell_type": "code",
   "execution_count": 143,
   "metadata": {},
   "outputs": [
    {
     "data": {
      "text/plain": [
       "[0.698187530040741,\n",
       " 0.5855438113212585,\n",
       " 0.7851395606994629,\n",
       " 0.7050082087516785,\n",
       " 0.7276370525360107]"
      ]
     },
     "execution_count": 143,
     "metadata": {},
     "output_type": "execute_result"
    }
   ],
   "source": [
    "diferencias[0:5]"
   ]
  },
  {
   "cell_type": "code",
   "execution_count": 144,
   "metadata": {},
   "outputs": [],
   "source": [
    "sim_train['diferencia'] = diferencias"
   ]
  },
  {
   "cell_type": "code",
   "execution_count": 145,
   "metadata": {},
   "outputs": [
    {
     "data": {
      "text/html": [
       "<div>\n",
       "<style scoped>\n",
       "    .dataframe tbody tr th:only-of-type {\n",
       "        vertical-align: middle;\n",
       "    }\n",
       "\n",
       "    .dataframe tbody tr th {\n",
       "        vertical-align: top;\n",
       "    }\n",
       "\n",
       "    .dataframe thead th {\n",
       "        text-align: right;\n",
       "    }\n",
       "</style>\n",
       "<table border=\"1\" class=\"dataframe\">\n",
       "  <thead>\n",
       "    <tr style=\"text-align: right;\">\n",
       "      <th></th>\n",
       "      <th>target</th>\n",
       "      <th>semejanza</th>\n",
       "      <th>diferencia</th>\n",
       "    </tr>\n",
       "  </thead>\n",
       "  <tbody>\n",
       "    <tr>\n",
       "      <th>0</th>\n",
       "      <td>1</td>\n",
       "      <td>0.817225</td>\n",
       "      <td>0.698188</td>\n",
       "    </tr>\n",
       "    <tr>\n",
       "      <th>1</th>\n",
       "      <td>1</td>\n",
       "      <td>0.650956</td>\n",
       "      <td>0.585544</td>\n",
       "    </tr>\n",
       "    <tr>\n",
       "      <th>2</th>\n",
       "      <td>1</td>\n",
       "      <td>0.837994</td>\n",
       "      <td>0.785140</td>\n",
       "    </tr>\n",
       "    <tr>\n",
       "      <th>3</th>\n",
       "      <td>1</td>\n",
       "      <td>0.798241</td>\n",
       "      <td>0.705008</td>\n",
       "    </tr>\n",
       "    <tr>\n",
       "      <th>4</th>\n",
       "      <td>1</td>\n",
       "      <td>0.786582</td>\n",
       "      <td>0.727637</td>\n",
       "    </tr>\n",
       "  </tbody>\n",
       "</table>\n",
       "</div>"
      ],
      "text/plain": [
       "   target  semejanza  diferencia\n",
       "0       1   0.817225    0.698188\n",
       "1       1   0.650956    0.585544\n",
       "2       1   0.837994    0.785140\n",
       "3       1   0.798241    0.705008\n",
       "4       1   0.786582    0.727637"
      ]
     },
     "execution_count": 145,
     "metadata": {},
     "output_type": "execute_result"
    }
   ],
   "source": [
    "sim_train.head()"
   ]
  },
  {
   "cell_type": "code",
   "execution_count": 146,
   "metadata": {},
   "outputs": [],
   "source": [
    "sim_train.to_csv('Archivos/train_semejanzas.csv', index=False)"
   ]
  },
  {
   "cell_type": "code",
   "execution_count": 147,
   "metadata": {},
   "outputs": [
    {
     "data": {
      "text/plain": [
       "___________________________________________________________    1893\n",
       "zety                                                           1812\n",
       "brett.clanton@chron.com                                         574\n",
       "ryryryryryry                                                    285\n",
       "tom.fowler@chron.com                                            217\n",
       "                                                               ... \n",
       "ojcl                                                              1\n",
       "ukita                                                             1\n",
       "zongmi                                                            1\n",
       "katzenbach                                                        1\n",
       "wattanachai                                                       1\n",
       "Name: palabra_diferente, Length: 1158, dtype: int64"
      ]
     },
     "execution_count": 147,
     "metadata": {},
     "output_type": "execute_result"
    }
   ],
   "source": [
    "train_palabras['palabra_diferente'] = palabras_diferentes\n",
    "train_palabras['palabra_diferente'].value_counts()"
   ]
  },
  {
   "cell_type": "code",
   "execution_count": 148,
   "metadata": {},
   "outputs": [
    {
     "data": {
      "text/plain": [
       "mean     1158\n",
       "count    1158\n",
       "dtype: int64"
      ]
     },
     "execution_count": 148,
     "metadata": {},
     "output_type": "execute_result"
    }
   ],
   "source": [
    "# Agrego feature con el mean encoding de las palabras diferentes\n",
    "mean_palabra_dif = train_palabras.groupby('palabra_diferente')['target'].agg(['mean','count'])\n",
    "mean_palabra_dif.count()"
   ]
  },
  {
   "cell_type": "code",
   "execution_count": 149,
   "metadata": {},
   "outputs": [
    {
     "data": {
      "text/plain": [
       "6.57426597582038"
      ]
     },
     "execution_count": 149,
     "metadata": {},
     "output_type": "execute_result"
    }
   ],
   "source": [
    "mean_palabra_dif['count'].mean()"
   ]
  },
  {
   "cell_type": "code",
   "execution_count": 150,
   "metadata": {},
   "outputs": [
    {
     "data": {
      "text/plain": [
       "mean    75\n",
       "dtype: int64"
      ]
     },
     "execution_count": 150,
     "metadata": {},
     "output_type": "execute_result"
    }
   ],
   "source": [
    "# Dejo solo los promedios de las palabras con mas de 5 ocurrencias\n",
    "mean_palabra_dif = mean_palabra_dif[mean_palabra_dif['count'] > 5].drop(['count'],axis=1)\n",
    "mean_palabra_dif.count()"
   ]
  },
  {
   "cell_type": "markdown",
   "metadata": {},
   "source": [
    "Son pocos registros como para crear otro feature"
   ]
  },
  {
   "cell_type": "code",
   "execution_count": 119,
   "metadata": {},
   "outputs": [
    {
     "name": "stderr",
     "output_type": "stream",
     "text": [
      "/home/cecilia/.local/lib/python3.6/site-packages/gensim/models/keyedvectors.py:877: FutureWarning: arrays to stack must be passed as a \"sequence\" type such as list or tuple. Support for non-sequence iterables such as generators is deprecated as of NumPy 1.16 and will raise an error in the future.\n",
      "  vectors = vstack(self.word_vec(word, use_norm=True) for word in used_words).astype(REAL)\n"
     ]
    }
   ],
   "source": [
    "# Encuentro la palabra que no coincide con el resto del texto\n",
    "infiltrados = train['text'].agg(lambda x: word_vectors.doesnt_match(vocabulario(x)))"
   ]
  },
  {
   "cell_type": "code",
   "execution_count": 120,
   "metadata": {},
   "outputs": [
    {
     "data": {
      "text/plain": [
       "0       earthquake\n",
       "1             sask\n",
       "2         notified\n",
       "3        wildfires\n",
       "4            pours\n",
       "           ...    \n",
       "7608          http\n",
       "7609     troubling\n",
       "7610           5km\n",
       "7611      collided\n",
       "7612          http\n",
       "Name: text, Length: 7613, dtype: object"
      ]
     },
     "execution_count": 120,
     "metadata": {},
     "output_type": "execute_result"
    }
   ],
   "source": [
    "infiltrados"
   ]
  },
  {
   "cell_type": "code",
   "execution_count": 151,
   "metadata": {},
   "outputs": [
    {
     "data": {
      "text/plain": [
       "http         1619\n",
       "https         306\n",
       "û              89\n",
       "lol            47\n",
       "rt             46\n",
       "             ... \n",
       "sabotage        1\n",
       "ben             1\n",
       "charminar       1\n",
       "hostages        1\n",
       "pharma          1\n",
       "Name: palabra_infiltrada, Length: 3171, dtype: int64"
      ]
     },
     "execution_count": 151,
     "metadata": {},
     "output_type": "execute_result"
    }
   ],
   "source": [
    "train_palabras['palabra_infiltrada'] = infiltrados\n",
    "train_palabras['palabra_infiltrada'].value_counts()"
   ]
  },
  {
   "cell_type": "code",
   "execution_count": 152,
   "metadata": {},
   "outputs": [
    {
     "data": {
      "text/html": [
       "<div>\n",
       "<style scoped>\n",
       "    .dataframe tbody tr th:only-of-type {\n",
       "        vertical-align: middle;\n",
       "    }\n",
       "\n",
       "    .dataframe tbody tr th {\n",
       "        vertical-align: top;\n",
       "    }\n",
       "\n",
       "    .dataframe thead th {\n",
       "        text-align: right;\n",
       "    }\n",
       "</style>\n",
       "<table border=\"1\" class=\"dataframe\">\n",
       "  <thead>\n",
       "    <tr style=\"text-align: right;\">\n",
       "      <th></th>\n",
       "      <th>target</th>\n",
       "      <th>palabra_similar</th>\n",
       "      <th>palabra_diferente</th>\n",
       "      <th>palabra_infiltrada</th>\n",
       "    </tr>\n",
       "  </thead>\n",
       "  <tbody>\n",
       "    <tr>\n",
       "      <th>0</th>\n",
       "      <td>1</td>\n",
       "      <td>we</td>\n",
       "      <td>purva.patel@chron.com</td>\n",
       "      <td>earthquake</td>\n",
       "    </tr>\n",
       "    <tr>\n",
       "      <th>1</th>\n",
       "      <td>1</td>\n",
       "      <td>northern</td>\n",
       "      <td>yassen</td>\n",
       "      <td>sask</td>\n",
       "    </tr>\n",
       "    <tr>\n",
       "      <th>2</th>\n",
       "      <td>1</td>\n",
       "      <td>they</td>\n",
       "      <td>zety</td>\n",
       "      <td>notified</td>\n",
       "    </tr>\n",
       "    <tr>\n",
       "      <th>3</th>\n",
       "      <td>1</td>\n",
       "      <td>10</td>\n",
       "      <td>rungfapaisarn</td>\n",
       "      <td>wildfires</td>\n",
       "    </tr>\n",
       "    <tr>\n",
       "      <th>4</th>\n",
       "      <td>1</td>\n",
       "      <td>out</td>\n",
       "      <td>______________________________________________...</td>\n",
       "      <td>pours</td>\n",
       "    </tr>\n",
       "  </tbody>\n",
       "</table>\n",
       "</div>"
      ],
      "text/plain": [
       "   target palabra_similar                                  palabra_diferente  \\\n",
       "0       1              we                              purva.patel@chron.com   \n",
       "1       1        northern                                             yassen   \n",
       "2       1            they                                               zety   \n",
       "3       1              10                                      rungfapaisarn   \n",
       "4       1             out  ______________________________________________...   \n",
       "\n",
       "  palabra_infiltrada  \n",
       "0         earthquake  \n",
       "1               sask  \n",
       "2           notified  \n",
       "3          wildfires  \n",
       "4              pours  "
      ]
     },
     "execution_count": 152,
     "metadata": {},
     "output_type": "execute_result"
    }
   ],
   "source": [
    "train_palabras.head()"
   ]
  },
  {
   "cell_type": "code",
   "execution_count": 153,
   "metadata": {},
   "outputs": [
    {
     "data": {
      "text/plain": [
       "mean     3171\n",
       "count    3171\n",
       "dtype: int64"
      ]
     },
     "execution_count": 153,
     "metadata": {},
     "output_type": "execute_result"
    }
   ],
   "source": [
    "# Agrego feature con el mean encoding de las palabras infiltradas\n",
    "mean_infiltradas = train_palabras.groupby('palabra_infiltrada')['target'].agg(['mean','count'])\n",
    "mean_infiltradas.count()"
   ]
  },
  {
   "cell_type": "code",
   "execution_count": 154,
   "metadata": {},
   "outputs": [
    {
     "data": {
      "text/plain": [
       "2.400819930621255"
      ]
     },
     "execution_count": 154,
     "metadata": {},
     "output_type": "execute_result"
    }
   ],
   "source": [
    "mean_infiltradas['count'].mean()"
   ]
  },
  {
   "cell_type": "code",
   "execution_count": 155,
   "metadata": {},
   "outputs": [
    {
     "data": {
      "text/plain": [
       "mean    141\n",
       "dtype: int64"
      ]
     },
     "execution_count": 155,
     "metadata": {},
     "output_type": "execute_result"
    }
   ],
   "source": [
    "# Dejo solo los promedios de las palabras con mas de 5 ocurrencias\n",
    "mean_infiltradas = mean_infiltradas[mean_infiltradas['count'] > 5].drop(['count'],axis=1)\n",
    "mean_infiltradas.count()"
   ]
  },
  {
   "cell_type": "markdown",
   "metadata": {},
   "source": [
    "Son pocos registros como para crear otro feature"
   ]
  },
  {
   "cell_type": "code",
   "execution_count": 156,
   "metadata": {},
   "outputs": [
    {
     "data": {
      "text/html": [
       "<div>\n",
       "<style scoped>\n",
       "    .dataframe tbody tr th:only-of-type {\n",
       "        vertical-align: middle;\n",
       "    }\n",
       "\n",
       "    .dataframe tbody tr th {\n",
       "        vertical-align: top;\n",
       "    }\n",
       "\n",
       "    .dataframe thead th {\n",
       "        text-align: right;\n",
       "    }\n",
       "</style>\n",
       "<table border=\"1\" class=\"dataframe\">\n",
       "  <thead>\n",
       "    <tr style=\"text-align: right;\">\n",
       "      <th></th>\n",
       "      <th>target</th>\n",
       "      <th>semejanza</th>\n",
       "      <th>diferencia</th>\n",
       "    </tr>\n",
       "  </thead>\n",
       "  <tbody>\n",
       "    <tr>\n",
       "      <th>0</th>\n",
       "      <td>1</td>\n",
       "      <td>0.817225</td>\n",
       "      <td>0.698188</td>\n",
       "    </tr>\n",
       "    <tr>\n",
       "      <th>1</th>\n",
       "      <td>1</td>\n",
       "      <td>0.650956</td>\n",
       "      <td>0.585544</td>\n",
       "    </tr>\n",
       "    <tr>\n",
       "      <th>2</th>\n",
       "      <td>1</td>\n",
       "      <td>0.837994</td>\n",
       "      <td>0.785140</td>\n",
       "    </tr>\n",
       "    <tr>\n",
       "      <th>3</th>\n",
       "      <td>1</td>\n",
       "      <td>0.798241</td>\n",
       "      <td>0.705008</td>\n",
       "    </tr>\n",
       "    <tr>\n",
       "      <th>4</th>\n",
       "      <td>1</td>\n",
       "      <td>0.786582</td>\n",
       "      <td>0.727637</td>\n",
       "    </tr>\n",
       "  </tbody>\n",
       "</table>\n",
       "</div>"
      ],
      "text/plain": [
       "   target  semejanza  diferencia\n",
       "0       1   0.817225    0.698188\n",
       "1       1   0.650956    0.585544\n",
       "2       1   0.837994    0.785140\n",
       "3       1   0.798241    0.705008\n",
       "4       1   0.786582    0.727637"
      ]
     },
     "execution_count": 156,
     "metadata": {},
     "output_type": "execute_result"
    }
   ],
   "source": [
    "sim_train.head()"
   ]
  },
  {
   "cell_type": "code",
   "execution_count": 157,
   "metadata": {},
   "outputs": [],
   "source": [
    "sim_train.to_csv('Archivos/train_semejanzas.csv', index=False)"
   ]
  },
  {
   "cell_type": "code",
   "execution_count": 24,
   "metadata": {},
   "outputs": [
    {
     "name": "stderr",
     "output_type": "stream",
     "text": [
      "/home/cecilia/.local/lib/python3.6/site-packages/gensim/models/keyedvectors.py:877: FutureWarning: arrays to stack must be passed as a \"sequence\" type such as list or tuple. Support for non-sequence iterables such as generators is deprecated as of NumPy 1.16 and will raise an error in the future.\n",
      "  vectors = vstack(self.word_vec(word, use_norm=True) for word in used_words).astype(REAL)\n"
     ]
    }
   ],
   "source": [
    "# Calculo la similaridad entre el texto y la palabra infiltrada\n",
    "sim_train['simil_intruso'] = train['text'].agg(lambda x: word_vectors.n_similarity(vocabulario(x), word_vectors.doesnt_match(vocabulario(x))))"
   ]
  },
  {
   "cell_type": "code",
   "execution_count": 25,
   "metadata": {},
   "outputs": [
    {
     "data": {
      "text/html": [
       "<div>\n",
       "<style scoped>\n",
       "    .dataframe tbody tr th:only-of-type {\n",
       "        vertical-align: middle;\n",
       "    }\n",
       "\n",
       "    .dataframe tbody tr th {\n",
       "        vertical-align: top;\n",
       "    }\n",
       "\n",
       "    .dataframe thead th {\n",
       "        text-align: right;\n",
       "    }\n",
       "</style>\n",
       "<table border=\"1\" class=\"dataframe\">\n",
       "  <thead>\n",
       "    <tr style=\"text-align: right;\">\n",
       "      <th></th>\n",
       "      <th>target</th>\n",
       "      <th>semejanza</th>\n",
       "      <th>diferencia</th>\n",
       "      <th>simil_intruso</th>\n",
       "    </tr>\n",
       "  </thead>\n",
       "  <tbody>\n",
       "    <tr>\n",
       "      <th>0</th>\n",
       "      <td>1</td>\n",
       "      <td>0.817225</td>\n",
       "      <td>0.698188</td>\n",
       "      <td>0.515924</td>\n",
       "    </tr>\n",
       "    <tr>\n",
       "      <th>1</th>\n",
       "      <td>1</td>\n",
       "      <td>0.650956</td>\n",
       "      <td>0.585544</td>\n",
       "      <td>0.430637</td>\n",
       "    </tr>\n",
       "    <tr>\n",
       "      <th>2</th>\n",
       "      <td>1</td>\n",
       "      <td>0.837994</td>\n",
       "      <td>0.785140</td>\n",
       "      <td>0.503261</td>\n",
       "    </tr>\n",
       "    <tr>\n",
       "      <th>3</th>\n",
       "      <td>1</td>\n",
       "      <td>0.798241</td>\n",
       "      <td>0.705008</td>\n",
       "      <td>0.432212</td>\n",
       "    </tr>\n",
       "    <tr>\n",
       "      <th>4</th>\n",
       "      <td>1</td>\n",
       "      <td>0.786582</td>\n",
       "      <td>0.727637</td>\n",
       "      <td>0.378606</td>\n",
       "    </tr>\n",
       "  </tbody>\n",
       "</table>\n",
       "</div>"
      ],
      "text/plain": [
       "   target  semejanza  diferencia  simil_intruso\n",
       "0       1   0.817225    0.698188       0.515924\n",
       "1       1   0.650956    0.585544       0.430637\n",
       "2       1   0.837994    0.785140       0.503261\n",
       "3       1   0.798241    0.705008       0.432212\n",
       "4       1   0.786582    0.727637       0.378606"
      ]
     },
     "execution_count": 25,
     "metadata": {},
     "output_type": "execute_result"
    }
   ],
   "source": [
    "sim_train.head()"
   ]
  },
  {
   "cell_type": "code",
   "execution_count": 26,
   "metadata": {},
   "outputs": [],
   "source": [
    "sim_train.to_csv('Archivos/train_semejanzas.csv', index=False)"
   ]
  },
  {
   "cell_type": "markdown",
   "metadata": {},
   "source": [
    "#### Repito el mecanismo para el archivo de test"
   ]
  },
  {
   "cell_type": "code",
   "execution_count": 158,
   "metadata": {},
   "outputs": [],
   "source": [
    "similares_test = test['text'].agg(lambda x: word_vectors.most_similar(positive=vocabulario(x), topn=1))"
   ]
  },
  {
   "cell_type": "code",
   "execution_count": 159,
   "metadata": {},
   "outputs": [
    {
     "data": {
      "text/plain": [
       "0          [(accident, 0.7852973937988281)]\n",
       "1               [(come, 0.845439612865448)]\n",
       "2              [(away, 0.8163744211196899)]\n",
       "3          [(wildfire, 0.6221873164176941)]\n",
       "4          [(mainland, 0.6732683777809143)]\n",
       "                       ...                 \n",
       "3258         [(center, 0.6763065457344055)]\n",
       "3259           [(just, 0.8925397396087646)]\n",
       "3260            [(new, 0.7113810181617737)]\n",
       "3261    [(environment, 0.7011711597442627)]\n",
       "3262       [(approved, 0.7105252146720886)]\n",
       "Name: text, Length: 3263, dtype: object"
      ]
     },
     "execution_count": 159,
     "metadata": {},
     "output_type": "execute_result"
    }
   ],
   "source": [
    "similares_test"
   ]
  },
  {
   "cell_type": "code",
   "execution_count": 160,
   "metadata": {},
   "outputs": [],
   "source": [
    "palabras_similares = [x[0][0] for x in similares_test]\n",
    "semejanzas = [x[0][1] for x in similares_test]"
   ]
  },
  {
   "cell_type": "code",
   "execution_count": 161,
   "metadata": {},
   "outputs": [
    {
     "data": {
      "text/plain": [
       "['accident', 'come', 'away', 'wildfire', 'mainland']"
      ]
     },
     "execution_count": 161,
     "metadata": {},
     "output_type": "execute_result"
    }
   ],
   "source": [
    "palabras_similares[:5]"
   ]
  },
  {
   "cell_type": "code",
   "execution_count": 162,
   "metadata": {},
   "outputs": [
    {
     "data": {
      "text/plain": [
       "[0.7852973937988281,\n",
       " 0.845439612865448,\n",
       " 0.8163744211196899,\n",
       " 0.6221873164176941,\n",
       " 0.6732683777809143]"
      ]
     },
     "execution_count": 162,
     "metadata": {},
     "output_type": "execute_result"
    }
   ],
   "source": [
    "semejanzas[0:5]"
   ]
  },
  {
   "cell_type": "code",
   "execution_count": 163,
   "metadata": {},
   "outputs": [],
   "source": [
    "sim_test = pd.DataFrame({'id':test['id'], 'semejanza':semejanzas})\n",
    "sim_test.to_csv('Archivos/test_semejanzas.csv', index=False)"
   ]
  },
  {
   "cell_type": "code",
   "execution_count": 164,
   "metadata": {},
   "outputs": [
    {
     "data": {
      "text/html": [
       "<div>\n",
       "<style scoped>\n",
       "    .dataframe tbody tr th:only-of-type {\n",
       "        vertical-align: middle;\n",
       "    }\n",
       "\n",
       "    .dataframe tbody tr th {\n",
       "        vertical-align: top;\n",
       "    }\n",
       "\n",
       "    .dataframe thead th {\n",
       "        text-align: right;\n",
       "    }\n",
       "</style>\n",
       "<table border=\"1\" class=\"dataframe\">\n",
       "  <thead>\n",
       "    <tr style=\"text-align: right;\">\n",
       "      <th></th>\n",
       "      <th>id</th>\n",
       "      <th>semejanza</th>\n",
       "    </tr>\n",
       "  </thead>\n",
       "  <tbody>\n",
       "    <tr>\n",
       "      <th>0</th>\n",
       "      <td>0</td>\n",
       "      <td>0.785297</td>\n",
       "    </tr>\n",
       "    <tr>\n",
       "      <th>1</th>\n",
       "      <td>2</td>\n",
       "      <td>0.845440</td>\n",
       "    </tr>\n",
       "    <tr>\n",
       "      <th>2</th>\n",
       "      <td>3</td>\n",
       "      <td>0.816374</td>\n",
       "    </tr>\n",
       "    <tr>\n",
       "      <th>3</th>\n",
       "      <td>9</td>\n",
       "      <td>0.622187</td>\n",
       "    </tr>\n",
       "    <tr>\n",
       "      <th>4</th>\n",
       "      <td>11</td>\n",
       "      <td>0.673268</td>\n",
       "    </tr>\n",
       "  </tbody>\n",
       "</table>\n",
       "</div>"
      ],
      "text/plain": [
       "   id  semejanza\n",
       "0   0   0.785297\n",
       "1   2   0.845440\n",
       "2   3   0.816374\n",
       "3   9   0.622187\n",
       "4  11   0.673268"
      ]
     },
     "execution_count": 164,
     "metadata": {},
     "output_type": "execute_result"
    }
   ],
   "source": [
    "sim_test.head()"
   ]
  },
  {
   "cell_type": "code",
   "execution_count": 165,
   "metadata": {},
   "outputs": [
    {
     "data": {
      "text/plain": [
       "so           180\n",
       "just         169\n",
       "one          154\n",
       "you          152\n",
       "this         137\n",
       "            ... \n",
       "displaced      1\n",
       "2008           1\n",
       "refugees       1\n",
       "2007           1\n",
       "insurance      1\n",
       "Name: palabra_similar, Length: 593, dtype: int64"
      ]
     },
     "execution_count": 165,
     "metadata": {},
     "output_type": "execute_result"
    }
   ],
   "source": [
    "test_palabras = pd.DataFrame({'id':test['id'], 'palabra_similar':palabras_similares})\n",
    "test_palabras['palabra_similar'].value_counts()"
   ]
  },
  {
   "cell_type": "code",
   "execution_count": 166,
   "metadata": {},
   "outputs": [
    {
     "data": {
      "text/html": [
       "<div>\n",
       "<style scoped>\n",
       "    .dataframe tbody tr th:only-of-type {\n",
       "        vertical-align: middle;\n",
       "    }\n",
       "\n",
       "    .dataframe tbody tr th {\n",
       "        vertical-align: top;\n",
       "    }\n",
       "\n",
       "    .dataframe thead th {\n",
       "        text-align: right;\n",
       "    }\n",
       "</style>\n",
       "<table border=\"1\" class=\"dataframe\">\n",
       "  <thead>\n",
       "    <tr style=\"text-align: right;\">\n",
       "      <th></th>\n",
       "      <th>id</th>\n",
       "      <th>semejanza</th>\n",
       "    </tr>\n",
       "  </thead>\n",
       "  <tbody>\n",
       "    <tr>\n",
       "      <th>0</th>\n",
       "      <td>0</td>\n",
       "      <td>0.785297</td>\n",
       "    </tr>\n",
       "    <tr>\n",
       "      <th>1</th>\n",
       "      <td>2</td>\n",
       "      <td>0.845440</td>\n",
       "    </tr>\n",
       "    <tr>\n",
       "      <th>2</th>\n",
       "      <td>3</td>\n",
       "      <td>0.816374</td>\n",
       "    </tr>\n",
       "    <tr>\n",
       "      <th>3</th>\n",
       "      <td>9</td>\n",
       "      <td>0.622187</td>\n",
       "    </tr>\n",
       "    <tr>\n",
       "      <th>4</th>\n",
       "      <td>11</td>\n",
       "      <td>0.673268</td>\n",
       "    </tr>\n",
       "  </tbody>\n",
       "</table>\n",
       "</div>"
      ],
      "text/plain": [
       "   id  semejanza\n",
       "0   0   0.785297\n",
       "1   2   0.845440\n",
       "2   3   0.816374\n",
       "3   9   0.622187\n",
       "4  11   0.673268"
      ]
     },
     "execution_count": 166,
     "metadata": {},
     "output_type": "execute_result"
    }
   ],
   "source": [
    "sim_test.head()"
   ]
  },
  {
   "cell_type": "code",
   "execution_count": 167,
   "metadata": {},
   "outputs": [],
   "source": [
    "# Encuentro las palabras que menos se acercan a los textos\n",
    "diferentes_test = test['text'].agg(lambda x: word_vectors.most_similar(negative=vocabulario(x), topn=1))"
   ]
  },
  {
   "cell_type": "code",
   "execution_count": 168,
   "metadata": {},
   "outputs": [
    {
     "data": {
      "text/plain": [
       "0       [(____________________________________________...\n",
       "1                            [(zety, 0.7198097109794617)]\n",
       "2                            [(zety, 0.7555083632469177)]\n",
       "3                           [(30.11, 0.4841735363006592)]\n",
       "4                          [(hoeyer, 0.5357732176780701)]\n",
       "                              ...                        \n",
       "3258                       [(3.6730, 0.6118791103363037)]\n",
       "3259    [(____________________________________________...\n",
       "3260    [(____________________________________________...\n",
       "3261                 [(kallicharran, 0.6488111615180969)]\n",
       "3262                    [(ambareesh, 0.6341420412063599)]\n",
       "Name: text, Length: 3263, dtype: object"
      ]
     },
     "execution_count": 168,
     "metadata": {},
     "output_type": "execute_result"
    }
   ],
   "source": [
    "diferentes_test"
   ]
  },
  {
   "cell_type": "code",
   "execution_count": 169,
   "metadata": {},
   "outputs": [],
   "source": [
    "palabras_diferentes_test = [x[0][0] for x in diferentes_test]\n",
    "diferencias_test = [x[0][1] for x in diferentes_test]"
   ]
  },
  {
   "cell_type": "code",
   "execution_count": 170,
   "metadata": {},
   "outputs": [
    {
     "data": {
      "text/plain": [
       "['___________________________________________________________',\n",
       " 'zety',\n",
       " 'zety',\n",
       " '30.11',\n",
       " 'hoeyer']"
      ]
     },
     "execution_count": 170,
     "metadata": {},
     "output_type": "execute_result"
    }
   ],
   "source": [
    "palabras_diferentes_test[:5]"
   ]
  },
  {
   "cell_type": "code",
   "execution_count": 171,
   "metadata": {},
   "outputs": [
    {
     "data": {
      "text/plain": [
       "[0.6520140767097473,\n",
       " 0.7198097109794617,\n",
       " 0.7555083632469177,\n",
       " 0.4841735363006592,\n",
       " 0.5357732176780701]"
      ]
     },
     "execution_count": 171,
     "metadata": {},
     "output_type": "execute_result"
    }
   ],
   "source": [
    "diferencias_test[0:5]"
   ]
  },
  {
   "cell_type": "code",
   "execution_count": 172,
   "metadata": {},
   "outputs": [],
   "source": [
    "sim_test['diferencia'] = diferencias_test"
   ]
  },
  {
   "cell_type": "code",
   "execution_count": 173,
   "metadata": {},
   "outputs": [
    {
     "data": {
      "text/html": [
       "<div>\n",
       "<style scoped>\n",
       "    .dataframe tbody tr th:only-of-type {\n",
       "        vertical-align: middle;\n",
       "    }\n",
       "\n",
       "    .dataframe tbody tr th {\n",
       "        vertical-align: top;\n",
       "    }\n",
       "\n",
       "    .dataframe thead th {\n",
       "        text-align: right;\n",
       "    }\n",
       "</style>\n",
       "<table border=\"1\" class=\"dataframe\">\n",
       "  <thead>\n",
       "    <tr style=\"text-align: right;\">\n",
       "      <th></th>\n",
       "      <th>id</th>\n",
       "      <th>semejanza</th>\n",
       "      <th>diferencia</th>\n",
       "    </tr>\n",
       "  </thead>\n",
       "  <tbody>\n",
       "    <tr>\n",
       "      <th>0</th>\n",
       "      <td>0</td>\n",
       "      <td>0.785297</td>\n",
       "      <td>0.652014</td>\n",
       "    </tr>\n",
       "    <tr>\n",
       "      <th>1</th>\n",
       "      <td>2</td>\n",
       "      <td>0.845440</td>\n",
       "      <td>0.719810</td>\n",
       "    </tr>\n",
       "    <tr>\n",
       "      <th>2</th>\n",
       "      <td>3</td>\n",
       "      <td>0.816374</td>\n",
       "      <td>0.755508</td>\n",
       "    </tr>\n",
       "    <tr>\n",
       "      <th>3</th>\n",
       "      <td>9</td>\n",
       "      <td>0.622187</td>\n",
       "      <td>0.484174</td>\n",
       "    </tr>\n",
       "    <tr>\n",
       "      <th>4</th>\n",
       "      <td>11</td>\n",
       "      <td>0.673268</td>\n",
       "      <td>0.535773</td>\n",
       "    </tr>\n",
       "  </tbody>\n",
       "</table>\n",
       "</div>"
      ],
      "text/plain": [
       "   id  semejanza  diferencia\n",
       "0   0   0.785297    0.652014\n",
       "1   2   0.845440    0.719810\n",
       "2   3   0.816374    0.755508\n",
       "3   9   0.622187    0.484174\n",
       "4  11   0.673268    0.535773"
      ]
     },
     "execution_count": 173,
     "metadata": {},
     "output_type": "execute_result"
    }
   ],
   "source": [
    "sim_test.head()"
   ]
  },
  {
   "cell_type": "code",
   "execution_count": 174,
   "metadata": {},
   "outputs": [],
   "source": [
    "sim_test.to_csv('Archivos/test_semejanzas.csv', index=False)"
   ]
  },
  {
   "cell_type": "code",
   "execution_count": 175,
   "metadata": {},
   "outputs": [
    {
     "data": {
      "text/plain": [
       "zety                                                           821\n",
       "___________________________________________________________    766\n",
       "brett.clanton@chron.com                                        235\n",
       "tom.fowler@chron.com                                           125\n",
       "ryryryryryry                                                   118\n",
       "                                                              ... \n",
       "metemma                                                          1\n",
       "huckins                                                          1\n",
       "liepa                                                            1\n",
       "gédéon                                                           1\n",
       "useni                                                            1\n",
       "Name: palabra_diferente, Length: 601, dtype: int64"
      ]
     },
     "execution_count": 175,
     "metadata": {},
     "output_type": "execute_result"
    }
   ],
   "source": [
    "test_palabras['palabra_diferente'] = palabras_diferentes_test\n",
    "test_palabras['palabra_diferente'].value_counts()"
   ]
  },
  {
   "cell_type": "code",
   "execution_count": 176,
   "metadata": {},
   "outputs": [
    {
     "data": {
      "text/html": [
       "<div>\n",
       "<style scoped>\n",
       "    .dataframe tbody tr th:only-of-type {\n",
       "        vertical-align: middle;\n",
       "    }\n",
       "\n",
       "    .dataframe tbody tr th {\n",
       "        vertical-align: top;\n",
       "    }\n",
       "\n",
       "    .dataframe thead th {\n",
       "        text-align: right;\n",
       "    }\n",
       "</style>\n",
       "<table border=\"1\" class=\"dataframe\">\n",
       "  <thead>\n",
       "    <tr style=\"text-align: right;\">\n",
       "      <th></th>\n",
       "      <th>id</th>\n",
       "      <th>semejanza</th>\n",
       "      <th>diferencia</th>\n",
       "    </tr>\n",
       "  </thead>\n",
       "  <tbody>\n",
       "    <tr>\n",
       "      <th>0</th>\n",
       "      <td>0</td>\n",
       "      <td>0.785297</td>\n",
       "      <td>0.652014</td>\n",
       "    </tr>\n",
       "    <tr>\n",
       "      <th>1</th>\n",
       "      <td>2</td>\n",
       "      <td>0.845440</td>\n",
       "      <td>0.719810</td>\n",
       "    </tr>\n",
       "    <tr>\n",
       "      <th>2</th>\n",
       "      <td>3</td>\n",
       "      <td>0.816374</td>\n",
       "      <td>0.755508</td>\n",
       "    </tr>\n",
       "    <tr>\n",
       "      <th>3</th>\n",
       "      <td>9</td>\n",
       "      <td>0.622187</td>\n",
       "      <td>0.484174</td>\n",
       "    </tr>\n",
       "    <tr>\n",
       "      <th>4</th>\n",
       "      <td>11</td>\n",
       "      <td>0.673268</td>\n",
       "      <td>0.535773</td>\n",
       "    </tr>\n",
       "  </tbody>\n",
       "</table>\n",
       "</div>"
      ],
      "text/plain": [
       "   id  semejanza  diferencia\n",
       "0   0   0.785297    0.652014\n",
       "1   2   0.845440    0.719810\n",
       "2   3   0.816374    0.755508\n",
       "3   9   0.622187    0.484174\n",
       "4  11   0.673268    0.535773"
      ]
     },
     "execution_count": 176,
     "metadata": {},
     "output_type": "execute_result"
    }
   ],
   "source": [
    "sim_test.head()"
   ]
  },
  {
   "cell_type": "code",
   "execution_count": 177,
   "metadata": {},
   "outputs": [
    {
     "name": "stderr",
     "output_type": "stream",
     "text": [
      "/home/cecilia/.local/lib/python3.6/site-packages/gensim/models/keyedvectors.py:877: FutureWarning: arrays to stack must be passed as a \"sequence\" type such as list or tuple. Support for non-sequence iterables such as generators is deprecated as of NumPy 1.16 and will raise an error in the future.\n",
      "  vectors = vstack(self.word_vec(word, use_norm=True) for word in used_words).astype(REAL)\n"
     ]
    }
   ],
   "source": [
    "# Encuentro la palabra que no coincide con el resto del texto\n",
    "infiltrados_test = test['text'].agg(lambda x: word_vectors.doesnt_match(vocabulario(x)))"
   ]
  },
  {
   "cell_type": "code",
   "execution_count": 178,
   "metadata": {},
   "outputs": [
    {
     "data": {
      "text/plain": [
       "0         terrible\n",
       "1       earthquake\n",
       "2            geese\n",
       "3          spokane\n",
       "4         soudelor\n",
       "           ...    \n",
       "3258     fasteners\n",
       "3259            ri\n",
       "3260    derailment\n",
       "3261           meg\n",
       "3262     activated\n",
       "Name: text, Length: 3263, dtype: object"
      ]
     },
     "execution_count": 178,
     "metadata": {},
     "output_type": "execute_result"
    }
   ],
   "source": [
    "infiltrados_test"
   ]
  },
  {
   "cell_type": "code",
   "execution_count": 179,
   "metadata": {},
   "outputs": [
    {
     "data": {
      "text/plain": [
       "http       659\n",
       "https      155\n",
       "û           33\n",
       "lol         22\n",
       "rt          20\n",
       "          ... \n",
       "attila       1\n",
       "dominos      1\n",
       "sens         1\n",
       "harry        1\n",
       "fire         1\n",
       "Name: palabra_infiltrada, Length: 1584, dtype: int64"
      ]
     },
     "execution_count": 179,
     "metadata": {},
     "output_type": "execute_result"
    }
   ],
   "source": [
    "test_palabras['palabra_infiltrada'] = infiltrados_test\n",
    "test_palabras['palabra_infiltrada'].value_counts()"
   ]
  },
  {
   "cell_type": "code",
   "execution_count": 29,
   "metadata": {},
   "outputs": [],
   "source": [
    "sim_test.to_csv('Archivos/test_semejanzas.csv', index=False)"
   ]
  },
  {
   "cell_type": "code",
   "execution_count": 27,
   "metadata": {},
   "outputs": [],
   "source": [
    "sim_test = pd.read_csv('Archivos/test_semejanzas.csv')"
   ]
  },
  {
   "cell_type": "code",
   "execution_count": 28,
   "metadata": {},
   "outputs": [
    {
     "name": "stderr",
     "output_type": "stream",
     "text": [
      "/home/cecilia/.local/lib/python3.6/site-packages/gensim/models/keyedvectors.py:877: FutureWarning: arrays to stack must be passed as a \"sequence\" type such as list or tuple. Support for non-sequence iterables such as generators is deprecated as of NumPy 1.16 and will raise an error in the future.\n",
      "  vectors = vstack(self.word_vec(word, use_norm=True) for word in used_words).astype(REAL)\n"
     ]
    }
   ],
   "source": [
    "# Calculo la similaridad entre el texto y la palabra infiltrada\n",
    "sim_test['simil_intruso'] = test['text'].agg(lambda x: word_vectors.n_similarity(vocabulario(x), word_vectors.doesnt_match(vocabulario(x))))"
   ]
  },
  {
   "cell_type": "code",
   "execution_count": 29,
   "metadata": {},
   "outputs": [
    {
     "data": {
      "text/html": [
       "<div>\n",
       "<style scoped>\n",
       "    .dataframe tbody tr th:only-of-type {\n",
       "        vertical-align: middle;\n",
       "    }\n",
       "\n",
       "    .dataframe tbody tr th {\n",
       "        vertical-align: top;\n",
       "    }\n",
       "\n",
       "    .dataframe thead th {\n",
       "        text-align: right;\n",
       "    }\n",
       "</style>\n",
       "<table border=\"1\" class=\"dataframe\">\n",
       "  <thead>\n",
       "    <tr style=\"text-align: right;\">\n",
       "      <th></th>\n",
       "      <th>id</th>\n",
       "      <th>semejanza</th>\n",
       "      <th>diferencia</th>\n",
       "      <th>simil_intruso</th>\n",
       "    </tr>\n",
       "  </thead>\n",
       "  <tbody>\n",
       "    <tr>\n",
       "      <th>0</th>\n",
       "      <td>0</td>\n",
       "      <td>0.785297</td>\n",
       "      <td>0.652014</td>\n",
       "      <td>0.418288</td>\n",
       "    </tr>\n",
       "    <tr>\n",
       "      <th>1</th>\n",
       "      <td>2</td>\n",
       "      <td>0.845440</td>\n",
       "      <td>0.719810</td>\n",
       "      <td>0.513763</td>\n",
       "    </tr>\n",
       "    <tr>\n",
       "      <th>2</th>\n",
       "      <td>3</td>\n",
       "      <td>0.816374</td>\n",
       "      <td>0.755508</td>\n",
       "      <td>0.347620</td>\n",
       "    </tr>\n",
       "    <tr>\n",
       "      <th>3</th>\n",
       "      <td>9</td>\n",
       "      <td>0.622187</td>\n",
       "      <td>0.484174</td>\n",
       "      <td>0.071788</td>\n",
       "    </tr>\n",
       "    <tr>\n",
       "      <th>4</th>\n",
       "      <td>11</td>\n",
       "      <td>0.673268</td>\n",
       "      <td>0.535773</td>\n",
       "      <td>0.259028</td>\n",
       "    </tr>\n",
       "  </tbody>\n",
       "</table>\n",
       "</div>"
      ],
      "text/plain": [
       "   id  semejanza  diferencia  simil_intruso\n",
       "0   0   0.785297    0.652014       0.418288\n",
       "1   2   0.845440    0.719810       0.513763\n",
       "2   3   0.816374    0.755508       0.347620\n",
       "3   9   0.622187    0.484174       0.071788\n",
       "4  11   0.673268    0.535773       0.259028"
      ]
     },
     "execution_count": 29,
     "metadata": {},
     "output_type": "execute_result"
    }
   ],
   "source": [
    "sim_test.head()"
   ]
  },
  {
   "cell_type": "code",
   "execution_count": 30,
   "metadata": {},
   "outputs": [],
   "source": [
    "sim_test.to_csv('Archivos/test_semejanzas.csv', index=False)"
   ]
  },
  {
   "cell_type": "code",
   "execution_count": null,
   "metadata": {},
   "outputs": [],
   "source": []
  },
  {
   "cell_type": "code",
   "execution_count": null,
   "metadata": {},
   "outputs": [],
   "source": []
  }
 ],
 "metadata": {
  "kernelspec": {
   "display_name": "Python 3",
   "language": "python",
   "name": "python3"
  },
  "language_info": {
   "codemirror_mode": {
    "name": "ipython",
    "version": 3
   },
   "file_extension": ".py",
   "mimetype": "text/x-python",
   "name": "python",
   "nbconvert_exporter": "python",
   "pygments_lexer": "ipython3",
   "version": "3.6.9"
  }
 },
 "nbformat": 4,
 "nbformat_minor": 4
}

{
 "cells": [
  {
   "cell_type": "code",
   "execution_count": 1,
   "metadata": {},
   "outputs": [],
   "source": [
    "import pandas as pd\n",
    "import numpy as np"
   ]
  },
  {
   "cell_type": "code",
   "execution_count": 2,
   "metadata": {},
   "outputs": [],
   "source": [
    "from sklearn.linear_model import Perceptron"
   ]
  },
  {
   "cell_type": "code",
   "execution_count": 4,
   "metadata": {},
   "outputs": [],
   "source": [
    "from sklearn.model_selection import train_test_split\n",
    "from sklearn.metrics import accuracy_score"
   ]
  },
  {
   "cell_type": "code",
   "execution_count": 122,
   "metadata": {},
   "outputs": [],
   "source": [
    "train = pd.read_csv('Archivos/train_8_features.csv')\n",
    "test = pd.read_csv('Archivos/test_8_features.csv')"
   ]
  },
  {
   "cell_type": "code",
   "execution_count": 107,
   "metadata": {},
   "outputs": [
    {
     "data": {
      "text/html": [
       "<div>\n",
       "<style scoped>\n",
       "    .dataframe tbody tr th:only-of-type {\n",
       "        vertical-align: middle;\n",
       "    }\n",
       "\n",
       "    .dataframe tbody tr th {\n",
       "        vertical-align: top;\n",
       "    }\n",
       "\n",
       "    .dataframe thead th {\n",
       "        text-align: right;\n",
       "    }\n",
       "</style>\n",
       "<table border=\"1\" class=\"dataframe\">\n",
       "  <thead>\n",
       "    <tr style=\"text-align: right;\">\n",
       "      <th></th>\n",
       "      <th>target</th>\n",
       "      <th>longitud_text</th>\n",
       "      <th>cantidad_palabras</th>\n",
       "      <th>keyword_mean</th>\n",
       "      <th>location_mean</th>\n",
       "      <th>numerales</th>\n",
       "      <th>cant_palabras_relevantes</th>\n",
       "      <th>long_palabra_larga</th>\n",
       "      <th>long_palabra_corta</th>\n",
       "    </tr>\n",
       "  </thead>\n",
       "  <tbody>\n",
       "    <tr>\n",
       "      <th>0</th>\n",
       "      <td>1</td>\n",
       "      <td>69</td>\n",
       "      <td>13</td>\n",
       "      <td>0.688525</td>\n",
       "      <td>0.424398</td>\n",
       "      <td>1</td>\n",
       "      <td>8</td>\n",
       "      <td>9</td>\n",
       "      <td>2</td>\n",
       "    </tr>\n",
       "    <tr>\n",
       "      <th>1</th>\n",
       "      <td>1</td>\n",
       "      <td>38</td>\n",
       "      <td>7</td>\n",
       "      <td>0.688525</td>\n",
       "      <td>0.424398</td>\n",
       "      <td>0</td>\n",
       "      <td>7</td>\n",
       "      <td>6</td>\n",
       "      <td>2</td>\n",
       "    </tr>\n",
       "    <tr>\n",
       "      <th>2</th>\n",
       "      <td>1</td>\n",
       "      <td>133</td>\n",
       "      <td>22</td>\n",
       "      <td>0.688525</td>\n",
       "      <td>0.424398</td>\n",
       "      <td>0</td>\n",
       "      <td>13</td>\n",
       "      <td>7</td>\n",
       "      <td>2</td>\n",
       "    </tr>\n",
       "    <tr>\n",
       "      <th>3</th>\n",
       "      <td>1</td>\n",
       "      <td>65</td>\n",
       "      <td>8</td>\n",
       "      <td>0.688525</td>\n",
       "      <td>0.424398</td>\n",
       "      <td>1</td>\n",
       "      <td>8</td>\n",
       "      <td>10</td>\n",
       "      <td>2</td>\n",
       "    </tr>\n",
       "    <tr>\n",
       "      <th>4</th>\n",
       "      <td>1</td>\n",
       "      <td>88</td>\n",
       "      <td>16</td>\n",
       "      <td>0.688525</td>\n",
       "      <td>0.424398</td>\n",
       "      <td>2</td>\n",
       "      <td>10</td>\n",
       "      <td>7</td>\n",
       "      <td>3</td>\n",
       "    </tr>\n",
       "  </tbody>\n",
       "</table>\n",
       "</div>"
      ],
      "text/plain": [
       "   target  longitud_text  cantidad_palabras  keyword_mean  location_mean  \\\n",
       "0       1             69                 13      0.688525       0.424398   \n",
       "1       1             38                  7      0.688525       0.424398   \n",
       "2       1            133                 22      0.688525       0.424398   \n",
       "3       1             65                  8      0.688525       0.424398   \n",
       "4       1             88                 16      0.688525       0.424398   \n",
       "\n",
       "   numerales  cant_palabras_relevantes  long_palabra_larga  long_palabra_corta  \n",
       "0          1                         8                   9                   2  \n",
       "1          0                         7                   6                   2  \n",
       "2          0                        13                   7                   2  \n",
       "3          1                         8                  10                   2  \n",
       "4          2                        10                   7                   3  "
      ]
     },
     "execution_count": 107,
     "metadata": {},
     "output_type": "execute_result"
    }
   ],
   "source": [
    "train.head()"
   ]
  },
  {
   "cell_type": "code",
   "execution_count": 123,
   "metadata": {},
   "outputs": [
    {
     "data": {
      "text/html": [
       "<div>\n",
       "<style scoped>\n",
       "    .dataframe tbody tr th:only-of-type {\n",
       "        vertical-align: middle;\n",
       "    }\n",
       "\n",
       "    .dataframe tbody tr th {\n",
       "        vertical-align: top;\n",
       "    }\n",
       "\n",
       "    .dataframe thead th {\n",
       "        text-align: right;\n",
       "    }\n",
       "</style>\n",
       "<table border=\"1\" class=\"dataframe\">\n",
       "  <thead>\n",
       "    <tr style=\"text-align: right;\">\n",
       "      <th></th>\n",
       "      <th>id</th>\n",
       "      <th>longitud_text</th>\n",
       "      <th>cantidad_palabras</th>\n",
       "      <th>keyword_mean</th>\n",
       "      <th>location_mean</th>\n",
       "      <th>numerales</th>\n",
       "      <th>cant_palabras_relevantes</th>\n",
       "      <th>long_palabra_larga</th>\n",
       "      <th>long_palabra_corta</th>\n",
       "    </tr>\n",
       "  </thead>\n",
       "  <tbody>\n",
       "    <tr>\n",
       "      <th>0</th>\n",
       "      <td>0</td>\n",
       "      <td>34</td>\n",
       "      <td>6</td>\n",
       "      <td>0.688525</td>\n",
       "      <td>0.424398</td>\n",
       "      <td>0</td>\n",
       "      <td>5</td>\n",
       "      <td>7</td>\n",
       "      <td>3</td>\n",
       "    </tr>\n",
       "    <tr>\n",
       "      <th>1</th>\n",
       "      <td>2</td>\n",
       "      <td>64</td>\n",
       "      <td>9</td>\n",
       "      <td>0.688525</td>\n",
       "      <td>0.424398</td>\n",
       "      <td>1</td>\n",
       "      <td>7</td>\n",
       "      <td>9</td>\n",
       "      <td>4</td>\n",
       "    </tr>\n",
       "    <tr>\n",
       "      <th>2</th>\n",
       "      <td>3</td>\n",
       "      <td>96</td>\n",
       "      <td>19</td>\n",
       "      <td>0.688525</td>\n",
       "      <td>0.424398</td>\n",
       "      <td>0</td>\n",
       "      <td>11</td>\n",
       "      <td>6</td>\n",
       "      <td>1</td>\n",
       "    </tr>\n",
       "    <tr>\n",
       "      <th>3</th>\n",
       "      <td>9</td>\n",
       "      <td>40</td>\n",
       "      <td>4</td>\n",
       "      <td>0.688525</td>\n",
       "      <td>0.424398</td>\n",
       "      <td>2</td>\n",
       "      <td>4</td>\n",
       "      <td>9</td>\n",
       "      <td>5</td>\n",
       "    </tr>\n",
       "    <tr>\n",
       "      <th>4</th>\n",
       "      <td>11</td>\n",
       "      <td>45</td>\n",
       "      <td>8</td>\n",
       "      <td>0.688525</td>\n",
       "      <td>0.424398</td>\n",
       "      <td>0</td>\n",
       "      <td>6</td>\n",
       "      <td>8</td>\n",
       "      <td>2</td>\n",
       "    </tr>\n",
       "  </tbody>\n",
       "</table>\n",
       "</div>"
      ],
      "text/plain": [
       "   id  longitud_text  cantidad_palabras  keyword_mean  location_mean  \\\n",
       "0   0             34                  6      0.688525       0.424398   \n",
       "1   2             64                  9      0.688525       0.424398   \n",
       "2   3             96                 19      0.688525       0.424398   \n",
       "3   9             40                  4      0.688525       0.424398   \n",
       "4  11             45                  8      0.688525       0.424398   \n",
       "\n",
       "   numerales  cant_palabras_relevantes  long_palabra_larga  long_palabra_corta  \n",
       "0          0                         5                   7                   3  \n",
       "1          1                         7                   9                   4  \n",
       "2          0                        11                   6                   1  \n",
       "3          2                         4                   9                   5  \n",
       "4          0                         6                   8                   2  "
      ]
     },
     "execution_count": 123,
     "metadata": {},
     "output_type": "execute_result"
    }
   ],
   "source": [
    "test.head()"
   ]
  },
  {
   "cell_type": "code",
   "execution_count": 111,
   "metadata": {},
   "outputs": [],
   "source": [
    "X, y = train.iloc[:,1:], train.iloc[:,0]"
   ]
  },
  {
   "cell_type": "code",
   "execution_count": 44,
   "metadata": {},
   "outputs": [],
   "source": [
    "X_train, X_test, y_train, y_test = \\\n",
    "    train_test_split(X, y, test_size=0.2, random_state=123)"
   ]
  },
  {
   "cell_type": "code",
   "execution_count": 47,
   "metadata": {},
   "outputs": [],
   "source": [
    "clf = Perceptron(random_state=123, max_iter=1000, tol=1e-3)"
   ]
  },
  {
   "cell_type": "code",
   "execution_count": 48,
   "metadata": {},
   "outputs": [
    {
     "data": {
      "text/plain": [
       "Perceptron(alpha=0.0001, class_weight=None, early_stopping=False, eta0=1.0,\n",
       "      fit_intercept=True, max_iter=1000, n_iter=None, n_iter_no_change=5,\n",
       "      n_jobs=None, penalty=None, random_state=123, shuffle=True, tol=0.001,\n",
       "      validation_fraction=0.1, verbose=0, warm_start=False)"
      ]
     },
     "execution_count": 48,
     "metadata": {},
     "output_type": "execute_result"
    }
   ],
   "source": [
    "clf.fit(X, y)"
   ]
  },
  {
   "cell_type": "code",
   "execution_count": 49,
   "metadata": {},
   "outputs": [
    {
     "data": {
      "text/plain": [
       "0.7941678707474058"
      ]
     },
     "execution_count": 49,
     "metadata": {},
     "output_type": "execute_result"
    }
   ],
   "source": [
    "clf.score(X, y)"
   ]
  },
  {
   "cell_type": "code",
   "execution_count": 62,
   "metadata": {},
   "outputs": [
    {
     "data": {
      "text/plain": [
       "Perceptron(alpha=0.0001, class_weight=None, early_stopping=False, eta0=1.0,\n",
       "      fit_intercept=True, max_iter=1000, n_iter=None, n_iter_no_change=5,\n",
       "      n_jobs=None, penalty=None, random_state=123, shuffle=True, tol=0.001,\n",
       "      validation_fraction=0.1, verbose=0, warm_start=False)"
      ]
     },
     "execution_count": 62,
     "metadata": {},
     "output_type": "execute_result"
    }
   ],
   "source": [
    "clf.fit(X_train, y_train)"
   ]
  },
  {
   "cell_type": "code",
   "execution_count": 63,
   "metadata": {},
   "outputs": [],
   "source": [
    "preds = clf.predict(X_test)"
   ]
  },
  {
   "cell_type": "code",
   "execution_count": 84,
   "metadata": {},
   "outputs": [
    {
     "data": {
      "text/plain": [
       "0.65725541694024947"
      ]
     },
     "execution_count": 84,
     "metadata": {},
     "output_type": "execute_result"
    }
   ],
   "source": [
    "accuracy_score(y_test, preds)"
   ]
  },
  {
   "cell_type": "code",
   "execution_count": 85,
   "metadata": {},
   "outputs": [
    {
     "data": {
      "text/plain": [
       "0.65205254515599342"
      ]
     },
     "execution_count": 85,
     "metadata": {},
     "output_type": "execute_result"
    }
   ],
   "source": [
    "clf.score(X_train, y_train)"
   ]
  },
  {
   "cell_type": "code",
   "execution_count": 65,
   "metadata": {},
   "outputs": [],
   "source": [
    "penalty = None\n",
    "alpha = 0.0001\n",
    "eta0 = 1\n",
    "early_stopping = False\n",
    "validation_fraction = 0.1\n",
    "n_iter_no_change = 5\n",
    "max_iter = 1000"
   ]
  },
  {
   "cell_type": "code",
   "execution_count": 86,
   "metadata": {},
   "outputs": [],
   "source": [
    "def hiperparametros():\n",
    "    clf = Perceptron(random_state=123, max_iter=max_iter, tol=1e-3,\\\n",
    "                    penalty=penalty, alpha=alpha, eta0=eta0,\\\n",
    "                    early_stopping=early_stopping, validation_fraction=validation_fraction,\\\n",
    "                    n_iter_no_change=n_iter_no_change)\n",
    "    clf.fit(X_train,y_train)\n",
    "    preds = clf.predict(X_test)\n",
    "    print(\"\\tAccuracy: %f\" % accuracy_score(y_test, preds))"
   ]
  },
  {
   "cell_type": "code",
   "execution_count": 87,
   "metadata": {},
   "outputs": [
    {
     "name": "stdout",
     "output_type": "stream",
     "text": [
      "Penalty: l2\n",
      "\tAccuracy: 0.577150\n",
      "Penalty: l1\n",
      "\tAccuracy: 0.637557\n",
      "Penalty: elasticnet\n",
      "\tAccuracy: 0.577150\n",
      "Penalty: None\n",
      "\tAccuracy: 0.673670\n"
     ]
    }
   ],
   "source": [
    "for i in ['l2','l1','elasticnet',None]:\n",
    "    penalty = i\n",
    "    print(\"Penalty: %s\" % i)\n",
    "    hiperparametros()"
   ]
  },
  {
   "cell_type": "code",
   "execution_count": 88,
   "metadata": {},
   "outputs": [
    {
     "name": "stdout",
     "output_type": "stream",
     "text": [
      "Alpha: 0.1\n",
      "\tAccuracy: 0.673670\n",
      "Alpha: 0.2\n",
      "\tAccuracy: 0.673670\n",
      "Alpha: 0.3\n",
      "\tAccuracy: 0.673670\n",
      "Alpha: 0.9\n",
      "\tAccuracy: 0.673670\n",
      "Alpha: 0.05\n",
      "\tAccuracy: 0.673670\n",
      "Alpha: 0.0001\n",
      "\tAccuracy: 0.673670\n"
     ]
    }
   ],
   "source": [
    "for i in [0.1,0.2,0.3,0.9,0.05,0.0001]:\n",
    "    alpha = i\n",
    "    print(\"Alpha: %s\" % i)\n",
    "    hiperparametros()"
   ]
  },
  {
   "cell_type": "code",
   "execution_count": 89,
   "metadata": {},
   "outputs": [
    {
     "name": "stdout",
     "output_type": "stream",
     "text": [
      "eta0: 1\n",
      "\tAccuracy: 0.673670\n",
      "eta0: 2\n",
      "\tAccuracy: 0.673670\n",
      "eta0: 5\n",
      "\tAccuracy: 0.673670\n",
      "eta0: 10\n",
      "\tAccuracy: 0.673670\n"
     ]
    }
   ],
   "source": [
    "for i in [1,2,5,10]:\n",
    "    eta0 = i\n",
    "    print(\"eta0: %s\" % i)\n",
    "    hiperparametros()"
   ]
  },
  {
   "cell_type": "code",
   "execution_count": 90,
   "metadata": {},
   "outputs": [
    {
     "name": "stdout",
     "output_type": "stream",
     "text": [
      "early_stopping: True\n",
      "\tAccuracy: 0.673670\n",
      "early_stopping: False\n",
      "\tAccuracy: 0.843073\n"
     ]
    }
   ],
   "source": [
    "for i in [True, False]:\n",
    "    early_stopping = i\n",
    "    print(\"early_stopping: %s\" % i)\n",
    "    hiperparametros()"
   ]
  },
  {
   "cell_type": "code",
   "execution_count": 91,
   "metadata": {},
   "outputs": [
    {
     "name": "stdout",
     "output_type": "stream",
     "text": [
      "validation_fraction: 0.01\n",
      "\tAccuracy: 0.843073\n",
      "validation_fraction: 0.1\n",
      "\tAccuracy: 0.843073\n",
      "validation_fraction: 0.2\n",
      "\tAccuracy: 0.843073\n",
      "validation_fraction: 0.3\n",
      "\tAccuracy: 0.843073\n",
      "validation_fraction: 0.9\n",
      "\tAccuracy: 0.843073\n"
     ]
    }
   ],
   "source": [
    "for i in [0.01,0.1,0.2,0.3,0.9]:\n",
    "    validation_fraction = i\n",
    "    print(\"validation_fraction: %s\" % i)\n",
    "    hiperparametros()"
   ]
  },
  {
   "cell_type": "code",
   "execution_count": 92,
   "metadata": {},
   "outputs": [
    {
     "name": "stdout",
     "output_type": "stream",
     "text": [
      "n_iter_no_change: 3\n",
      "\tAccuracy: 0.673014\n",
      "n_iter_no_change: 5\n",
      "\tAccuracy: 0.657255\n",
      "n_iter_no_change: 1\n",
      "\tAccuracy: 0.693368\n",
      "n_iter_no_change: 7\n",
      "\tAccuracy: 0.611950\n",
      "n_iter_no_change: 10\n",
      "\tAccuracy: 0.856861\n",
      "n_iter_no_change: 20\n",
      "\tAccuracy: 0.718976\n"
     ]
    }
   ],
   "source": [
    "for i in [3,5,1,7,10,20]:\n",
    "    n_iter_no_change = i\n",
    "    print(\"n_iter_no_change: %s\" % i)\n",
    "    hiperparametros()"
   ]
  },
  {
   "cell_type": "code",
   "execution_count": 94,
   "metadata": {},
   "outputs": [
    {
     "name": "stdout",
     "output_type": "stream",
     "text": [
      "n_iter_no_change: 15\n",
      "\tAccuracy: 0.712410\n",
      "n_iter_no_change: 17\n",
      "\tAccuracy: 0.833880\n",
      "n_iter_no_change: 18\n",
      "\tAccuracy: 0.736047\n",
      "n_iter_no_change: 19\n",
      "\tAccuracy: 0.833224\n",
      "n_iter_no_change: 20\n",
      "\tAccuracy: 0.718976\n",
      "n_iter_no_change: 21\n",
      "\tAccuracy: 0.843729\n",
      "n_iter_no_change: 22\n",
      "\tAccuracy: 0.792515\n",
      "n_iter_no_change: 23\n",
      "\tAccuracy: 0.848982\n",
      "n_iter_no_change: 25\n",
      "\tAccuracy: 0.860801\n",
      "n_iter_no_change: 30\n",
      "\tAccuracy: 0.843073\n"
     ]
    }
   ],
   "source": [
    "for i in [15,17,18,19,20,21,22,23,25,30]:\n",
    "    n_iter_no_change = i\n",
    "    print(\"n_iter_no_change: %s\" % i)\n",
    "    hiperparametros()"
   ]
  },
  {
   "cell_type": "code",
   "execution_count": 95,
   "metadata": {},
   "outputs": [],
   "source": [
    "n_iter_no_change = 25"
   ]
  },
  {
   "cell_type": "code",
   "execution_count": 112,
   "metadata": {},
   "outputs": [
    {
     "data": {
      "text/plain": [
       "Perceptron(alpha=0.0001, class_weight=None, early_stopping=False, eta0=1.0,\n",
       "      fit_intercept=True, max_iter=1000, n_iter=None, n_iter_no_change=5,\n",
       "      n_jobs=None, penalty=None, random_state=123, shuffle=True, tol=0.001,\n",
       "      validation_fraction=0.1, verbose=0, warm_start=False)"
      ]
     },
     "execution_count": 112,
     "metadata": {},
     "output_type": "execute_result"
    }
   ],
   "source": [
    "clf.fit(X, y)"
   ]
  },
  {
   "cell_type": "code",
   "execution_count": 124,
   "metadata": {},
   "outputs": [],
   "source": [
    "preds = clf.predict(test.drop(['id'], axis=1))"
   ]
  },
  {
   "cell_type": "code",
   "execution_count": 125,
   "metadata": {},
   "outputs": [
    {
     "data": {
      "text/plain": [
       "3263"
      ]
     },
     "execution_count": 125,
     "metadata": {},
     "output_type": "execute_result"
    }
   ],
   "source": [
    "len(preds)"
   ]
  },
  {
   "cell_type": "code",
   "execution_count": 126,
   "metadata": {},
   "outputs": [
    {
     "data": {
      "text/html": [
       "<div>\n",
       "<style scoped>\n",
       "    .dataframe tbody tr th:only-of-type {\n",
       "        vertical-align: middle;\n",
       "    }\n",
       "\n",
       "    .dataframe tbody tr th {\n",
       "        vertical-align: top;\n",
       "    }\n",
       "\n",
       "    .dataframe thead th {\n",
       "        text-align: right;\n",
       "    }\n",
       "</style>\n",
       "<table border=\"1\" class=\"dataframe\">\n",
       "  <thead>\n",
       "    <tr style=\"text-align: right;\">\n",
       "      <th></th>\n",
       "      <th>id</th>\n",
       "      <th>longitud_text</th>\n",
       "      <th>cantidad_palabras</th>\n",
       "      <th>keyword_mean</th>\n",
       "      <th>location_mean</th>\n",
       "      <th>numerales</th>\n",
       "      <th>cant_palabras_relevantes</th>\n",
       "      <th>long_palabra_larga</th>\n",
       "      <th>long_palabra_corta</th>\n",
       "    </tr>\n",
       "  </thead>\n",
       "  <tbody>\n",
       "    <tr>\n",
       "      <th>0</th>\n",
       "      <td>0</td>\n",
       "      <td>34</td>\n",
       "      <td>6</td>\n",
       "      <td>0.688525</td>\n",
       "      <td>0.424398</td>\n",
       "      <td>0</td>\n",
       "      <td>5</td>\n",
       "      <td>7</td>\n",
       "      <td>3</td>\n",
       "    </tr>\n",
       "    <tr>\n",
       "      <th>1</th>\n",
       "      <td>2</td>\n",
       "      <td>64</td>\n",
       "      <td>9</td>\n",
       "      <td>0.688525</td>\n",
       "      <td>0.424398</td>\n",
       "      <td>1</td>\n",
       "      <td>7</td>\n",
       "      <td>9</td>\n",
       "      <td>4</td>\n",
       "    </tr>\n",
       "    <tr>\n",
       "      <th>2</th>\n",
       "      <td>3</td>\n",
       "      <td>96</td>\n",
       "      <td>19</td>\n",
       "      <td>0.688525</td>\n",
       "      <td>0.424398</td>\n",
       "      <td>0</td>\n",
       "      <td>11</td>\n",
       "      <td>6</td>\n",
       "      <td>1</td>\n",
       "    </tr>\n",
       "    <tr>\n",
       "      <th>3</th>\n",
       "      <td>9</td>\n",
       "      <td>40</td>\n",
       "      <td>4</td>\n",
       "      <td>0.688525</td>\n",
       "      <td>0.424398</td>\n",
       "      <td>2</td>\n",
       "      <td>4</td>\n",
       "      <td>9</td>\n",
       "      <td>5</td>\n",
       "    </tr>\n",
       "    <tr>\n",
       "      <th>4</th>\n",
       "      <td>11</td>\n",
       "      <td>45</td>\n",
       "      <td>8</td>\n",
       "      <td>0.688525</td>\n",
       "      <td>0.424398</td>\n",
       "      <td>0</td>\n",
       "      <td>6</td>\n",
       "      <td>8</td>\n",
       "      <td>2</td>\n",
       "    </tr>\n",
       "  </tbody>\n",
       "</table>\n",
       "</div>"
      ],
      "text/plain": [
       "   id  longitud_text  cantidad_palabras  keyword_mean  location_mean  \\\n",
       "0   0             34                  6      0.688525       0.424398   \n",
       "1   2             64                  9      0.688525       0.424398   \n",
       "2   3             96                 19      0.688525       0.424398   \n",
       "3   9             40                  4      0.688525       0.424398   \n",
       "4  11             45                  8      0.688525       0.424398   \n",
       "\n",
       "   numerales  cant_palabras_relevantes  long_palabra_larga  long_palabra_corta  \n",
       "0          0                         5                   7                   3  \n",
       "1          1                         7                   9                   4  \n",
       "2          0                        11                   6                   1  \n",
       "3          2                         4                   9                   5  \n",
       "4          0                         6                   8                   2  "
      ]
     },
     "execution_count": 126,
     "metadata": {},
     "output_type": "execute_result"
    }
   ],
   "source": [
    "test.head()"
   ]
  },
  {
   "cell_type": "code",
   "execution_count": 127,
   "metadata": {},
   "outputs": [],
   "source": [
    "target = pd.DataFrame({'id':test['id'], 'target':preds})\n",
    "target.to_csv('Submits/submit_perceptron_1.csv', index=False)"
   ]
  },
  {
   "cell_type": "code",
   "execution_count": null,
   "metadata": {},
   "outputs": [],
   "source": []
  }
 ],
 "metadata": {
  "kernelspec": {
   "display_name": "Python 3",
   "language": "python",
   "name": "python3"
  },
  "language_info": {
   "codemirror_mode": {
    "name": "ipython",
    "version": 2
   },
   "file_extension": ".py",
   "mimetype": "text/x-python",
   "name": "python",
   "nbconvert_exporter": "python",
   "pygments_lexer": "ipython2",
   "version": "2.7.17"
  }
 },
 "nbformat": 4,
 "nbformat_minor": 2
}
